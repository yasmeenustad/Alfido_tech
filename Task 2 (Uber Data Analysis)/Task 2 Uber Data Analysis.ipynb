{
 "cells": [
  {
   "cell_type": "markdown",
   "id": "9c406fd0",
   "metadata": {},
   "source": [
    "# Importing the Libraries:"
   ]
  },
  {
   "cell_type": "code",
   "execution_count": 1,
   "id": "213aa6c3",
   "metadata": {},
   "outputs": [],
   "source": [
    "import pandas as pd\n",
    "import numpy as np\n",
    "import matplotlib.pyplot as plt\n",
    "import seaborn as sns"
   ]
  },
  {
   "cell_type": "markdown",
   "id": "baacb66d",
   "metadata": {},
   "source": [
    "# Upload Data:"
   ]
  },
  {
   "cell_type": "code",
   "execution_count": 2,
   "id": "e7719af3",
   "metadata": {},
   "outputs": [],
   "source": [
    "df = pd.read_csv(r\"C:\\Users\\dell6\\OneDrive\\Desktop\\Yashu jobs\\By Yashu\\Alfido Tech\\Tasks\\Task 2 UberDataset.csv\")"
   ]
  },
  {
   "cell_type": "markdown",
   "id": "b99e4382",
   "metadata": {},
   "source": [
    "# Data Exploration:"
   ]
  },
  {
   "cell_type": "markdown",
   "id": "3649a495",
   "metadata": {},
   "source": [
    "#### First five rows of the dataset:"
   ]
  },
  {
   "cell_type": "code",
   "execution_count": 3,
   "id": "698cef26",
   "metadata": {},
   "outputs": [
    {
     "data": {
      "text/html": [
       "<div>\n",
       "<style scoped>\n",
       "    .dataframe tbody tr th:only-of-type {\n",
       "        vertical-align: middle;\n",
       "    }\n",
       "\n",
       "    .dataframe tbody tr th {\n",
       "        vertical-align: top;\n",
       "    }\n",
       "\n",
       "    .dataframe thead th {\n",
       "        text-align: right;\n",
       "    }\n",
       "</style>\n",
       "<table border=\"1\" class=\"dataframe\">\n",
       "  <thead>\n",
       "    <tr style=\"text-align: right;\">\n",
       "      <th></th>\n",
       "      <th>START_DATE</th>\n",
       "      <th>END_DATE</th>\n",
       "      <th>CATEGORY</th>\n",
       "      <th>START</th>\n",
       "      <th>STOP</th>\n",
       "      <th>MILES</th>\n",
       "      <th>PURPOSE</th>\n",
       "    </tr>\n",
       "  </thead>\n",
       "  <tbody>\n",
       "    <tr>\n",
       "      <th>0</th>\n",
       "      <td>01-01-2016 21:11</td>\n",
       "      <td>01-01-2016 21:17</td>\n",
       "      <td>Business</td>\n",
       "      <td>Fort Pierce</td>\n",
       "      <td>Fort Pierce</td>\n",
       "      <td>5.1</td>\n",
       "      <td>Meal/Entertain</td>\n",
       "    </tr>\n",
       "    <tr>\n",
       "      <th>1</th>\n",
       "      <td>01-02-2016 01:25</td>\n",
       "      <td>01-02-2016 01:37</td>\n",
       "      <td>Business</td>\n",
       "      <td>Fort Pierce</td>\n",
       "      <td>Fort Pierce</td>\n",
       "      <td>5.0</td>\n",
       "      <td>NaN</td>\n",
       "    </tr>\n",
       "    <tr>\n",
       "      <th>2</th>\n",
       "      <td>01-02-2016 20:25</td>\n",
       "      <td>01-02-2016 20:38</td>\n",
       "      <td>Business</td>\n",
       "      <td>Fort Pierce</td>\n",
       "      <td>Fort Pierce</td>\n",
       "      <td>4.8</td>\n",
       "      <td>Errand/Supplies</td>\n",
       "    </tr>\n",
       "    <tr>\n",
       "      <th>3</th>\n",
       "      <td>01-05-2016 17:31</td>\n",
       "      <td>01-05-2016 17:45</td>\n",
       "      <td>Business</td>\n",
       "      <td>Fort Pierce</td>\n",
       "      <td>Fort Pierce</td>\n",
       "      <td>4.7</td>\n",
       "      <td>Meeting</td>\n",
       "    </tr>\n",
       "    <tr>\n",
       "      <th>4</th>\n",
       "      <td>01-06-2016 14:42</td>\n",
       "      <td>01-06-2016 15:49</td>\n",
       "      <td>Business</td>\n",
       "      <td>Fort Pierce</td>\n",
       "      <td>West Palm Beach</td>\n",
       "      <td>63.7</td>\n",
       "      <td>Customer Visit</td>\n",
       "    </tr>\n",
       "  </tbody>\n",
       "</table>\n",
       "</div>"
      ],
      "text/plain": [
       "         START_DATE          END_DATE  CATEGORY        START             STOP  \\\n",
       "0  01-01-2016 21:11  01-01-2016 21:17  Business  Fort Pierce      Fort Pierce   \n",
       "1  01-02-2016 01:25  01-02-2016 01:37  Business  Fort Pierce      Fort Pierce   \n",
       "2  01-02-2016 20:25  01-02-2016 20:38  Business  Fort Pierce      Fort Pierce   \n",
       "3  01-05-2016 17:31  01-05-2016 17:45  Business  Fort Pierce      Fort Pierce   \n",
       "4  01-06-2016 14:42  01-06-2016 15:49  Business  Fort Pierce  West Palm Beach   \n",
       "\n",
       "   MILES          PURPOSE  \n",
       "0    5.1   Meal/Entertain  \n",
       "1    5.0              NaN  \n",
       "2    4.8  Errand/Supplies  \n",
       "3    4.7          Meeting  \n",
       "4   63.7   Customer Visit  "
      ]
     },
     "execution_count": 3,
     "metadata": {},
     "output_type": "execute_result"
    }
   ],
   "source": [
    "df.head()"
   ]
  },
  {
   "cell_type": "markdown",
   "id": "e74dbb8e",
   "metadata": {},
   "source": [
    "#### About data:"
   ]
  },
  {
   "cell_type": "raw",
   "id": "10429b0a",
   "metadata": {},
   "source": [
    "START_DATE: The date and time when the Uber ride started.\n",
    "\n",
    "END_DATE: The date and time when the Uber ride ended.\n",
    "\n",
    "CATEGORY: The category of the ride.\n",
    "\n",
    "START: The starting location of the Uber ride.\n",
    "\n",
    "STOP: The destination or stopping location of the Uber ride.\n",
    "\n",
    "MILES: The distance covered during the Uber ride in miles.\n",
    "\n",
    "PURPOSE: The purpose or reason for the Uber ride"
   ]
  },
  {
   "cell_type": "markdown",
   "id": "bccdbb1a",
   "metadata": {},
   "source": [
    "#### Shape of the dataset:"
   ]
  },
  {
   "cell_type": "code",
   "execution_count": 4,
   "id": "3e3e50d2",
   "metadata": {},
   "outputs": [
    {
     "data": {
      "text/plain": [
       "(1156, 7)"
      ]
     },
     "execution_count": 4,
     "metadata": {},
     "output_type": "execute_result"
    }
   ],
   "source": [
    "df.shape"
   ]
  },
  {
   "cell_type": "markdown",
   "id": "5c9694c8",
   "metadata": {},
   "source": [
    "#### Columns in the dataset:"
   ]
  },
  {
   "cell_type": "code",
   "execution_count": 5,
   "id": "9e79231a",
   "metadata": {},
   "outputs": [
    {
     "data": {
      "text/plain": [
       "Index(['START_DATE', 'END_DATE', 'CATEGORY', 'START', 'STOP', 'MILES',\n",
       "       'PURPOSE'],\n",
       "      dtype='object')"
      ]
     },
     "execution_count": 5,
     "metadata": {},
     "output_type": "execute_result"
    }
   ],
   "source": [
    "df.columns"
   ]
  },
  {
   "cell_type": "markdown",
   "id": "6c143b4f",
   "metadata": {},
   "source": [
    "#### Data type of columns:"
   ]
  },
  {
   "cell_type": "code",
   "execution_count": 6,
   "id": "709f1b7a",
   "metadata": {},
   "outputs": [
    {
     "data": {
      "text/plain": [
       "START_DATE     object\n",
       "END_DATE       object\n",
       "CATEGORY       object\n",
       "START          object\n",
       "STOP           object\n",
       "MILES         float64\n",
       "PURPOSE        object\n",
       "dtype: object"
      ]
     },
     "execution_count": 6,
     "metadata": {},
     "output_type": "execute_result"
    }
   ],
   "source": [
    "df.dtypes"
   ]
  },
  {
   "cell_type": "markdown",
   "id": "d6d6f4bc",
   "metadata": {},
   "source": [
    "#### Summary of the Numeric data:"
   ]
  },
  {
   "cell_type": "code",
   "execution_count": 7,
   "id": "cd69a673",
   "metadata": {},
   "outputs": [
    {
     "data": {
      "text/html": [
       "<div>\n",
       "<style scoped>\n",
       "    .dataframe tbody tr th:only-of-type {\n",
       "        vertical-align: middle;\n",
       "    }\n",
       "\n",
       "    .dataframe tbody tr th {\n",
       "        vertical-align: top;\n",
       "    }\n",
       "\n",
       "    .dataframe thead th {\n",
       "        text-align: right;\n",
       "    }\n",
       "</style>\n",
       "<table border=\"1\" class=\"dataframe\">\n",
       "  <thead>\n",
       "    <tr style=\"text-align: right;\">\n",
       "      <th></th>\n",
       "      <th>MILES</th>\n",
       "    </tr>\n",
       "  </thead>\n",
       "  <tbody>\n",
       "    <tr>\n",
       "      <th>count</th>\n",
       "      <td>1156.000000</td>\n",
       "    </tr>\n",
       "    <tr>\n",
       "      <th>mean</th>\n",
       "      <td>21.115398</td>\n",
       "    </tr>\n",
       "    <tr>\n",
       "      <th>std</th>\n",
       "      <td>359.299007</td>\n",
       "    </tr>\n",
       "    <tr>\n",
       "      <th>min</th>\n",
       "      <td>0.500000</td>\n",
       "    </tr>\n",
       "    <tr>\n",
       "      <th>25%</th>\n",
       "      <td>2.900000</td>\n",
       "    </tr>\n",
       "    <tr>\n",
       "      <th>50%</th>\n",
       "      <td>6.000000</td>\n",
       "    </tr>\n",
       "    <tr>\n",
       "      <th>75%</th>\n",
       "      <td>10.400000</td>\n",
       "    </tr>\n",
       "    <tr>\n",
       "      <th>max</th>\n",
       "      <td>12204.700000</td>\n",
       "    </tr>\n",
       "  </tbody>\n",
       "</table>\n",
       "</div>"
      ],
      "text/plain": [
       "              MILES\n",
       "count   1156.000000\n",
       "mean      21.115398\n",
       "std      359.299007\n",
       "min        0.500000\n",
       "25%        2.900000\n",
       "50%        6.000000\n",
       "75%       10.400000\n",
       "max    12204.700000"
      ]
     },
     "execution_count": 7,
     "metadata": {},
     "output_type": "execute_result"
    }
   ],
   "source": [
    "df.describe()"
   ]
  },
  {
   "cell_type": "markdown",
   "id": "cbd87fd0",
   "metadata": {},
   "source": [
    "# Data Cleaning:"
   ]
  },
  {
   "cell_type": "markdown",
   "id": "ef89851e",
   "metadata": {},
   "source": [
    "#### Duplicate values:"
   ]
  },
  {
   "cell_type": "code",
   "execution_count": 8,
   "id": "9d734d90",
   "metadata": {},
   "outputs": [
    {
     "data": {
      "text/html": [
       "<div>\n",
       "<style scoped>\n",
       "    .dataframe tbody tr th:only-of-type {\n",
       "        vertical-align: middle;\n",
       "    }\n",
       "\n",
       "    .dataframe tbody tr th {\n",
       "        vertical-align: top;\n",
       "    }\n",
       "\n",
       "    .dataframe thead th {\n",
       "        text-align: right;\n",
       "    }\n",
       "</style>\n",
       "<table border=\"1\" class=\"dataframe\">\n",
       "  <thead>\n",
       "    <tr style=\"text-align: right;\">\n",
       "      <th></th>\n",
       "      <th>START_DATE</th>\n",
       "      <th>END_DATE</th>\n",
       "      <th>CATEGORY</th>\n",
       "      <th>START</th>\n",
       "      <th>STOP</th>\n",
       "      <th>MILES</th>\n",
       "      <th>PURPOSE</th>\n",
       "    </tr>\n",
       "  </thead>\n",
       "  <tbody>\n",
       "    <tr>\n",
       "      <th>492</th>\n",
       "      <td>6/28/2016 23:34</td>\n",
       "      <td>6/28/2016 23:59</td>\n",
       "      <td>Business</td>\n",
       "      <td>Durham</td>\n",
       "      <td>Cary</td>\n",
       "      <td>9.9</td>\n",
       "      <td>Meeting</td>\n",
       "    </tr>\n",
       "  </tbody>\n",
       "</table>\n",
       "</div>"
      ],
      "text/plain": [
       "          START_DATE         END_DATE  CATEGORY   START  STOP  MILES  PURPOSE\n",
       "492  6/28/2016 23:34  6/28/2016 23:59  Business  Durham  Cary    9.9  Meeting"
      ]
     },
     "execution_count": 8,
     "metadata": {},
     "output_type": "execute_result"
    }
   ],
   "source": [
    "df[df.duplicated()==True]"
   ]
  },
  {
   "cell_type": "code",
   "execution_count": 9,
   "id": "41987cea",
   "metadata": {},
   "outputs": [],
   "source": [
    "df = df.drop_duplicates()"
   ]
  },
  {
   "cell_type": "code",
   "execution_count": 10,
   "id": "6f85890f",
   "metadata": {},
   "outputs": [
    {
     "data": {
      "text/plain": [
       "0"
      ]
     },
     "execution_count": 10,
     "metadata": {},
     "output_type": "execute_result"
    }
   ],
   "source": [
    "df.duplicated().sum()"
   ]
  },
  {
   "cell_type": "markdown",
   "id": "3b49cdb7",
   "metadata": {},
   "source": [
    "#### Noise Values:"
   ]
  },
  {
   "cell_type": "code",
   "execution_count": 11,
   "id": "5e32ada7",
   "metadata": {},
   "outputs": [
    {
     "name": "stdout",
     "output_type": "stream",
     "text": [
      "START_DATE ['01-01-2016 21:11' '01-02-2016 01:25' '01-02-2016 20:25' ...\n",
      " '9/30/2016 17:39' '9/30/2016 20:59' 'Totals'] \n",
      "\n",
      "END_DATE ['01-01-2016 21:17' '01-02-2016 01:37' '01-02-2016 20:38' ...\n",
      " '9/30/2016 20:20' '9/30/2016 22:34' nan] \n",
      "\n",
      "CATEGORY ['Business' 'Personal' nan] \n",
      "\n",
      "START ['Agnew' 'Almond' 'Apex' 'Arabi' 'Arlington' 'Arlington Park at Amberly'\n",
      " 'Asheville' 'Austin' 'Banner Elk' 'Bellevue' 'Berkeley' 'Boone'\n",
      " 'Briar Meadow' 'Bryson City' 'Burtrose' 'CBD' 'Capitol One' 'Cary'\n",
      " 'Central' 'Chalmette' 'Chapel Hill' 'Chessington' 'College Avenue'\n",
      " 'Colombo' 'Columbia Heights' 'Congress Ave District' 'Connecticut Avenue'\n",
      " 'Convention Center District' 'Cory' 'Couples Glen' 'Covington' 'Coxville'\n",
      " 'Daytona Beach' 'Downtown' 'Durham' 'Eagan Park' 'Eagle Rock'\n",
      " 'East Austin' 'East Elmhurst' 'East Harlem' 'Eastgate' 'Edgehill Farms'\n",
      " 'El Cerrito' 'Elk Park' 'Elmhurst' 'Emeryville' 'Fairmont'\n",
      " 'Farmington Woods' 'Fayetteville Street' 'Financial District'\n",
      " 'Flatiron District' 'Florence' 'Fort Pierce' 'Fuquay-Varina' 'Galveston'\n",
      " 'Gampaha' 'Georgian Acres' 'Gulfton' 'Hayesville' 'Hazelwood'\n",
      " \"Hell's Kitchen\" 'Heritage Pines' 'Holly Springs' 'Houston'\n",
      " 'Hudson Square' 'Huntington Woods' 'Ingleside' 'Islamabad'\n",
      " 'Jackson Heights' 'Jacksonville' 'Jamaica' 'Jamestown Court' 'K Street'\n",
      " 'Kalorama Triangle' 'Kar?chi' 'Karachi' 'Katunayaka' 'Katunayake' 'Katy'\n",
      " 'Kenner' 'Kilarney Woods' 'Kissimmee' 'Krendle Woods' 'Lahore'\n",
      " 'Lake Reams' 'Lake Wellingborough' 'Lakeview' 'Latta'\n",
      " 'Lexington Park at Amberly' 'Long Island City' 'Lower Garden District'\n",
      " 'Lower Manhattan' 'Mandeville' 'Marigny' 'Mcvan' 'Mebane'\n",
      " 'Medical Centre' 'Menlo Park' 'Meredith' 'Meredith Townes' 'Metairie'\n",
      " 'Midtown' 'Midtown East' 'Morrisville' 'Mountain View' 'NOMA'\n",
      " 'New Orleans' 'New York' 'Newark' 'Newland' 'Noorpur Shahan'\n",
      " 'North Austin' 'North Berkeley Hills' 'Northwoods' 'Nugegoda' 'Oakland'\n",
      " 'Old City' 'Orlando' 'Palo Alto' 'Parkway' 'Parkwood'\n",
      " 'Pontchartrain Beach' 'Pontchartrain Shores' 'Port Bolivar' 'Preston'\n",
      " 'R?walpindi' 'Raleigh' 'Rawalpindi' 'Red River District' 'Redmond'\n",
      " 'Renaissance' 'Ridgeland' 'Rose Hill' 'SOMISSPO' 'San Francisco'\n",
      " 'San Jose' 'Sand Lake Commons' 'Santa Clara' 'Savon Height' 'Seaport'\n",
      " 'Seattle' 'Sharpstown' 'Sky Lake' 'Soho' 'South' 'South Berkeley'\n",
      " 'South Congress' 'Southside' 'St Thomas' 'Stonewater' 'Storyville'\n",
      " 'Sugar Land' 'Summerwinds' 'Sunnyside' 'Sunnyvale' 'Tanglewood'\n",
      " 'Tenderloin' 'The Drag' 'Topton' 'Townes at Everett Crossing' 'Tribeca'\n",
      " 'University District' 'Unknown Location' 'Wake Co.' 'Wake Forest'\n",
      " 'Washington' 'Washington Avenue' 'Waverly Place' 'Wayne Ridge'\n",
      " 'West Berkeley' 'West End' 'West Palm Beach' 'West University' 'Weston'\n",
      " 'Westpark Place' 'Whitebridge' 'Winston Salem' nan] \n",
      "\n",
      "STOP ['Agnew' 'Alief' 'Almond' 'Apex' 'Arabi' 'Arlington'\n",
      " 'Arlington Park at Amberly' 'Arts District' 'Asheville' 'Banner Elk'\n",
      " 'Bay Farm Island' 'Bellevue' 'Berkeley' 'Boone' 'Briar Meadow'\n",
      " 'Bryson City' 'Burtrose' 'Bywater' 'CBD' 'Capitol One' 'Cary'\n",
      " 'Cedar Hill' 'Central' 'Chalmette' 'Chapel Hill' 'Chessington'\n",
      " 'College Avenue' 'Colombo' 'Columbia Heights' 'Congress Ave District'\n",
      " 'Convention Center District' 'Cory' 'Covington' 'Coxville'\n",
      " 'Daytona Beach' 'Depot Historic District' 'Downtown' 'Durham'\n",
      " 'Eagle Rock' 'East Elmhurst' 'East Harlem' 'Edgehill Farms' 'El Cerrito'\n",
      " 'Elk Park' 'Emeryville' 'Farmington Woods' 'Faubourg Marigny'\n",
      " 'Financial District' 'Florence' 'Fort Pierce' 'French Quarter'\n",
      " 'Fuquay-Varina' 'Galveston' 'Gampaha' 'Gramercy-Flatiron'\n",
      " 'Greater Greenspoint' 'Gulfton' 'Harden Place' 'Hayesville' 'Hazelwood'\n",
      " \"Hell's Kitchen\" 'Heritage Pines' 'Hog Island' 'Holly Springs' 'Houston'\n",
      " 'Hudson Square' 'Huntington Woods' 'Ilukwatta' 'Ingleside' 'Islamabad'\n",
      " 'Isles of Buena Vista' 'Jackson Heights' 'Jacksonville' 'Jamaica'\n",
      " 'Jamestown Court' 'K Street' 'Kalorama Triangle' 'Kar?chi' 'Karachi'\n",
      " 'Katunayaka' 'Katy' 'Kenner' 'Kilarney Woods' 'Kildaire Farms' 'Kips Bay'\n",
      " 'Kissimmee' 'Lahore' 'Lake Reams' 'Lake Wellingborough' 'Lakeview'\n",
      " 'Latta' 'Leesville Hollow' 'Lexington Park at Amberly' 'Long Island City'\n",
      " 'Lower Garden District' 'Lower Manhattan' 'Macgregor Downs' 'Mandeville'\n",
      " 'Marigny' 'Mcvan' 'Mebane' 'Menlo Park' 'Meredith Townes' 'Metairie'\n",
      " 'Midtown' 'Midtown East' 'Midtown West' 'Morrisville' 'Mountain View'\n",
      " 'New Orleans' 'New York' 'Newark' 'Newland' 'NoMad' 'Noorpur Shahan'\n",
      " 'North Austin' 'North Berkeley Hills' 'Northwest Rectangle' 'Northwoods'\n",
      " 'Nugegoda' 'Oakland' 'Orlando' 'Palm Beach' 'Palo Alto' 'Parkway'\n",
      " 'Parkway Museums' 'Parkwood' 'Pontchartrain Beach' 'Pontchartrain Shores'\n",
      " 'Port Bolivar' 'Potrero Flats' 'Preston' 'Queens' 'Queens County'\n",
      " 'R?walpindi' 'Raleigh' 'Rawalpindi' 'Red River District' 'Redmond'\n",
      " 'Renaissance' 'Ridgeland' 'SOMISSPO' 'San Francisco' 'San Jose'\n",
      " 'Sand Lake Commons' 'Santa Clara' 'Savon Height' 'Seattle' 'Sharpstown'\n",
      " 'Sky Lake' 'Soho' 'South' 'South Berkeley' 'South Congress' 'Southside'\n",
      " 'Southwest Berkeley' 'St Thomas' 'Stonewater' 'Storyville' 'Sugar Land'\n",
      " 'Summerwinds' 'Sunnyside' 'Sunnyvale' 'Tanglewood' 'Tenderloin'\n",
      " 'The Drag' 'Topton' 'Tribeca' 'Tudor City' 'Umstead'\n",
      " 'University District' 'Unknown Location' 'Vista East' 'Wake Co.'\n",
      " 'Wake Forest' 'Walnut Terrace' 'Washington' 'Washington Avenue'\n",
      " 'Waverly Place' 'Wayne Ridge' 'West Berkeley' 'West Palm Beach'\n",
      " 'West University' 'Weston' 'Westpark Place' 'Whitebridge'\n",
      " 'Williamsburg Manor' 'Winston Salem' nan] \n",
      "\n",
      "MILES [5.00000e-01 6.00000e-01 7.00000e-01 8.00000e-01 9.00000e-01 1.00000e+00\n",
      " 1.10000e+00 1.20000e+00 1.30000e+00 1.40000e+00 1.50000e+00 1.60000e+00\n",
      " 1.70000e+00 1.80000e+00 1.90000e+00 2.00000e+00 2.10000e+00 2.20000e+00\n",
      " 2.30000e+00 2.40000e+00 2.50000e+00 2.60000e+00 2.70000e+00 2.80000e+00\n",
      " 2.90000e+00 3.00000e+00 3.10000e+00 3.20000e+00 3.30000e+00 3.40000e+00\n",
      " 3.50000e+00 3.60000e+00 3.70000e+00 3.80000e+00 3.90000e+00 4.00000e+00\n",
      " 4.10000e+00 4.20000e+00 4.30000e+00 4.40000e+00 4.50000e+00 4.60000e+00\n",
      " 4.70000e+00 4.80000e+00 4.90000e+00 5.00000e+00 5.10000e+00 5.20000e+00\n",
      " 5.30000e+00 5.40000e+00 5.50000e+00 5.60000e+00 5.70000e+00 5.80000e+00\n",
      " 5.90000e+00 6.00000e+00 6.10000e+00 6.20000e+00 6.30000e+00 6.40000e+00\n",
      " 6.50000e+00 6.60000e+00 6.70000e+00 6.80000e+00 6.90000e+00 7.00000e+00\n",
      " 7.10000e+00 7.20000e+00 7.30000e+00 7.40000e+00 7.50000e+00 7.60000e+00\n",
      " 7.70000e+00 7.80000e+00 7.90000e+00 8.00000e+00 8.10000e+00 8.20000e+00\n",
      " 8.30000e+00 8.40000e+00 8.50000e+00 8.60000e+00 8.70000e+00 8.80000e+00\n",
      " 8.90000e+00 9.00000e+00 9.10000e+00 9.20000e+00 9.30000e+00 9.40000e+00\n",
      " 9.50000e+00 9.60000e+00 9.70000e+00 9.80000e+00 9.90000e+00 1.00000e+01\n",
      " 1.01000e+01 1.02000e+01 1.03000e+01 1.04000e+01 1.05000e+01 1.06000e+01\n",
      " 1.07000e+01 1.08000e+01 1.09000e+01 1.10000e+01 1.11000e+01 1.12000e+01\n",
      " 1.13000e+01 1.14000e+01 1.15000e+01 1.16000e+01 1.18000e+01 1.19000e+01\n",
      " 1.20000e+01 1.21000e+01 1.22000e+01 1.23000e+01 1.24000e+01 1.25000e+01\n",
      " 1.26000e+01 1.27000e+01 1.28000e+01 1.29000e+01 1.30000e+01 1.31000e+01\n",
      " 1.32000e+01 1.33000e+01 1.34000e+01 1.35000e+01 1.36000e+01 1.37000e+01\n",
      " 1.38000e+01 1.39000e+01 1.40000e+01 1.41000e+01 1.42000e+01 1.44000e+01\n",
      " 1.45000e+01 1.46000e+01 1.47000e+01 1.49000e+01 1.50000e+01 1.51000e+01\n",
      " 1.52000e+01 1.53000e+01 1.54000e+01 1.55000e+01 1.56000e+01 1.57000e+01\n",
      " 1.59000e+01 1.61000e+01 1.62000e+01 1.63000e+01 1.64000e+01 1.65000e+01\n",
      " 1.66000e+01 1.67000e+01 1.70000e+01 1.71000e+01 1.72000e+01 1.73000e+01\n",
      " 1.74000e+01 1.76000e+01 1.77000e+01 1.79000e+01 1.80000e+01 1.82000e+01\n",
      " 1.83000e+01 1.84000e+01 1.85000e+01 1.86000e+01 1.87000e+01 1.89000e+01\n",
      " 1.90000e+01 1.91000e+01 1.93000e+01 1.94000e+01 2.00000e+01 2.02000e+01\n",
      " 2.03000e+01 2.05000e+01 2.06000e+01 2.14000e+01 2.19000e+01 2.23000e+01\n",
      " 2.24000e+01 2.25000e+01 2.27000e+01 2.30000e+01 2.31000e+01 2.32000e+01\n",
      " 2.33000e+01 2.35000e+01 2.38000e+01 2.52000e+01 2.56000e+01 2.57000e+01\n",
      " 2.59000e+01 2.72000e+01 2.81000e+01 2.82000e+01 2.86000e+01 2.88000e+01\n",
      " 2.98000e+01 3.00000e+01 3.02000e+01 3.17000e+01 3.19000e+01 3.23000e+01\n",
      " 3.28000e+01 3.32000e+01 3.50000e+01 3.51000e+01 3.65000e+01 3.66000e+01\n",
      " 3.77000e+01 3.92000e+01 4.02000e+01 4.07000e+01 4.19000e+01 4.36000e+01\n",
      " 4.37000e+01 4.39000e+01 4.46000e+01 4.52000e+01 4.59000e+01 4.69000e+01\n",
      " 4.77000e+01 4.82000e+01 5.04000e+01 5.70000e+01 6.37000e+01 6.84000e+01\n",
      " 6.91000e+01 7.57000e+01 7.73000e+01 8.05000e+01 8.66000e+01 9.18000e+01\n",
      " 9.62000e+01 1.03000e+02 1.07000e+02 1.12600e+02 1.33600e+02 1.36000e+02\n",
      " 1.44000e+02 1.56900e+02 1.59300e+02 1.74200e+02 1.80200e+02 1.95300e+02\n",
      " 1.95600e+02 1.95900e+02 2.01000e+02 3.10300e+02 1.22047e+04] \n",
      "\n",
      "PURPOSE ['Airport/Travel' 'Between Offices' 'Charity ($)' 'Commute'\n",
      " 'Customer Visit' 'Errand/Supplies' 'Meal/Entertain' 'Meeting' 'Moving'\n",
      " 'Temporary Site' nan] \n",
      "\n"
     ]
    }
   ],
   "source": [
    "for i in df:\n",
    "    print(i, df[i].sort_values().unique(), '\\n')"
   ]
  },
  {
   "cell_type": "markdown",
   "id": "3fed0c71",
   "metadata": {},
   "source": [
    "There is a Noise value in Start date column. i.e., 'Totals'"
   ]
  },
  {
   "cell_type": "code",
   "execution_count": 12,
   "id": "fc514e71",
   "metadata": {},
   "outputs": [
    {
     "data": {
      "text/html": [
       "<div>\n",
       "<style scoped>\n",
       "    .dataframe tbody tr th:only-of-type {\n",
       "        vertical-align: middle;\n",
       "    }\n",
       "\n",
       "    .dataframe tbody tr th {\n",
       "        vertical-align: top;\n",
       "    }\n",
       "\n",
       "    .dataframe thead th {\n",
       "        text-align: right;\n",
       "    }\n",
       "</style>\n",
       "<table border=\"1\" class=\"dataframe\">\n",
       "  <thead>\n",
       "    <tr style=\"text-align: right;\">\n",
       "      <th></th>\n",
       "      <th>START_DATE</th>\n",
       "      <th>END_DATE</th>\n",
       "      <th>CATEGORY</th>\n",
       "      <th>START</th>\n",
       "      <th>STOP</th>\n",
       "      <th>MILES</th>\n",
       "      <th>PURPOSE</th>\n",
       "    </tr>\n",
       "  </thead>\n",
       "  <tbody>\n",
       "    <tr>\n",
       "      <th>1155</th>\n",
       "      <td>Totals</td>\n",
       "      <td>NaN</td>\n",
       "      <td>NaN</td>\n",
       "      <td>NaN</td>\n",
       "      <td>NaN</td>\n",
       "      <td>12204.7</td>\n",
       "      <td>NaN</td>\n",
       "    </tr>\n",
       "  </tbody>\n",
       "</table>\n",
       "</div>"
      ],
      "text/plain": [
       "     START_DATE END_DATE CATEGORY START STOP    MILES PURPOSE\n",
       "1155     Totals      NaN      NaN   NaN  NaN  12204.7     NaN"
      ]
     },
     "execution_count": 12,
     "metadata": {},
     "output_type": "execute_result"
    }
   ],
   "source": [
    "df[df['START_DATE']=='Totals']"
   ]
  },
  {
   "cell_type": "code",
   "execution_count": 13,
   "id": "475e2d78",
   "metadata": {},
   "outputs": [],
   "source": [
    "df = df.drop(df[df['START_DATE'] == 'Totals'].index)"
   ]
  },
  {
   "cell_type": "code",
   "execution_count": 14,
   "id": "16269acd",
   "metadata": {},
   "outputs": [
    {
     "data": {
      "text/plain": [
       "(1154, 7)"
      ]
     },
     "execution_count": 14,
     "metadata": {},
     "output_type": "execute_result"
    }
   ],
   "source": [
    "df.shape"
   ]
  },
  {
   "cell_type": "markdown",
   "id": "a903d036",
   "metadata": {},
   "source": [
    "#### Null values:"
   ]
  },
  {
   "cell_type": "code",
   "execution_count": 15,
   "id": "3c2f9447",
   "metadata": {},
   "outputs": [
    {
     "data": {
      "text/plain": [
       "START_DATE      0\n",
       "END_DATE        0\n",
       "CATEGORY        0\n",
       "START           0\n",
       "STOP            0\n",
       "MILES           0\n",
       "PURPOSE       502\n",
       "dtype: int64"
      ]
     },
     "execution_count": 15,
     "metadata": {},
     "output_type": "execute_result"
    }
   ],
   "source": [
    "df.isnull().sum()"
   ]
  },
  {
   "cell_type": "code",
   "execution_count": 16,
   "id": "4d5d9afd",
   "metadata": {},
   "outputs": [
    {
     "data": {
      "text/plain": [
       "array(['Meal/Entertain', nan, 'Errand/Supplies', 'Meeting',\n",
       "       'Customer Visit', 'Temporary Site', 'Between Offices',\n",
       "       'Charity ($)', 'Commute', 'Moving', 'Airport/Travel'], dtype=object)"
      ]
     },
     "execution_count": 16,
     "metadata": {},
     "output_type": "execute_result"
    }
   ],
   "source": [
    "df['PURPOSE'].unique()"
   ]
  },
  {
   "cell_type": "code",
   "execution_count": 17,
   "id": "64a47188",
   "metadata": {},
   "outputs": [],
   "source": [
    "df['PURPOSE'].fillna('Unknown', inplace=True)"
   ]
  },
  {
   "cell_type": "code",
   "execution_count": 18,
   "id": "92fab862",
   "metadata": {},
   "outputs": [
    {
     "data": {
      "text/plain": [
       "START_DATE    0\n",
       "END_DATE      0\n",
       "CATEGORY      0\n",
       "START         0\n",
       "STOP          0\n",
       "MILES         0\n",
       "PURPOSE       0\n",
       "dtype: int64"
      ]
     },
     "execution_count": 18,
     "metadata": {},
     "output_type": "execute_result"
    }
   ],
   "source": [
    "df.isnull().sum()"
   ]
  },
  {
   "cell_type": "code",
   "execution_count": 19,
   "id": "2036cea9",
   "metadata": {},
   "outputs": [
    {
     "data": {
      "text/plain": [
       "(1154, 7)"
      ]
     },
     "execution_count": 19,
     "metadata": {},
     "output_type": "execute_result"
    }
   ],
   "source": [
    "df.shape"
   ]
  },
  {
   "cell_type": "markdown",
   "id": "d49af92e",
   "metadata": {},
   "source": [
    "#### Data Types:"
   ]
  },
  {
   "cell_type": "code",
   "execution_count": 20,
   "id": "fc7f7d24",
   "metadata": {},
   "outputs": [
    {
     "data": {
      "text/plain": [
       "START_DATE     object\n",
       "END_DATE       object\n",
       "CATEGORY       object\n",
       "START          object\n",
       "STOP           object\n",
       "MILES         float64\n",
       "PURPOSE        object\n",
       "dtype: object"
      ]
     },
     "execution_count": 20,
     "metadata": {},
     "output_type": "execute_result"
    }
   ],
   "source": [
    "df.dtypes"
   ]
  },
  {
   "cell_type": "code",
   "execution_count": 21,
   "id": "eb6e75dc",
   "metadata": {},
   "outputs": [],
   "source": [
    "# The data types of START_DATE and END_DATE are currently appropriate, but we need to change them to datetime format."
   ]
  },
  {
   "cell_type": "code",
   "execution_count": 22,
   "id": "af9ff31d",
   "metadata": {},
   "outputs": [],
   "source": [
    "df['START_DATE'] = pd.to_datetime(df['START_DATE'])"
   ]
  },
  {
   "cell_type": "code",
   "execution_count": 23,
   "id": "af825ae2",
   "metadata": {},
   "outputs": [],
   "source": [
    "df['END_DATE'] = pd.to_datetime(df['END_DATE'])"
   ]
  },
  {
   "cell_type": "code",
   "execution_count": 24,
   "id": "e2b45c72",
   "metadata": {},
   "outputs": [
    {
     "data": {
      "text/plain": [
       "START_DATE    datetime64[ns]\n",
       "END_DATE      datetime64[ns]\n",
       "CATEGORY              object\n",
       "START                 object\n",
       "STOP                  object\n",
       "MILES                float64\n",
       "PURPOSE               object\n",
       "dtype: object"
      ]
     },
     "execution_count": 24,
     "metadata": {},
     "output_type": "execute_result"
    }
   ],
   "source": [
    "df.dtypes"
   ]
  },
  {
   "cell_type": "markdown",
   "id": "1bd28a2c",
   "metadata": {},
   "source": [
    "# Data Visualization:"
   ]
  },
  {
   "cell_type": "code",
   "execution_count": 25,
   "id": "8f9bbb41",
   "metadata": {},
   "outputs": [],
   "source": [
    "colors = ['blue', 'green', 'red', 'purple', 'orange']"
   ]
  },
  {
   "cell_type": "markdown",
   "id": "2316fd6f",
   "metadata": {},
   "source": [
    "### Miles column Distribution:"
   ]
  },
  {
   "cell_type": "code",
   "execution_count": 26,
   "id": "c69f9061",
   "metadata": {},
   "outputs": [
    {
     "data": {
      "image/png": "[encoded data removed]",
      "text/plain": [
       "<Figure size 720x432 with 1 Axes>"
      ]
     },
     "metadata": {
      "needs_background": "light"
     },
     "output_type": "display_data"
    }
   ],
   "source": [
    "plt.figure(figsize=(10,6))\n",
    "sns.histplot(df['MILES'], kde= True, color= 'blue')\n",
    "\n",
    "plt.xlabel('MILES', color = 'Black', fontweight='bold', fontsize=14)\n",
    "plt.ylabel('Count', color = 'Black', fontweight='bold', fontsize=14)\n",
    "plt.title('MILES Distribution', color = 'red', fontweight='bold', fontsize=18)\n",
    "plt.show()"
   ]
  },
  {
   "cell_type": "markdown",
   "id": "97bd9235",
   "metadata": {},
   "source": [
    "### Category distribution"
   ]
  },
  {
   "cell_type": "code",
   "execution_count": 27,
   "id": "8c6a2409",
   "metadata": {},
   "outputs": [
    {
     "data": {
      "image/png": "[encoded data removed]",
      "text/plain": [
       "<Figure size 576x576 with 1 Axes>"
      ]
     },
     "metadata": {},
     "output_type": "display_data"
    }
   ],
   "source": [
    "plt.figure(figsize=(8,8))\n",
    "a = df['CATEGORY'].value_counts()\n",
    "a.plot(kind='pie', labels=a.index,  autopct='%1.1f%%') \n",
    "plt.axis('equal') \n",
    "plt.title(\"Category distribution\", color = 'red', fontweight='bold', fontsize=18)\n",
    "plt.show()"
   ]
  },
  {
   "cell_type": "markdown",
   "id": "41682584",
   "metadata": {},
   "source": [
    "### Purpose distribution:"
   ]
  },
  {
   "cell_type": "code",
   "execution_count": 28,
   "id": "f47e479b",
   "metadata": {},
   "outputs": [
    {
     "data": {
      "image/png": "[encoded data removed]",
      "text/plain": [
       "<Figure size 720x432 with 1 Axes>"
      ]
     },
     "metadata": {
      "needs_background": "light"
     },
     "output_type": "display_data"
    }
   ],
   "source": [
    "plt.figure(figsize=(10,6))\n",
    "\n",
    "b = df['PURPOSE'].value_counts().sort_values()\n",
    "b.plot(kind = 'barh', color = colors)\n",
    "\n",
    "plt.xlabel('PURPOSE Count', color = 'Black', fontweight='bold', fontsize=14)\n",
    "plt.ylabel('PURPOSE', color = 'Black', fontweight='bold', fontsize=14)\n",
    "plt.title('PURPOSE Distribution', color = 'red', fontweight='bold', fontsize=18)\n",
    "plt.show()"
   ]
  },
  {
   "cell_type": "markdown",
   "id": "b7f80862",
   "metadata": {},
   "source": [
    "### Top 10 START Locations:"
   ]
  },
  {
   "cell_type": "code",
   "execution_count": 29,
   "id": "a9417037",
   "metadata": {},
   "outputs": [
    {
     "data": {
      "image/png": "[encoded data removed]",
      "text/plain": [
       "<Figure size 720x432 with 1 Axes>"
      ]
     },
     "metadata": {
      "needs_background": "light"
     },
     "output_type": "display_data"
    }
   ],
   "source": [
    "plt.figure(figsize=(10,6))\n",
    "\n",
    "c = df['START'].value_counts().head(10)\n",
    "c.plot(kind = 'bar', color = colors)\n",
    "\n",
    "plt.xlabel('Start Locations', color = 'Black', fontweight='bold', fontsize=14)\n",
    "plt.ylabel('Count', color = 'Black', fontweight='bold', fontsize=14)\n",
    "plt.title('Top 10 Start Locations', color = 'red', fontweight='bold', fontsize=18)\n",
    "plt.show()"
   ]
  },
  {
   "cell_type": "markdown",
   "id": "d297d16a",
   "metadata": {},
   "source": [
    "### Top 10 Stop Locations:"
   ]
  },
  {
   "cell_type": "code",
   "execution_count": 30,
   "id": "f205e1ec",
   "metadata": {},
   "outputs": [
    {
     "data": {
      "image/png": "[encoded data removed]",
      "text/plain": [
       "<Figure size 720x432 with 1 Axes>"
      ]
     },
     "metadata": {
      "needs_background": "light"
     },
     "output_type": "display_data"
    }
   ],
   "source": [
    "plt.figure(figsize=(10,6))\n",
    "\n",
    "d = df['STOP'].value_counts().head(10)\n",
    "d.plot(kind = 'bar', color = colors)\n",
    "\n",
    "plt.xlabel('Stop Locations', color = 'Black', fontweight='bold', fontsize=14)\n",
    "plt.ylabel('Count', color = 'Black', fontweight='bold', fontsize=14)\n",
    "plt.title('Top 10 Stop Locations', color = 'red', fontweight='bold', fontsize=18)\n",
    "plt.show()"
   ]
  },
  {
   "cell_type": "markdown",
   "id": "d02a87cc",
   "metadata": {},
   "source": [
    "### Average Miles Per Month"
   ]
  },
  {
   "cell_type": "code",
   "execution_count": 31,
   "id": "4a0afd57",
   "metadata": {},
   "outputs": [
    {
     "data": {
      "text/html": [
       "<div>\n",
       "<style scoped>\n",
       "    .dataframe tbody tr th:only-of-type {\n",
       "        vertical-align: middle;\n",
       "    }\n",
       "\n",
       "    .dataframe tbody tr th {\n",
       "        vertical-align: top;\n",
       "    }\n",
       "\n",
       "    .dataframe thead th {\n",
       "        text-align: right;\n",
       "    }\n",
       "</style>\n",
       "<table border=\"1\" class=\"dataframe\">\n",
       "  <thead>\n",
       "    <tr style=\"text-align: right;\">\n",
       "      <th></th>\n",
       "      <th>START_DATE</th>\n",
       "      <th>MILES</th>\n",
       "    </tr>\n",
       "  </thead>\n",
       "  <tbody>\n",
       "    <tr>\n",
       "      <th>0</th>\n",
       "      <td>1</td>\n",
       "      <td>8.408197</td>\n",
       "    </tr>\n",
       "    <tr>\n",
       "      <th>1</th>\n",
       "      <td>2</td>\n",
       "      <td>7.897391</td>\n",
       "    </tr>\n",
       "    <tr>\n",
       "      <th>2</th>\n",
       "      <td>3</td>\n",
       "      <td>14.990265</td>\n",
       "    </tr>\n",
       "    <tr>\n",
       "      <th>3</th>\n",
       "      <td>4</td>\n",
       "      <td>20.611111</td>\n",
       "    </tr>\n",
       "    <tr>\n",
       "      <th>4</th>\n",
       "      <td>5</td>\n",
       "      <td>7.424490</td>\n",
       "    </tr>\n",
       "    <tr>\n",
       "      <th>5</th>\n",
       "      <td>6</td>\n",
       "      <td>7.784112</td>\n",
       "    </tr>\n",
       "    <tr>\n",
       "      <th>6</th>\n",
       "      <td>7</td>\n",
       "      <td>10.933929</td>\n",
       "    </tr>\n",
       "    <tr>\n",
       "      <th>7</th>\n",
       "      <td>8</td>\n",
       "      <td>10.041353</td>\n",
       "    </tr>\n",
       "    <tr>\n",
       "      <th>8</th>\n",
       "      <td>9</td>\n",
       "      <td>16.716667</td>\n",
       "    </tr>\n",
       "    <tr>\n",
       "      <th>9</th>\n",
       "      <td>10</td>\n",
       "      <td>17.075472</td>\n",
       "    </tr>\n",
       "    <tr>\n",
       "      <th>10</th>\n",
       "      <td>11</td>\n",
       "      <td>6.695902</td>\n",
       "    </tr>\n",
       "    <tr>\n",
       "      <th>11</th>\n",
       "      <td>12</td>\n",
       "      <td>6.721233</td>\n",
       "    </tr>\n",
       "  </tbody>\n",
       "</table>\n",
       "</div>"
      ],
      "text/plain": [
       "    START_DATE      MILES\n",
       "0            1   8.408197\n",
       "1            2   7.897391\n",
       "2            3  14.990265\n",
       "3            4  20.611111\n",
       "4            5   7.424490\n",
       "5            6   7.784112\n",
       "6            7  10.933929\n",
       "7            8  10.041353\n",
       "8            9  16.716667\n",
       "9           10  17.075472\n",
       "10          11   6.695902\n",
       "11          12   6.721233"
      ]
     },
     "execution_count": 31,
     "metadata": {},
     "output_type": "execute_result"
    }
   ],
   "source": [
    "e = df.groupby(df['START_DATE'].dt.month)['MILES'].mean().reset_index()\n",
    "e"
   ]
  },
  {
   "cell_type": "code",
   "execution_count": 32,
   "id": "65eaec64",
   "metadata": {},
   "outputs": [
    {
     "name": "stderr",
     "output_type": "stream",
     "text": [
      "C:\\Python310\\lib\\site-packages\\seaborn\\_decorators.py:36: FutureWarning: Pass the following variables as keyword args: x, y. From version 0.12, the only valid positional argument will be `data`, and passing other arguments without an explicit keyword will result in an error or misinterpretation.\n",
      "  warnings.warn(\n"
     ]
    },
    {
     "data": {
      "image/png": "[encoded data removed]",
      "text/plain": [
       "<Figure size 1440x432 with 1 Axes>"
      ]
     },
     "metadata": {
      "needs_background": "light"
     },
     "output_type": "display_data"
    }
   ],
   "source": [
    "plt.figure(figsize=(20,6))\n",
    "sns.lineplot(e['START_DATE'], e['MILES'], color = 'green')\n",
    "\n",
    "plt.xlabel('Start_Date_Month', color = 'Black', fontweight='bold', fontsize=14)\n",
    "plt.ylabel('Average Miles', color = 'Black', fontweight='bold', fontsize=14)\n",
    "plt.title('Average Miles for each Month', color ='red', fontweight='bold', fontsize=18)\n",
    "plt.show()"
   ]
  },
  {
   "cell_type": "markdown",
   "id": "95a5ec40",
   "metadata": {},
   "source": [
    "### Average Miles Per Category:"
   ]
  },
  {
   "cell_type": "code",
   "execution_count": 33,
   "id": "c9415d52",
   "metadata": {},
   "outputs": [
    {
     "data": {
      "text/html": [
       "<div>\n",
       "<style scoped>\n",
       "    .dataframe tbody tr th:only-of-type {\n",
       "        vertical-align: middle;\n",
       "    }\n",
       "\n",
       "    .dataframe tbody tr th {\n",
       "        vertical-align: top;\n",
       "    }\n",
       "\n",
       "    .dataframe thead th {\n",
       "        text-align: right;\n",
       "    }\n",
       "</style>\n",
       "<table border=\"1\" class=\"dataframe\">\n",
       "  <thead>\n",
       "    <tr style=\"text-align: right;\">\n",
       "      <th></th>\n",
       "      <th>CATEGORY</th>\n",
       "      <th>MILES</th>\n",
       "    </tr>\n",
       "  </thead>\n",
       "  <tbody>\n",
       "    <tr>\n",
       "      <th>0</th>\n",
       "      <td>Business</td>\n",
       "      <td>10.656546</td>\n",
       "    </tr>\n",
       "    <tr>\n",
       "      <th>1</th>\n",
       "      <td>Personal</td>\n",
       "      <td>9.320779</td>\n",
       "    </tr>\n",
       "  </tbody>\n",
       "</table>\n",
       "</div>"
      ],
      "text/plain": [
       "   CATEGORY      MILES\n",
       "0  Business  10.656546\n",
       "1  Personal   9.320779"
      ]
     },
     "execution_count": 33,
     "metadata": {},
     "output_type": "execute_result"
    }
   ],
   "source": [
    "f = df.groupby('CATEGORY')['MILES'].mean().reset_index()\n",
    "f"
   ]
  },
  {
   "cell_type": "code",
   "execution_count": 34,
   "id": "06db0e42",
   "metadata": {},
   "outputs": [
    {
     "data": {
      "image/png": "[encoded data removed]",
      "text/plain": [
       "<Figure size 576x432 with 1 Axes>"
      ]
     },
     "metadata": {
      "needs_background": "light"
     },
     "output_type": "display_data"
    }
   ],
   "source": [
    "plt.figure(figsize=(8,6))\n",
    "sns.barplot(data=f, x='CATEGORY', y='MILES', palette='CMRmap')\n",
    "\n",
    "plt.xlabel('CATEGORY', color = 'Black', fontweight='bold', fontsize=14)\n",
    "plt.ylabel('Average Miles', color = 'Black', fontweight='bold', fontsize=14)\n",
    "plt.title('Average Miles for each Category', color ='red', fontweight='bold', fontsize=18)\n",
    "plt.show()"
   ]
  },
  {
   "cell_type": "markdown",
   "id": "bc9c5ab2",
   "metadata": {},
   "source": [
    "### Average Miles Per Purpose:"
   ]
  },
  {
   "cell_type": "code",
   "execution_count": 35,
   "id": "26f8fedb",
   "metadata": {},
   "outputs": [
    {
     "data": {
      "text/html": [
       "<div>\n",
       "<style scoped>\n",
       "    .dataframe tbody tr th:only-of-type {\n",
       "        vertical-align: middle;\n",
       "    }\n",
       "\n",
       "    .dataframe tbody tr th {\n",
       "        vertical-align: top;\n",
       "    }\n",
       "\n",
       "    .dataframe thead th {\n",
       "        text-align: right;\n",
       "    }\n",
       "</style>\n",
       "<table border=\"1\" class=\"dataframe\">\n",
       "  <thead>\n",
       "    <tr style=\"text-align: right;\">\n",
       "      <th></th>\n",
       "      <th>PURPOSE</th>\n",
       "      <th>MILES</th>\n",
       "    </tr>\n",
       "  </thead>\n",
       "  <tbody>\n",
       "    <tr>\n",
       "      <th>0</th>\n",
       "      <td>Commute</td>\n",
       "      <td>180.200000</td>\n",
       "    </tr>\n",
       "    <tr>\n",
       "      <th>1</th>\n",
       "      <td>Customer Visit</td>\n",
       "      <td>20.688119</td>\n",
       "    </tr>\n",
       "    <tr>\n",
       "      <th>2</th>\n",
       "      <td>Meeting</td>\n",
       "      <td>15.276344</td>\n",
       "    </tr>\n",
       "    <tr>\n",
       "      <th>3</th>\n",
       "      <td>Charity ($)</td>\n",
       "      <td>15.100000</td>\n",
       "    </tr>\n",
       "    <tr>\n",
       "      <th>4</th>\n",
       "      <td>Between Offices</td>\n",
       "      <td>10.944444</td>\n",
       "    </tr>\n",
       "    <tr>\n",
       "      <th>5</th>\n",
       "      <td>Temporary Site</td>\n",
       "      <td>10.474000</td>\n",
       "    </tr>\n",
       "    <tr>\n",
       "      <th>6</th>\n",
       "      <td>Unknown</td>\n",
       "      <td>9.748008</td>\n",
       "    </tr>\n",
       "    <tr>\n",
       "      <th>7</th>\n",
       "      <td>Meal/Entertain</td>\n",
       "      <td>5.698125</td>\n",
       "    </tr>\n",
       "    <tr>\n",
       "      <th>8</th>\n",
       "      <td>Airport/Travel</td>\n",
       "      <td>5.500000</td>\n",
       "    </tr>\n",
       "    <tr>\n",
       "      <th>9</th>\n",
       "      <td>Moving</td>\n",
       "      <td>4.550000</td>\n",
       "    </tr>\n",
       "    <tr>\n",
       "      <th>10</th>\n",
       "      <td>Errand/Supplies</td>\n",
       "      <td>3.968750</td>\n",
       "    </tr>\n",
       "  </tbody>\n",
       "</table>\n",
       "</div>"
      ],
      "text/plain": [
       "            PURPOSE       MILES\n",
       "0           Commute  180.200000\n",
       "1    Customer Visit   20.688119\n",
       "2           Meeting   15.276344\n",
       "3       Charity ($)   15.100000\n",
       "4   Between Offices   10.944444\n",
       "5    Temporary Site   10.474000\n",
       "6           Unknown    9.748008\n",
       "7    Meal/Entertain    5.698125\n",
       "8    Airport/Travel    5.500000\n",
       "9            Moving    4.550000\n",
       "10  Errand/Supplies    3.968750"
      ]
     },
     "execution_count": 35,
     "metadata": {},
     "output_type": "execute_result"
    }
   ],
   "source": [
    "g = df.groupby('PURPOSE')['MILES'].mean().sort_values(ascending = False).reset_index()\n",
    "g"
   ]
  },
  {
   "cell_type": "code",
   "execution_count": 36,
   "id": "f806ff3b",
   "metadata": {},
   "outputs": [
    {
     "data": {
      "image/png": "[encoded data removed]",
      "text/plain": [
       "<Figure size 720x432 with 1 Axes>"
      ]
     },
     "metadata": {
      "needs_background": "light"
     },
     "output_type": "display_data"
    }
   ],
   "source": [
    "plt.figure(figsize=(10,6))\n",
    "sns.barplot(data=g, y='PURPOSE', x='MILES', palette='CMRmap')\n",
    "\n",
    "plt.ylabel('PURPOSE', color = 'Black', fontweight='bold', fontsize=14)\n",
    "plt.xlabel('Average Miles', color = 'Black', fontweight='bold', fontsize=14)\n",
    "plt.title('Average Miles for each Purpose', color ='red', fontweight='bold', fontsize=18)\n",
    "plt.show()"
   ]
  },
  {
   "cell_type": "raw",
   "id": "7d94fda3",
   "metadata": {},
   "source": [
    "Insights:\n",
    "\n",
    "1. Skewness of Column 'Miles': \n",
    "The distribution of miles traveled appears to be right-skewed, suggesting that there might be a few instances of very high mileage rides, pulling the distribution to the right, while the majority of rides might have lower mileage.\n",
    "\n",
    "2. Uber Usage by Purpose: \n",
    "Business usage constitutes approximately 93% of Uber rides, indicating a significant preference for business-related travel, while personal use accounts for the remaining 7%. This showcases a predominant utilization of Uber for professional purposes.\n",
    "\n",
    "3. Starting Location - 'Cary': \n",
    "The location 'Cary' emerges as the primary starting point for Uber rides, indicating a higher frequency of trips originating from this location compared to others in the dataset.\n",
    "\n",
    "4. Stop Location - 'Cary': \n",
    "Similarly, 'Cary' also appears prominently as the top stop location for Uber rides, suggesting a higher frequency of trips terminating at this location in comparison to other destinations in the dataset.\n",
    "\n",
    "5. April's Average Mileage: \n",
    "During the month of April, there's a noticeable increase in the average distance traveled in Uber rides compared to other months, indicating potentially longer trips or higher usage during this specific period.\n",
    "\n",
    "6. Average Miles by Category: \n",
    "The average mileage for business-related rides surpasses that of personal rides, indicating that, on average, business trips tend to cover greater distances compared to personal ones.\n",
    "\n",
    "7. Commute Purpose and Average Miles: \n",
    "Trips categorized under the 'commute' purpose exhibit a higher average mileage compared to other trip purposes, indicating that, on average, commute-related rides cover greater distances."
   ]
  },
  {
   "cell_type": "code",
   "execution_count": null,
   "id": "16cba8d9",
   "metadata": {},
   "outputs": [],
   "source": []
  }
 ],
 "metadata": {
  "kernelspec": {
   "display_name": "Python 3 (ipykernel)",
   "language": "python",
   "name": "python3"
  },
  "language_info": {
   "codemirror_mode": {
    "name": "ipython",
    "version": 3
   },
   "file_extension": ".py",
   "mimetype": "text/x-python",
   "name": "python",
   "nbconvert_exporter": "python",
   "pygments_lexer": "ipython3",
   "version": "3.10.1"
  }
 },
 "nbformat": 4,
 "nbformat_minor": 5
}
