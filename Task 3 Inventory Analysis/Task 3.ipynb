{
 "cells": [
  {
   "cell_type": "markdown",
   "id": "c85804c6",
   "metadata": {},
   "source": [
    "# Importing the Libraries:"
   ]
  },
  {
   "cell_type": "code",
   "execution_count": 1,
   "id": "25834264",
   "metadata": {},
   "outputs": [],
   "source": [
    "import pandas as pd\n",
    "import numpy as np\n",
    "import matplotlib.pyplot as plt\n",
    "import seaborn as sns"
   ]
  },
  {
   "cell_type": "markdown",
   "id": "9d3018ba",
   "metadata": {},
   "source": [
    "# Upload Data:"
   ]
  },
  {
   "cell_type": "code",
   "execution_count": 2,
   "id": "b84d3c70",
   "metadata": {},
   "outputs": [
    {
     "data": {
      "text/html": [
       "<div>\n",
       "<style scoped>\n",
       "    .dataframe tbody tr th:only-of-type {\n",
       "        vertical-align: middle;\n",
       "    }\n",
       "\n",
       "    .dataframe tbody tr th {\n",
       "        vertical-align: top;\n",
       "    }\n",
       "\n",
       "    .dataframe thead th {\n",
       "        text-align: right;\n",
       "    }\n",
       "</style>\n",
       "<table border=\"1\" class=\"dataframe\">\n",
       "  <thead>\n",
       "    <tr style=\"text-align: right;\">\n",
       "      <th></th>\n",
       "      <th>Brand</th>\n",
       "      <th>Description</th>\n",
       "      <th>Price</th>\n",
       "      <th>Size</th>\n",
       "      <th>Volume</th>\n",
       "      <th>Classification</th>\n",
       "      <th>PurchasePrice</th>\n",
       "      <th>VendorNumber</th>\n",
       "      <th>VendorName</th>\n",
       "    </tr>\n",
       "  </thead>\n",
       "  <tbody>\n",
       "    <tr>\n",
       "      <th>0</th>\n",
       "      <td>58</td>\n",
       "      <td>Gekkeikan Black &amp; Gold Sake</td>\n",
       "      <td>12.99</td>\n",
       "      <td>750mL</td>\n",
       "      <td>750</td>\n",
       "      <td>1</td>\n",
       "      <td>9.28</td>\n",
       "      <td>8320</td>\n",
       "      <td>SHAW ROSS INT L IMP LTD</td>\n",
       "    </tr>\n",
       "    <tr>\n",
       "      <th>1</th>\n",
       "      <td>62</td>\n",
       "      <td>Herradura Silver Tequila</td>\n",
       "      <td>36.99</td>\n",
       "      <td>750mL</td>\n",
       "      <td>750</td>\n",
       "      <td>1</td>\n",
       "      <td>28.67</td>\n",
       "      <td>1128</td>\n",
       "      <td>BROWN-FORMAN CORP</td>\n",
       "    </tr>\n",
       "    <tr>\n",
       "      <th>2</th>\n",
       "      <td>63</td>\n",
       "      <td>Herradura Reposado Tequila</td>\n",
       "      <td>38.99</td>\n",
       "      <td>750mL</td>\n",
       "      <td>750</td>\n",
       "      <td>1</td>\n",
       "      <td>30.46</td>\n",
       "      <td>1128</td>\n",
       "      <td>BROWN-FORMAN CORP</td>\n",
       "    </tr>\n",
       "    <tr>\n",
       "      <th>3</th>\n",
       "      <td>72</td>\n",
       "      <td>No. 3 London Dry Gin</td>\n",
       "      <td>34.99</td>\n",
       "      <td>750mL</td>\n",
       "      <td>750</td>\n",
       "      <td>1</td>\n",
       "      <td>26.11</td>\n",
       "      <td>9165</td>\n",
       "      <td>ULTRA BEVERAGE COMPANY LLP</td>\n",
       "    </tr>\n",
       "    <tr>\n",
       "      <th>4</th>\n",
       "      <td>75</td>\n",
       "      <td>Three Olives Tomato Vodka</td>\n",
       "      <td>14.99</td>\n",
       "      <td>750mL</td>\n",
       "      <td>750</td>\n",
       "      <td>1</td>\n",
       "      <td>10.94</td>\n",
       "      <td>7245</td>\n",
       "      <td>PROXIMO SPIRITS INC.</td>\n",
       "    </tr>\n",
       "  </tbody>\n",
       "</table>\n",
       "</div>"
      ],
      "text/plain": [
       "   Brand                  Description  Price   Size Volume  Classification  \\\n",
       "0     58  Gekkeikan Black & Gold Sake  12.99  750mL    750               1   \n",
       "1     62     Herradura Silver Tequila  36.99  750mL    750               1   \n",
       "2     63   Herradura Reposado Tequila  38.99  750mL    750               1   \n",
       "3     72         No. 3 London Dry Gin  34.99  750mL    750               1   \n",
       "4     75    Three Olives Tomato Vodka  14.99  750mL    750               1   \n",
       "\n",
       "   PurchasePrice  VendorNumber                   VendorName  \n",
       "0           9.28          8320  SHAW ROSS INT L IMP LTD      \n",
       "1          28.67          1128  BROWN-FORMAN CORP            \n",
       "2          30.46          1128  BROWN-FORMAN CORP            \n",
       "3          26.11          9165  ULTRA BEVERAGE COMPANY LLP   \n",
       "4          10.94          7245  PROXIMO SPIRITS INC.         "
      ]
     },
     "execution_count": 2,
     "metadata": {},
     "output_type": "execute_result"
    }
   ],
   "source": [
    "purchaseprice = pd.read_csv(r\"C:\\Users\\dell6\\OneDrive\\Desktop\\Yashu jobs\\By Yashu\\Alfido Tech\\Tasks\\Task 3\\2017PurchasePricesDec.csv\")\n",
    "purchaseprice.head()"
   ]
  },
  {
   "cell_type": "code",
   "execution_count": 3,
   "id": "6cf27397",
   "metadata": {},
   "outputs": [
    {
     "data": {
      "text/plain": [
       "(12261, 9)"
      ]
     },
     "execution_count": 3,
     "metadata": {},
     "output_type": "execute_result"
    }
   ],
   "source": [
    "purchaseprice.shape"
   ]
  },
  {
   "cell_type": "code",
   "execution_count": 4,
   "id": "d28cd4b3",
   "metadata": {
    "scrolled": true
   },
   "outputs": [
    {
     "data": {
      "text/html": [
       "<div>\n",
       "<style scoped>\n",
       "    .dataframe tbody tr th:only-of-type {\n",
       "        vertical-align: middle;\n",
       "    }\n",
       "\n",
       "    .dataframe tbody tr th {\n",
       "        vertical-align: top;\n",
       "    }\n",
       "\n",
       "    .dataframe thead th {\n",
       "        text-align: right;\n",
       "    }\n",
       "</style>\n",
       "<table border=\"1\" class=\"dataframe\">\n",
       "  <thead>\n",
       "    <tr style=\"text-align: right;\">\n",
       "      <th></th>\n",
       "      <th>InventoryId</th>\n",
       "      <th>Store</th>\n",
       "      <th>City</th>\n",
       "      <th>Brand</th>\n",
       "      <th>Description</th>\n",
       "      <th>Size</th>\n",
       "      <th>onHand</th>\n",
       "      <th>Price</th>\n",
       "      <th>startDate</th>\n",
       "    </tr>\n",
       "  </thead>\n",
       "  <tbody>\n",
       "    <tr>\n",
       "      <th>0</th>\n",
       "      <td>1_HARDERSFIELD_58</td>\n",
       "      <td>1</td>\n",
       "      <td>HARDERSFIELD</td>\n",
       "      <td>58</td>\n",
       "      <td>Gekkeikan Black &amp; Gold Sake</td>\n",
       "      <td>750mL</td>\n",
       "      <td>8</td>\n",
       "      <td>12.99</td>\n",
       "      <td>2016-01-01</td>\n",
       "    </tr>\n",
       "    <tr>\n",
       "      <th>1</th>\n",
       "      <td>1_HARDERSFIELD_60</td>\n",
       "      <td>1</td>\n",
       "      <td>HARDERSFIELD</td>\n",
       "      <td>60</td>\n",
       "      <td>Canadian Club 1858 VAP</td>\n",
       "      <td>750mL</td>\n",
       "      <td>7</td>\n",
       "      <td>10.99</td>\n",
       "      <td>2016-01-01</td>\n",
       "    </tr>\n",
       "    <tr>\n",
       "      <th>2</th>\n",
       "      <td>1_HARDERSFIELD_62</td>\n",
       "      <td>1</td>\n",
       "      <td>HARDERSFIELD</td>\n",
       "      <td>62</td>\n",
       "      <td>Herradura Silver Tequila</td>\n",
       "      <td>750mL</td>\n",
       "      <td>6</td>\n",
       "      <td>36.99</td>\n",
       "      <td>2016-01-01</td>\n",
       "    </tr>\n",
       "    <tr>\n",
       "      <th>3</th>\n",
       "      <td>1_HARDERSFIELD_63</td>\n",
       "      <td>1</td>\n",
       "      <td>HARDERSFIELD</td>\n",
       "      <td>63</td>\n",
       "      <td>Herradura Reposado Tequila</td>\n",
       "      <td>750mL</td>\n",
       "      <td>3</td>\n",
       "      <td>38.99</td>\n",
       "      <td>2016-01-01</td>\n",
       "    </tr>\n",
       "    <tr>\n",
       "      <th>4</th>\n",
       "      <td>1_HARDERSFIELD_72</td>\n",
       "      <td>1</td>\n",
       "      <td>HARDERSFIELD</td>\n",
       "      <td>72</td>\n",
       "      <td>No. 3 London Dry Gin</td>\n",
       "      <td>750mL</td>\n",
       "      <td>6</td>\n",
       "      <td>34.99</td>\n",
       "      <td>2016-01-01</td>\n",
       "    </tr>\n",
       "  </tbody>\n",
       "</table>\n",
       "</div>"
      ],
      "text/plain": [
       "         InventoryId  Store          City  Brand                  Description  \\\n",
       "0  1_HARDERSFIELD_58      1  HARDERSFIELD     58  Gekkeikan Black & Gold Sake   \n",
       "1  1_HARDERSFIELD_60      1  HARDERSFIELD     60       Canadian Club 1858 VAP   \n",
       "2  1_HARDERSFIELD_62      1  HARDERSFIELD     62     Herradura Silver Tequila   \n",
       "3  1_HARDERSFIELD_63      1  HARDERSFIELD     63   Herradura Reposado Tequila   \n",
       "4  1_HARDERSFIELD_72      1  HARDERSFIELD     72         No. 3 London Dry Gin   \n",
       "\n",
       "    Size  onHand  Price   startDate  \n",
       "0  750mL       8  12.99  2016-01-01  \n",
       "1  750mL       7  10.99  2016-01-01  \n",
       "2  750mL       6  36.99  2016-01-01  \n",
       "3  750mL       3  38.99  2016-01-01  \n",
       "4  750mL       6  34.99  2016-01-01  "
      ]
     },
     "execution_count": 4,
     "metadata": {},
     "output_type": "execute_result"
    }
   ],
   "source": [
    "beginv = pd.read_csv(r\"C:\\Users\\dell6\\OneDrive\\Desktop\\Yashu jobs\\By Yashu\\Alfido Tech\\Tasks\\Task 3\\BegInvFINAL12312016.csv\")\n",
    "beginv.head()"
   ]
  },
  {
   "cell_type": "code",
   "execution_count": 5,
   "id": "da3e25ff",
   "metadata": {},
   "outputs": [
    {
     "data": {
      "text/plain": [
       "(206529, 9)"
      ]
     },
     "execution_count": 5,
     "metadata": {},
     "output_type": "execute_result"
    }
   ],
   "source": [
    "beginv.shape"
   ]
  },
  {
   "cell_type": "code",
   "execution_count": 6,
   "id": "f449a82e",
   "metadata": {},
   "outputs": [
    {
     "data": {
      "text/html": [
       "<div>\n",
       "<style scoped>\n",
       "    .dataframe tbody tr th:only-of-type {\n",
       "        vertical-align: middle;\n",
       "    }\n",
       "\n",
       "    .dataframe tbody tr th {\n",
       "        vertical-align: top;\n",
       "    }\n",
       "\n",
       "    .dataframe thead th {\n",
       "        text-align: right;\n",
       "    }\n",
       "</style>\n",
       "<table border=\"1\" class=\"dataframe\">\n",
       "  <thead>\n",
       "    <tr style=\"text-align: right;\">\n",
       "      <th></th>\n",
       "      <th>InventoryId</th>\n",
       "      <th>Store</th>\n",
       "      <th>City</th>\n",
       "      <th>Brand</th>\n",
       "      <th>Description</th>\n",
       "      <th>Size</th>\n",
       "      <th>onHand</th>\n",
       "      <th>Price</th>\n",
       "      <th>endDate</th>\n",
       "    </tr>\n",
       "  </thead>\n",
       "  <tbody>\n",
       "    <tr>\n",
       "      <th>0</th>\n",
       "      <td>1_HARDERSFIELD_58</td>\n",
       "      <td>1</td>\n",
       "      <td>HARDERSFIELD</td>\n",
       "      <td>58</td>\n",
       "      <td>Gekkeikan Black &amp; Gold Sake</td>\n",
       "      <td>750mL</td>\n",
       "      <td>11</td>\n",
       "      <td>12.99</td>\n",
       "      <td>2016-12-31</td>\n",
       "    </tr>\n",
       "    <tr>\n",
       "      <th>1</th>\n",
       "      <td>1_HARDERSFIELD_62</td>\n",
       "      <td>1</td>\n",
       "      <td>HARDERSFIELD</td>\n",
       "      <td>62</td>\n",
       "      <td>Herradura Silver Tequila</td>\n",
       "      <td>750mL</td>\n",
       "      <td>7</td>\n",
       "      <td>36.99</td>\n",
       "      <td>2016-12-31</td>\n",
       "    </tr>\n",
       "    <tr>\n",
       "      <th>2</th>\n",
       "      <td>1_HARDERSFIELD_63</td>\n",
       "      <td>1</td>\n",
       "      <td>HARDERSFIELD</td>\n",
       "      <td>63</td>\n",
       "      <td>Herradura Reposado Tequila</td>\n",
       "      <td>750mL</td>\n",
       "      <td>7</td>\n",
       "      <td>38.99</td>\n",
       "      <td>2016-12-31</td>\n",
       "    </tr>\n",
       "    <tr>\n",
       "      <th>3</th>\n",
       "      <td>1_HARDERSFIELD_72</td>\n",
       "      <td>1</td>\n",
       "      <td>HARDERSFIELD</td>\n",
       "      <td>72</td>\n",
       "      <td>No. 3 London Dry Gin</td>\n",
       "      <td>750mL</td>\n",
       "      <td>4</td>\n",
       "      <td>34.99</td>\n",
       "      <td>2016-12-31</td>\n",
       "    </tr>\n",
       "    <tr>\n",
       "      <th>4</th>\n",
       "      <td>1_HARDERSFIELD_75</td>\n",
       "      <td>1</td>\n",
       "      <td>HARDERSFIELD</td>\n",
       "      <td>75</td>\n",
       "      <td>Three Olives Tomato Vodka</td>\n",
       "      <td>750mL</td>\n",
       "      <td>7</td>\n",
       "      <td>14.99</td>\n",
       "      <td>2016-12-31</td>\n",
       "    </tr>\n",
       "  </tbody>\n",
       "</table>\n",
       "</div>"
      ],
      "text/plain": [
       "         InventoryId  Store          City  Brand                  Description  \\\n",
       "0  1_HARDERSFIELD_58      1  HARDERSFIELD     58  Gekkeikan Black & Gold Sake   \n",
       "1  1_HARDERSFIELD_62      1  HARDERSFIELD     62     Herradura Silver Tequila   \n",
       "2  1_HARDERSFIELD_63      1  HARDERSFIELD     63   Herradura Reposado Tequila   \n",
       "3  1_HARDERSFIELD_72      1  HARDERSFIELD     72         No. 3 London Dry Gin   \n",
       "4  1_HARDERSFIELD_75      1  HARDERSFIELD     75    Three Olives Tomato Vodka   \n",
       "\n",
       "    Size  onHand  Price     endDate  \n",
       "0  750mL      11  12.99  2016-12-31  \n",
       "1  750mL       7  36.99  2016-12-31  \n",
       "2  750mL       7  38.99  2016-12-31  \n",
       "3  750mL       4  34.99  2016-12-31  \n",
       "4  750mL       7  14.99  2016-12-31  "
      ]
     },
     "execution_count": 6,
     "metadata": {},
     "output_type": "execute_result"
    }
   ],
   "source": [
    "endinv = pd.read_csv(r\"C:\\Users\\dell6\\OneDrive\\Desktop\\Yashu jobs\\By Yashu\\Alfido Tech\\Tasks\\Task 3\\EndInvFINAL12312016.csv\")\n",
    "endinv.head()"
   ]
  },
  {
   "cell_type": "code",
   "execution_count": 7,
   "id": "45023edd",
   "metadata": {},
   "outputs": [
    {
     "data": {
      "text/plain": [
       "(224489, 9)"
      ]
     },
     "execution_count": 7,
     "metadata": {},
     "output_type": "execute_result"
    }
   ],
   "source": [
    "endinv.shape"
   ]
  },
  {
   "cell_type": "code",
   "execution_count": 8,
   "id": "6377a8a9",
   "metadata": {
    "scrolled": true
   },
   "outputs": [
    {
     "data": {
      "text/html": [
       "<div>\n",
       "<style scoped>\n",
       "    .dataframe tbody tr th:only-of-type {\n",
       "        vertical-align: middle;\n",
       "    }\n",
       "\n",
       "    .dataframe tbody tr th {\n",
       "        vertical-align: top;\n",
       "    }\n",
       "\n",
       "    .dataframe thead th {\n",
       "        text-align: right;\n",
       "    }\n",
       "</style>\n",
       "<table border=\"1\" class=\"dataframe\">\n",
       "  <thead>\n",
       "    <tr style=\"text-align: right;\">\n",
       "      <th></th>\n",
       "      <th>VendorNumber</th>\n",
       "      <th>VendorName</th>\n",
       "      <th>InvoiceDate</th>\n",
       "      <th>PONumber</th>\n",
       "      <th>PODate</th>\n",
       "      <th>PayDate</th>\n",
       "      <th>Quantity</th>\n",
       "      <th>Dollars</th>\n",
       "      <th>Freight</th>\n",
       "      <th>Approval</th>\n",
       "    </tr>\n",
       "  </thead>\n",
       "  <tbody>\n",
       "    <tr>\n",
       "      <th>0</th>\n",
       "      <td>105</td>\n",
       "      <td>ALTAMAR BRANDS LLC</td>\n",
       "      <td>2016-01-04</td>\n",
       "      <td>8124</td>\n",
       "      <td>2015-12-21</td>\n",
       "      <td>2016-02-16</td>\n",
       "      <td>6</td>\n",
       "      <td>214.26</td>\n",
       "      <td>3.47</td>\n",
       "      <td>None</td>\n",
       "    </tr>\n",
       "    <tr>\n",
       "      <th>1</th>\n",
       "      <td>4466</td>\n",
       "      <td>AMERICAN VINTAGE BEVERAGE</td>\n",
       "      <td>2016-01-07</td>\n",
       "      <td>8137</td>\n",
       "      <td>2015-12-22</td>\n",
       "      <td>2016-02-21</td>\n",
       "      <td>15</td>\n",
       "      <td>140.55</td>\n",
       "      <td>8.57</td>\n",
       "      <td>None</td>\n",
       "    </tr>\n",
       "    <tr>\n",
       "      <th>2</th>\n",
       "      <td>388</td>\n",
       "      <td>ATLANTIC IMPORTING COMPANY</td>\n",
       "      <td>2016-01-09</td>\n",
       "      <td>8169</td>\n",
       "      <td>2015-12-24</td>\n",
       "      <td>2016-02-16</td>\n",
       "      <td>5</td>\n",
       "      <td>106.60</td>\n",
       "      <td>4.61</td>\n",
       "      <td>None</td>\n",
       "    </tr>\n",
       "    <tr>\n",
       "      <th>3</th>\n",
       "      <td>480</td>\n",
       "      <td>BACARDI USA INC</td>\n",
       "      <td>2016-01-12</td>\n",
       "      <td>8106</td>\n",
       "      <td>2015-12-20</td>\n",
       "      <td>2016-02-05</td>\n",
       "      <td>10100</td>\n",
       "      <td>137483.78</td>\n",
       "      <td>2935.20</td>\n",
       "      <td>None</td>\n",
       "    </tr>\n",
       "    <tr>\n",
       "      <th>4</th>\n",
       "      <td>516</td>\n",
       "      <td>BANFI PRODUCTS CORP</td>\n",
       "      <td>2016-01-07</td>\n",
       "      <td>8170</td>\n",
       "      <td>2015-12-24</td>\n",
       "      <td>2016-02-12</td>\n",
       "      <td>1935</td>\n",
       "      <td>15527.25</td>\n",
       "      <td>429.20</td>\n",
       "      <td>None</td>\n",
       "    </tr>\n",
       "  </tbody>\n",
       "</table>\n",
       "</div>"
      ],
      "text/plain": [
       "   VendorNumber                   VendorName InvoiceDate  PONumber  \\\n",
       "0           105  ALTAMAR BRANDS LLC           2016-01-04      8124   \n",
       "1          4466  AMERICAN VINTAGE BEVERAGE    2016-01-07      8137   \n",
       "2           388  ATLANTIC IMPORTING COMPANY   2016-01-09      8169   \n",
       "3           480  BACARDI USA INC              2016-01-12      8106   \n",
       "4           516  BANFI PRODUCTS CORP          2016-01-07      8170   \n",
       "\n",
       "       PODate     PayDate  Quantity    Dollars  Freight Approval  \n",
       "0  2015-12-21  2016-02-16         6     214.26     3.47     None  \n",
       "1  2015-12-22  2016-02-21        15     140.55     8.57     None  \n",
       "2  2015-12-24  2016-02-16         5     106.60     4.61     None  \n",
       "3  2015-12-20  2016-02-05     10100  137483.78  2935.20     None  \n",
       "4  2015-12-24  2016-02-12      1935   15527.25   429.20     None  "
      ]
     },
     "execution_count": 8,
     "metadata": {},
     "output_type": "execute_result"
    }
   ],
   "source": [
    "invoicepurchase = pd.read_csv(r\"C:\\Users\\dell6\\OneDrive\\Desktop\\Yashu jobs\\By Yashu\\Alfido Tech\\Tasks\\Task 3\\InvoicePurchases12312016.csv\")\n",
    "invoicepurchase.head()"
   ]
  },
  {
   "cell_type": "code",
   "execution_count": 9,
   "id": "9c00d408",
   "metadata": {},
   "outputs": [
    {
     "data": {
      "text/plain": [
       "(5543, 10)"
      ]
     },
     "execution_count": 9,
     "metadata": {},
     "output_type": "execute_result"
    }
   ],
   "source": [
    "invoicepurchase.shape"
   ]
  },
  {
   "cell_type": "code",
   "execution_count": 10,
   "id": "5533e09f",
   "metadata": {},
   "outputs": [
    {
     "data": {
      "text/html": [
       "<div>\n",
       "<style scoped>\n",
       "    .dataframe tbody tr th:only-of-type {\n",
       "        vertical-align: middle;\n",
       "    }\n",
       "\n",
       "    .dataframe tbody tr th {\n",
       "        vertical-align: top;\n",
       "    }\n",
       "\n",
       "    .dataframe thead th {\n",
       "        text-align: right;\n",
       "    }\n",
       "</style>\n",
       "<table border=\"1\" class=\"dataframe\">\n",
       "  <thead>\n",
       "    <tr style=\"text-align: right;\">\n",
       "      <th></th>\n",
       "      <th>InventoryId</th>\n",
       "      <th>Store</th>\n",
       "      <th>Brand</th>\n",
       "      <th>Description</th>\n",
       "      <th>Size</th>\n",
       "      <th>VendorNumber</th>\n",
       "      <th>VendorName</th>\n",
       "      <th>PONumber</th>\n",
       "      <th>PODate</th>\n",
       "      <th>ReceivingDate</th>\n",
       "      <th>InvoiceDate</th>\n",
       "      <th>PayDate</th>\n",
       "      <th>PurchasePrice</th>\n",
       "      <th>Quantity</th>\n",
       "      <th>Dollars</th>\n",
       "      <th>Classification</th>\n",
       "    </tr>\n",
       "  </thead>\n",
       "  <tbody>\n",
       "    <tr>\n",
       "      <th>0</th>\n",
       "      <td>69_MOUNTMEND_8412</td>\n",
       "      <td>69</td>\n",
       "      <td>8412</td>\n",
       "      <td>Tequila Ocho Plata Fresno</td>\n",
       "      <td>750mL</td>\n",
       "      <td>105</td>\n",
       "      <td>ALTAMAR BRANDS LLC</td>\n",
       "      <td>8124</td>\n",
       "      <td>2015-12-21</td>\n",
       "      <td>2016-01-02</td>\n",
       "      <td>2016-01-04</td>\n",
       "      <td>2016-02-16</td>\n",
       "      <td>35.71</td>\n",
       "      <td>6</td>\n",
       "      <td>214.26</td>\n",
       "      <td>1</td>\n",
       "    </tr>\n",
       "    <tr>\n",
       "      <th>1</th>\n",
       "      <td>30_CULCHETH_5255</td>\n",
       "      <td>30</td>\n",
       "      <td>5255</td>\n",
       "      <td>TGI Fridays Ultimte Mudslide</td>\n",
       "      <td>1.75L</td>\n",
       "      <td>4466</td>\n",
       "      <td>AMERICAN VINTAGE BEVERAGE</td>\n",
       "      <td>8137</td>\n",
       "      <td>2015-12-22</td>\n",
       "      <td>2016-01-01</td>\n",
       "      <td>2016-01-07</td>\n",
       "      <td>2016-02-21</td>\n",
       "      <td>9.35</td>\n",
       "      <td>4</td>\n",
       "      <td>37.40</td>\n",
       "      <td>1</td>\n",
       "    </tr>\n",
       "    <tr>\n",
       "      <th>2</th>\n",
       "      <td>34_PITMERDEN_5215</td>\n",
       "      <td>34</td>\n",
       "      <td>5215</td>\n",
       "      <td>TGI Fridays Long Island Iced</td>\n",
       "      <td>1.75L</td>\n",
       "      <td>4466</td>\n",
       "      <td>AMERICAN VINTAGE BEVERAGE</td>\n",
       "      <td>8137</td>\n",
       "      <td>2015-12-22</td>\n",
       "      <td>2016-01-02</td>\n",
       "      <td>2016-01-07</td>\n",
       "      <td>2016-02-21</td>\n",
       "      <td>9.41</td>\n",
       "      <td>5</td>\n",
       "      <td>47.05</td>\n",
       "      <td>1</td>\n",
       "    </tr>\n",
       "    <tr>\n",
       "      <th>3</th>\n",
       "      <td>1_HARDERSFIELD_5255</td>\n",
       "      <td>1</td>\n",
       "      <td>5255</td>\n",
       "      <td>TGI Fridays Ultimte Mudslide</td>\n",
       "      <td>1.75L</td>\n",
       "      <td>4466</td>\n",
       "      <td>AMERICAN VINTAGE BEVERAGE</td>\n",
       "      <td>8137</td>\n",
       "      <td>2015-12-22</td>\n",
       "      <td>2016-01-01</td>\n",
       "      <td>2016-01-07</td>\n",
       "      <td>2016-02-21</td>\n",
       "      <td>9.35</td>\n",
       "      <td>6</td>\n",
       "      <td>56.10</td>\n",
       "      <td>1</td>\n",
       "    </tr>\n",
       "    <tr>\n",
       "      <th>4</th>\n",
       "      <td>76_DONCASTER_2034</td>\n",
       "      <td>76</td>\n",
       "      <td>2034</td>\n",
       "      <td>Glendalough Double Barrel</td>\n",
       "      <td>750mL</td>\n",
       "      <td>388</td>\n",
       "      <td>ATLANTIC IMPORTING COMPANY</td>\n",
       "      <td>8169</td>\n",
       "      <td>2015-12-24</td>\n",
       "      <td>2016-01-02</td>\n",
       "      <td>2016-01-09</td>\n",
       "      <td>2016-02-16</td>\n",
       "      <td>21.32</td>\n",
       "      <td>5</td>\n",
       "      <td>106.60</td>\n",
       "      <td>1</td>\n",
       "    </tr>\n",
       "  </tbody>\n",
       "</table>\n",
       "</div>"
      ],
      "text/plain": [
       "           InventoryId  Store  Brand                   Description   Size  \\\n",
       "0    69_MOUNTMEND_8412     69   8412     Tequila Ocho Plata Fresno  750mL   \n",
       "1     30_CULCHETH_5255     30   5255  TGI Fridays Ultimte Mudslide  1.75L   \n",
       "2    34_PITMERDEN_5215     34   5215  TGI Fridays Long Island Iced  1.75L   \n",
       "3  1_HARDERSFIELD_5255      1   5255  TGI Fridays Ultimte Mudslide  1.75L   \n",
       "4    76_DONCASTER_2034     76   2034     Glendalough Double Barrel  750mL   \n",
       "\n",
       "   VendorNumber                   VendorName  PONumber      PODate  \\\n",
       "0           105  ALTAMAR BRANDS LLC               8124  2015-12-21   \n",
       "1          4466  AMERICAN VINTAGE BEVERAGE        8137  2015-12-22   \n",
       "2          4466  AMERICAN VINTAGE BEVERAGE        8137  2015-12-22   \n",
       "3          4466  AMERICAN VINTAGE BEVERAGE        8137  2015-12-22   \n",
       "4           388  ATLANTIC IMPORTING COMPANY       8169  2015-12-24   \n",
       "\n",
       "  ReceivingDate InvoiceDate     PayDate  PurchasePrice  Quantity  Dollars  \\\n",
       "0    2016-01-02  2016-01-04  2016-02-16          35.71         6   214.26   \n",
       "1    2016-01-01  2016-01-07  2016-02-21           9.35         4    37.40   \n",
       "2    2016-01-02  2016-01-07  2016-02-21           9.41         5    47.05   \n",
       "3    2016-01-01  2016-01-07  2016-02-21           9.35         6    56.10   \n",
       "4    2016-01-02  2016-01-09  2016-02-16          21.32         5   106.60   \n",
       "\n",
       "   Classification  \n",
       "0               1  \n",
       "1               1  \n",
       "2               1  \n",
       "3               1  \n",
       "4               1  "
      ]
     },
     "execution_count": 10,
     "metadata": {},
     "output_type": "execute_result"
    }
   ],
   "source": [
    "purchasefinal = pd.read_csv(r\"C:\\Users\\dell6\\OneDrive\\Desktop\\Yashu jobs\\By Yashu\\Alfido Tech\\Tasks\\Task 3\\PurchasesFINAL12312016.csv\")\n",
    "purchasefinal.head()"
   ]
  },
  {
   "cell_type": "code",
   "execution_count": 11,
   "id": "4c676072",
   "metadata": {},
   "outputs": [
    {
     "data": {
      "text/plain": [
       "(2372474, 16)"
      ]
     },
     "execution_count": 11,
     "metadata": {},
     "output_type": "execute_result"
    }
   ],
   "source": [
    "purchasefinal.shape"
   ]
  },
  {
   "cell_type": "code",
   "execution_count": 12,
   "id": "6deac31e",
   "metadata": {},
   "outputs": [
    {
     "data": {
      "text/html": [
       "<div>\n",
       "<style scoped>\n",
       "    .dataframe tbody tr th:only-of-type {\n",
       "        vertical-align: middle;\n",
       "    }\n",
       "\n",
       "    .dataframe tbody tr th {\n",
       "        vertical-align: top;\n",
       "    }\n",
       "\n",
       "    .dataframe thead th {\n",
       "        text-align: right;\n",
       "    }\n",
       "</style>\n",
       "<table border=\"1\" class=\"dataframe\">\n",
       "  <thead>\n",
       "    <tr style=\"text-align: right;\">\n",
       "      <th></th>\n",
       "      <th>InventoryId</th>\n",
       "      <th>Store</th>\n",
       "      <th>Brand</th>\n",
       "      <th>Description</th>\n",
       "      <th>Size</th>\n",
       "      <th>SalesQuantity</th>\n",
       "      <th>SalesDollars</th>\n",
       "      <th>SalesPrice</th>\n",
       "      <th>SalesDate</th>\n",
       "      <th>Volume</th>\n",
       "      <th>Classification</th>\n",
       "      <th>ExciseTax</th>\n",
       "      <th>VendorNo</th>\n",
       "      <th>VendorName</th>\n",
       "    </tr>\n",
       "  </thead>\n",
       "  <tbody>\n",
       "    <tr>\n",
       "      <th>0</th>\n",
       "      <td>1_HARDERSFIELD_1004</td>\n",
       "      <td>1</td>\n",
       "      <td>1004</td>\n",
       "      <td>Jim Beam w/2 Rocks Glasses</td>\n",
       "      <td>750mL</td>\n",
       "      <td>1</td>\n",
       "      <td>16.49</td>\n",
       "      <td>16.49</td>\n",
       "      <td>1/1/2016</td>\n",
       "      <td>750</td>\n",
       "      <td>1</td>\n",
       "      <td>0.79</td>\n",
       "      <td>12546</td>\n",
       "      <td>JIM BEAM BRANDS COMPANY</td>\n",
       "    </tr>\n",
       "    <tr>\n",
       "      <th>1</th>\n",
       "      <td>1_HARDERSFIELD_1004</td>\n",
       "      <td>1</td>\n",
       "      <td>1004</td>\n",
       "      <td>Jim Beam w/2 Rocks Glasses</td>\n",
       "      <td>750mL</td>\n",
       "      <td>2</td>\n",
       "      <td>32.98</td>\n",
       "      <td>16.49</td>\n",
       "      <td>1/2/2016</td>\n",
       "      <td>750</td>\n",
       "      <td>1</td>\n",
       "      <td>1.57</td>\n",
       "      <td>12546</td>\n",
       "      <td>JIM BEAM BRANDS COMPANY</td>\n",
       "    </tr>\n",
       "    <tr>\n",
       "      <th>2</th>\n",
       "      <td>1_HARDERSFIELD_1004</td>\n",
       "      <td>1</td>\n",
       "      <td>1004</td>\n",
       "      <td>Jim Beam w/2 Rocks Glasses</td>\n",
       "      <td>750mL</td>\n",
       "      <td>1</td>\n",
       "      <td>16.49</td>\n",
       "      <td>16.49</td>\n",
       "      <td>1/3/2016</td>\n",
       "      <td>750</td>\n",
       "      <td>1</td>\n",
       "      <td>0.79</td>\n",
       "      <td>12546</td>\n",
       "      <td>JIM BEAM BRANDS COMPANY</td>\n",
       "    </tr>\n",
       "    <tr>\n",
       "      <th>3</th>\n",
       "      <td>1_HARDERSFIELD_1004</td>\n",
       "      <td>1</td>\n",
       "      <td>1004</td>\n",
       "      <td>Jim Beam w/2 Rocks Glasses</td>\n",
       "      <td>750mL</td>\n",
       "      <td>1</td>\n",
       "      <td>14.49</td>\n",
       "      <td>14.49</td>\n",
       "      <td>1/8/2016</td>\n",
       "      <td>750</td>\n",
       "      <td>1</td>\n",
       "      <td>0.79</td>\n",
       "      <td>12546</td>\n",
       "      <td>JIM BEAM BRANDS COMPANY</td>\n",
       "    </tr>\n",
       "    <tr>\n",
       "      <th>4</th>\n",
       "      <td>1_HARDERSFIELD_1005</td>\n",
       "      <td>1</td>\n",
       "      <td>1005</td>\n",
       "      <td>Maker's Mark Combo Pack</td>\n",
       "      <td>375mL 2 Pk</td>\n",
       "      <td>2</td>\n",
       "      <td>69.98</td>\n",
       "      <td>34.99</td>\n",
       "      <td>1/9/2016</td>\n",
       "      <td>375</td>\n",
       "      <td>1</td>\n",
       "      <td>0.79</td>\n",
       "      <td>12546</td>\n",
       "      <td>JIM BEAM BRANDS COMPANY</td>\n",
       "    </tr>\n",
       "  </tbody>\n",
       "</table>\n",
       "</div>"
      ],
      "text/plain": [
       "           InventoryId  Store  Brand                 Description        Size  \\\n",
       "0  1_HARDERSFIELD_1004      1   1004  Jim Beam w/2 Rocks Glasses       750mL   \n",
       "1  1_HARDERSFIELD_1004      1   1004  Jim Beam w/2 Rocks Glasses       750mL   \n",
       "2  1_HARDERSFIELD_1004      1   1004  Jim Beam w/2 Rocks Glasses       750mL   \n",
       "3  1_HARDERSFIELD_1004      1   1004  Jim Beam w/2 Rocks Glasses       750mL   \n",
       "4  1_HARDERSFIELD_1005      1   1005     Maker's Mark Combo Pack  375mL 2 Pk   \n",
       "\n",
       "   SalesQuantity  SalesDollars  SalesPrice SalesDate  Volume  Classification  \\\n",
       "0              1         16.49       16.49  1/1/2016     750               1   \n",
       "1              2         32.98       16.49  1/2/2016     750               1   \n",
       "2              1         16.49       16.49  1/3/2016     750               1   \n",
       "3              1         14.49       14.49  1/8/2016     750               1   \n",
       "4              2         69.98       34.99  1/9/2016     375               1   \n",
       "\n",
       "   ExciseTax  VendorNo                   VendorName  \n",
       "0       0.79     12546  JIM BEAM BRANDS COMPANY      \n",
       "1       1.57     12546  JIM BEAM BRANDS COMPANY      \n",
       "2       0.79     12546  JIM BEAM BRANDS COMPANY      \n",
       "3       0.79     12546  JIM BEAM BRANDS COMPANY      \n",
       "4       0.79     12546  JIM BEAM BRANDS COMPANY      "
      ]
     },
     "execution_count": 12,
     "metadata": {},
     "output_type": "execute_result"
    }
   ],
   "source": [
    "salesfinal = pd.read_csv(r\"C:\\Users\\dell6\\OneDrive\\Desktop\\Yashu jobs\\By Yashu\\Alfido Tech\\Tasks\\Task 3\\SalesFINAL12312016.csv\")\n",
    "salesfinal.head()"
   ]
  },
  {
   "cell_type": "code",
   "execution_count": 13,
   "id": "cc2fb888",
   "metadata": {},
   "outputs": [
    {
     "data": {
      "text/plain": [
       "(1048575, 14)"
      ]
     },
     "execution_count": 13,
     "metadata": {},
     "output_type": "execute_result"
    }
   ],
   "source": [
    "salesfinal.shape"
   ]
  },
  {
   "cell_type": "code",
   "execution_count": null,
   "id": "c2843d0b",
   "metadata": {},
   "outputs": [],
   "source": []
  },
  {
   "cell_type": "markdown",
   "id": "7803df3c",
   "metadata": {},
   "source": [
    "# Purchase Price:"
   ]
  },
  {
   "cell_type": "markdown",
   "id": "7ec88734",
   "metadata": {},
   "source": [
    "### Data Exploration:"
   ]
  },
  {
   "cell_type": "code",
   "execution_count": 14,
   "id": "4ab5d9b9",
   "metadata": {},
   "outputs": [
    {
     "data": {
      "text/html": [
       "<div>\n",
       "<style scoped>\n",
       "    .dataframe tbody tr th:only-of-type {\n",
       "        vertical-align: middle;\n",
       "    }\n",
       "\n",
       "    .dataframe tbody tr th {\n",
       "        vertical-align: top;\n",
       "    }\n",
       "\n",
       "    .dataframe thead th {\n",
       "        text-align: right;\n",
       "    }\n",
       "</style>\n",
       "<table border=\"1\" class=\"dataframe\">\n",
       "  <thead>\n",
       "    <tr style=\"text-align: right;\">\n",
       "      <th></th>\n",
       "      <th>Brand</th>\n",
       "      <th>Description</th>\n",
       "      <th>Price</th>\n",
       "      <th>Size</th>\n",
       "      <th>Volume</th>\n",
       "      <th>Classification</th>\n",
       "      <th>PurchasePrice</th>\n",
       "      <th>VendorNumber</th>\n",
       "      <th>VendorName</th>\n",
       "    </tr>\n",
       "  </thead>\n",
       "  <tbody>\n",
       "    <tr>\n",
       "      <th>0</th>\n",
       "      <td>58</td>\n",
       "      <td>Gekkeikan Black &amp; Gold Sake</td>\n",
       "      <td>12.99</td>\n",
       "      <td>750mL</td>\n",
       "      <td>750</td>\n",
       "      <td>1</td>\n",
       "      <td>9.28</td>\n",
       "      <td>8320</td>\n",
       "      <td>SHAW ROSS INT L IMP LTD</td>\n",
       "    </tr>\n",
       "    <tr>\n",
       "      <th>1</th>\n",
       "      <td>62</td>\n",
       "      <td>Herradura Silver Tequila</td>\n",
       "      <td>36.99</td>\n",
       "      <td>750mL</td>\n",
       "      <td>750</td>\n",
       "      <td>1</td>\n",
       "      <td>28.67</td>\n",
       "      <td>1128</td>\n",
       "      <td>BROWN-FORMAN CORP</td>\n",
       "    </tr>\n",
       "    <tr>\n",
       "      <th>2</th>\n",
       "      <td>63</td>\n",
       "      <td>Herradura Reposado Tequila</td>\n",
       "      <td>38.99</td>\n",
       "      <td>750mL</td>\n",
       "      <td>750</td>\n",
       "      <td>1</td>\n",
       "      <td>30.46</td>\n",
       "      <td>1128</td>\n",
       "      <td>BROWN-FORMAN CORP</td>\n",
       "    </tr>\n",
       "    <tr>\n",
       "      <th>3</th>\n",
       "      <td>72</td>\n",
       "      <td>No. 3 London Dry Gin</td>\n",
       "      <td>34.99</td>\n",
       "      <td>750mL</td>\n",
       "      <td>750</td>\n",
       "      <td>1</td>\n",
       "      <td>26.11</td>\n",
       "      <td>9165</td>\n",
       "      <td>ULTRA BEVERAGE COMPANY LLP</td>\n",
       "    </tr>\n",
       "    <tr>\n",
       "      <th>4</th>\n",
       "      <td>75</td>\n",
       "      <td>Three Olives Tomato Vodka</td>\n",
       "      <td>14.99</td>\n",
       "      <td>750mL</td>\n",
       "      <td>750</td>\n",
       "      <td>1</td>\n",
       "      <td>10.94</td>\n",
       "      <td>7245</td>\n",
       "      <td>PROXIMO SPIRITS INC.</td>\n",
       "    </tr>\n",
       "  </tbody>\n",
       "</table>\n",
       "</div>"
      ],
      "text/plain": [
       "   Brand                  Description  Price   Size Volume  Classification  \\\n",
       "0     58  Gekkeikan Black & Gold Sake  12.99  750mL    750               1   \n",
       "1     62     Herradura Silver Tequila  36.99  750mL    750               1   \n",
       "2     63   Herradura Reposado Tequila  38.99  750mL    750               1   \n",
       "3     72         No. 3 London Dry Gin  34.99  750mL    750               1   \n",
       "4     75    Three Olives Tomato Vodka  14.99  750mL    750               1   \n",
       "\n",
       "   PurchasePrice  VendorNumber                   VendorName  \n",
       "0           9.28          8320  SHAW ROSS INT L IMP LTD      \n",
       "1          28.67          1128  BROWN-FORMAN CORP            \n",
       "2          30.46          1128  BROWN-FORMAN CORP            \n",
       "3          26.11          9165  ULTRA BEVERAGE COMPANY LLP   \n",
       "4          10.94          7245  PROXIMO SPIRITS INC.         "
      ]
     },
     "execution_count": 14,
     "metadata": {},
     "output_type": "execute_result"
    }
   ],
   "source": [
    "purchaseprice.head()"
   ]
  },
  {
   "cell_type": "code",
   "execution_count": 15,
   "id": "aa87b7ea",
   "metadata": {},
   "outputs": [
    {
     "data": {
      "text/plain": [
       "(12261, 9)"
      ]
     },
     "execution_count": 15,
     "metadata": {},
     "output_type": "execute_result"
    }
   ],
   "source": [
    "purchaseprice.shape"
   ]
  },
  {
   "cell_type": "code",
   "execution_count": 16,
   "id": "ee828188",
   "metadata": {},
   "outputs": [
    {
     "data": {
      "text/plain": [
       "0"
      ]
     },
     "execution_count": 16,
     "metadata": {},
     "output_type": "execute_result"
    }
   ],
   "source": [
    "purchaseprice.duplicated().sum()"
   ]
  },
  {
   "cell_type": "markdown",
   "id": "4ffb770b",
   "metadata": {},
   "source": [
    "### Redundant columns:"
   ]
  },
  {
   "cell_type": "code",
   "execution_count": 17,
   "id": "6ccab9b6",
   "metadata": {},
   "outputs": [],
   "source": [
    "purchaseprice = purchaseprice.drop('Size', axis = 1)"
   ]
  },
  {
   "cell_type": "code",
   "execution_count": 18,
   "id": "352e192e",
   "metadata": {},
   "outputs": [
    {
     "data": {
      "text/html": [
       "<div>\n",
       "<style scoped>\n",
       "    .dataframe tbody tr th:only-of-type {\n",
       "        vertical-align: middle;\n",
       "    }\n",
       "\n",
       "    .dataframe tbody tr th {\n",
       "        vertical-align: top;\n",
       "    }\n",
       "\n",
       "    .dataframe thead th {\n",
       "        text-align: right;\n",
       "    }\n",
       "</style>\n",
       "<table border=\"1\" class=\"dataframe\">\n",
       "  <thead>\n",
       "    <tr style=\"text-align: right;\">\n",
       "      <th></th>\n",
       "      <th>Brand</th>\n",
       "      <th>Description</th>\n",
       "      <th>Price</th>\n",
       "      <th>Volume</th>\n",
       "      <th>Classification</th>\n",
       "      <th>PurchasePrice</th>\n",
       "      <th>VendorNumber</th>\n",
       "      <th>VendorName</th>\n",
       "    </tr>\n",
       "  </thead>\n",
       "  <tbody>\n",
       "    <tr>\n",
       "      <th>0</th>\n",
       "      <td>58</td>\n",
       "      <td>Gekkeikan Black &amp; Gold Sake</td>\n",
       "      <td>12.99</td>\n",
       "      <td>750</td>\n",
       "      <td>1</td>\n",
       "      <td>9.28</td>\n",
       "      <td>8320</td>\n",
       "      <td>SHAW ROSS INT L IMP LTD</td>\n",
       "    </tr>\n",
       "  </tbody>\n",
       "</table>\n",
       "</div>"
      ],
      "text/plain": [
       "   Brand                  Description  Price Volume  Classification  \\\n",
       "0     58  Gekkeikan Black & Gold Sake  12.99    750               1   \n",
       "\n",
       "   PurchasePrice  VendorNumber                   VendorName  \n",
       "0           9.28          8320  SHAW ROSS INT L IMP LTD      "
      ]
     },
     "execution_count": 18,
     "metadata": {},
     "output_type": "execute_result"
    }
   ],
   "source": [
    "purchaseprice.head(1)"
   ]
  },
  {
   "cell_type": "markdown",
   "id": "ac39a57c",
   "metadata": {},
   "source": [
    "### Noise values:"
   ]
  },
  {
   "cell_type": "code",
   "execution_count": 19,
   "id": "e3df8b78",
   "metadata": {},
   "outputs": [
    {
     "data": {
      "text/plain": [
       "Brand               int64\n",
       "Description        object\n",
       "Price             float64\n",
       "Volume             object\n",
       "Classification      int64\n",
       "PurchasePrice     float64\n",
       "VendorNumber        int64\n",
       "VendorName         object\n",
       "dtype: object"
      ]
     },
     "execution_count": 19,
     "metadata": {},
     "output_type": "execute_result"
    }
   ],
   "source": [
    "purchaseprice.dtypes"
   ]
  },
  {
   "cell_type": "code",
   "execution_count": 20,
   "id": "f0eddeb6",
   "metadata": {},
   "outputs": [
    {
     "name": "stdout",
     "output_type": "stream",
     "text": [
      "Brand [   58    60    61 ... 90604 90609 90631] \n",
      "\n",
      "Description ['(RI) 1' '.nparalleled Svgn Blanc' '10 Cane Rum' ... 'g Sake'\n",
      " 'von Buhl Jazz Rsl' nan] \n",
      "\n",
      "Price [0.00000e+00 4.90000e-01 9.90000e-01 1.29000e+00 1.49000e+00 1.79000e+00\n",
      " 1.99000e+00 2.29000e+00 2.49000e+00 2.79000e+00 2.99000e+00 3.29000e+00\n",
      " 3.49000e+00 3.79000e+00 3.99000e+00 4.29000e+00 4.39000e+00 4.49000e+00\n",
      " 4.79000e+00 4.99000e+00 5.29000e+00 5.49000e+00 5.79000e+00 5.99000e+00\n",
      " 6.19000e+00 6.29000e+00 6.49000e+00 6.79000e+00 6.95000e+00 6.99000e+00\n",
      " 7.29000e+00 7.49000e+00 7.69000e+00 7.79000e+00 7.89000e+00 7.95000e+00\n",
      " 7.99000e+00 8.29000e+00 8.49000e+00 8.79000e+00 8.95000e+00 8.99000e+00\n",
      " 9.29000e+00 9.49000e+00 9.79000e+00 9.95000e+00 9.97000e+00 9.99000e+00\n",
      " 1.02900e+01 1.04900e+01 1.09500e+01 1.09900e+01 1.12900e+01 1.14900e+01\n",
      " 1.19900e+01 1.22900e+01 1.24900e+01 1.29900e+01 1.34900e+01 1.39900e+01\n",
      " 1.44900e+01 1.49900e+01 1.54900e+01 1.57900e+01 1.59900e+01 1.64900e+01\n",
      " 1.67900e+01 1.69500e+01 1.69900e+01 1.74900e+01 1.79900e+01 1.84900e+01\n",
      " 1.89900e+01 1.94900e+01 1.99500e+01 1.99900e+01 2.04900e+01 2.09900e+01\n",
      " 2.10100e+01 2.14900e+01 2.19900e+01 2.22900e+01 2.24900e+01 2.29900e+01\n",
      " 2.34900e+01 2.39900e+01 2.44900e+01 2.49900e+01 2.54900e+01 2.59900e+01\n",
      " 2.64900e+01 2.69900e+01 2.74900e+01 2.79900e+01 2.84900e+01 2.89900e+01\n",
      " 2.94900e+01 2.99900e+01 3.09900e+01 3.19900e+01 3.29900e+01 3.34900e+01\n",
      " 3.39900e+01 3.44900e+01 3.49900e+01 3.54900e+01 3.59900e+01 3.64900e+01\n",
      " 3.69900e+01 3.79900e+01 3.89900e+01 3.94900e+01 3.99900e+01 4.04900e+01\n",
      " 4.09900e+01 4.19900e+01 4.29900e+01 4.34900e+01 4.39900e+01 4.44900e+01\n",
      " 4.49900e+01 4.54900e+01 4.59900e+01 4.64900e+01 4.69900e+01 4.74900e+01\n",
      " 4.79900e+01 4.89900e+01 4.94900e+01 4.99900e+01 5.04900e+01 5.09900e+01\n",
      " 5.19900e+01 5.24900e+01 5.29900e+01 5.34900e+01 5.39900e+01 5.49900e+01\n",
      " 5.54900e+01 5.59900e+01 5.69900e+01 5.74900e+01 5.79900e+01 5.89900e+01\n",
      " 5.99900e+01 6.09900e+01 6.19900e+01 6.29900e+01 6.39900e+01 6.49900e+01\n",
      " 6.59900e+01 6.69900e+01 6.79900e+01 6.89900e+01 6.99900e+01 7.09900e+01\n",
      " 7.19900e+01 7.24900e+01 7.29900e+01 7.39900e+01 7.49900e+01 7.59900e+01\n",
      " 7.69900e+01 7.79900e+01 7.89900e+01 7.94900e+01 7.99900e+01 8.09900e+01\n",
      " 8.19900e+01 8.29900e+01 8.34900e+01 8.39900e+01 8.49900e+01 8.59900e+01\n",
      " 8.79900e+01 8.89900e+01 8.99900e+01 9.09900e+01 9.19900e+01 9.29900e+01\n",
      " 9.39900e+01 9.49900e+01 9.59900e+01 9.69900e+01 9.79900e+01 9.89900e+01\n",
      " 9.99900e+01 1.00990e+02 1.01990e+02 1.03990e+02 1.04990e+02 1.05990e+02\n",
      " 1.07990e+02 1.09900e+02 1.09990e+02 1.10990e+02 1.11990e+02 1.12990e+02\n",
      " 1.14490e+02 1.14990e+02 1.15990e+02 1.16990e+02 1.19990e+02 1.21990e+02\n",
      " 1.22990e+02 1.23990e+02 1.24990e+02 1.25990e+02 1.26990e+02 1.27490e+02\n",
      " 1.28990e+02 1.29990e+02 1.31990e+02 1.33990e+02 1.34490e+02 1.34990e+02\n",
      " 1.37990e+02 1.39900e+02 1.39990e+02 1.41990e+02 1.42990e+02 1.44990e+02\n",
      " 1.45900e+02 1.45990e+02 1.47990e+02 1.49990e+02 1.52990e+02 1.53990e+02\n",
      " 1.54990e+02 1.55900e+02 1.55990e+02 1.59990e+02 1.64990e+02 1.65990e+02\n",
      " 1.67990e+02 1.68990e+02 1.69900e+02 1.69990e+02 1.71990e+02 1.72990e+02\n",
      " 1.74990e+02 1.75990e+02 1.76990e+02 1.77990e+02 1.78990e+02 1.79990e+02\n",
      " 1.83990e+02 1.84990e+02 1.85990e+02 1.86990e+02 1.87990e+02 1.88990e+02\n",
      " 1.89990e+02 1.90990e+02 1.95990e+02 1.97990e+02 1.98990e+02 1.99990e+02\n",
      " 2.04990e+02 2.05990e+02 2.09990e+02 2.14990e+02 2.19990e+02 2.20990e+02\n",
      " 2.21990e+02 2.24990e+02 2.27990e+02 2.29990e+02 2.30490e+02 2.33990e+02\n",
      " 2.35990e+02 2.37990e+02 2.39900e+02 2.39950e+02 2.39990e+02 2.41490e+02\n",
      " 2.45990e+02 2.49900e+02 2.49990e+02 2.51490e+02 2.54990e+02 2.59990e+02\n",
      " 2.64990e+02 2.69990e+02 2.71990e+02 2.74990e+02 2.75990e+02 2.76990e+02\n",
      " 2.79990e+02 2.85990e+02 2.89990e+02 2.92990e+02 2.93990e+02 2.98990e+02\n",
      " 2.99990e+02 3.05990e+02 3.07990e+02 3.19990e+02 3.21990e+02 3.24990e+02\n",
      " 3.29990e+02 3.31990e+02 3.39990e+02 3.42990e+02 3.46990e+02 3.47990e+02\n",
      " 3.48990e+02 3.49990e+02 3.54990e+02 3.55990e+02 3.59990e+02 3.74990e+02\n",
      " 3.79990e+02 3.82990e+02 3.89990e+02 3.91990e+02 3.98990e+02 3.99900e+02\n",
      " 3.99990e+02 4.09990e+02 4.19990e+02 4.24990e+02 4.29990e+02 4.39990e+02\n",
      " 4.47990e+02 4.49990e+02 4.55990e+02 4.60990e+02 4.67990e+02 4.69990e+02\n",
      " 4.72490e+02 4.99990e+02 5.19990e+02 5.28990e+02 5.29990e+02 5.39990e+02\n",
      " 5.69990e+02 5.98990e+02 5.99990e+02 6.25990e+02 6.29990e+02 6.49990e+02\n",
      " 6.54990e+02 6.66990e+02 6.67990e+02 6.69990e+02 6.98990e+02 6.99990e+02\n",
      " 7.39990e+02 7.49990e+02 7.59990e+02 7.64990e+02 7.99990e+02 8.29990e+02\n",
      " 8.69990e+02 8.99990e+02 9.21990e+02 9.49990e+02 9.99990e+02 1.19999e+03\n",
      " 1.29999e+03 1.33399e+03 1.49999e+03 1.59999e+03 1.66499e+03 1.99999e+03\n",
      " 2.19999e+03 2.69999e+03 2.79999e+03 2.99999e+03 3.39999e+03 3.49999e+03\n",
      " 3.69999e+03 3.99999e+03 4.22299e+03 4.55999e+03 4.99999e+03 5.79999e+03\n",
      " 7.49999e+03 1.39999e+04] \n",
      "\n",
      "Volume ['100' '1000' '1100' '150' '1500' '162.5' '1750' '180' '18000' '187'\n",
      " '19500' '20' '200' '20000' '250' '300' '3000' '330' '375' '3750' '400'\n",
      " '4000' '50' '500' '5000' '560' '600' '6000' '650' '720' '750' '9000'\n",
      " 'Unknown' nan] \n",
      "\n",
      "Classification [1 2] \n",
      "\n",
      "PurchasePrice [0.000000e+00 3.500000e-01 3.600000e-01 ... 4.264700e+03 5.681810e+03\n",
      " 1.111103e+04] \n",
      "\n",
      "VendorNumber [     2     54     60    105    200    287    388    480    516    653\n",
      "    660   1002   1003   1128   1189   1265   1273   1392   1439   1485\n",
      "   1587   1590   1601   1650   1655   1703   2000   2242   2396   2450\n",
      "   2496   2555   2561   2876   2973   3089   3252   3551   3664   3670\n",
      "   3924   3950   3951   3960   4380   4425   4466   4550   4692   4848\n",
      "   4901   4950   5083   5270   5455   5612   5895   5992   6213   6215\n",
      "   6280   6355   6359   6785   6830   7153   7154   7239   7240   7245\n",
      "   7255   7749   8004   8112   8150   8320   8352   8663   8664   8673\n",
      "   8735   8892   8920   9099   9165   9206   9260   9552   9622   9625\n",
      "   9710   9744   9751   9815   9819  10000  10050  10754  11567  12331\n",
      "  12546  17031  17032  17033  17035  17037  28750  28776  90010  90011\n",
      "  90017  90024  90026  90027  90032  90033  90034  90037  90046  90047\n",
      "  90051  90052  90053  90056  90057  90058  90059  98450  99166 172662\n",
      " 173357] \n",
      "\n",
      "VendorName ['AAPER ALCOHOL & CHEMICAL CO' 'ADAMBA IMPORTS INTL INC    '\n",
      " 'ALISA CARR BEVERAGES' 'ALISA CARR BEVERAGES           '\n",
      " 'ALISA CARR BEVERAGES               ' 'ALTAMAR BRANDS LLC         '\n",
      " 'AMERICAN SPIRITS EXCHANGE  ' 'AMERICAN VINTAGE BEVERAGE  '\n",
      " 'APPOLO VINEYARDS LLC       ' 'ATLANTIC IMPORTING COMPANY '\n",
      " 'BACARDI USA INC            ' 'BANFI PRODUCTS CORP        '\n",
      " 'BERNIKO LLC                ' 'BLACK COVE BEVERAGES       '\n",
      " 'BLACK PRINCE DISTILLERY INC' 'BLACK ROCK SPIRITS LLC     '\n",
      " 'BRONCO WINE COMPANY        ' 'BROWN-FORMAN CORP          '\n",
      " 'BULLY BOY DISTILLERS       ' 'CALEDONIA SPIRITS INC      '\n",
      " 'CAMPARI AMERICA            ' 'CANDIA VINEYARDS           '\n",
      " 'CAPSTONE INTERNATIONAL     ' 'CASTLE BRANDS CORP.        '\n",
      " 'CENTEUR IMPORTS LLC        ' 'CHARLES JACQUIN ET CIE INC '\n",
      " 'CONSTELLATION BRANDS INC   ' 'CRUSH WINES                '\n",
      " 'Circa Wines                ' 'DELICATO VINEYARDS INC     '\n",
      " 'DIAGEO CHATEAU ESTATE WINES' 'DIAGEO NORTH AMERICA INC   '\n",
      " 'DISARONNO INTERNATIONAL LLC' 'DJINN SPIRITS LLC          '\n",
      " 'DUGGANS DISTILLED PRODUCTS ' 'Dunn Wine Brokers          '\n",
      " 'E & J GALLO WINERY         ' 'EDRINGTON AMERICAS         '\n",
      " 'EXCLUSIVE WINES & SPIRITS  ' 'FABRIZIA SPIRITS LLC       '\n",
      " 'FANTASY FINE WINES CORP    ' 'FLAG HILL WINERY & VINEYARD'\n",
      " 'FLEMISH LION LLC           ' 'FORTUNE WINE BROKERS LLC   '\n",
      " 'FREDERICK WILDMAN & SONS   ' 'FULCHINO VINEYARD INC      '\n",
      " 'GILMANTON WINERY & VINEYARD' 'HALO DISTILLERY            '\n",
      " 'HAUNTING WHISPER VYDS      ' 'HEAVEN HILL DISTILLERIES   '\n",
      " 'HIGHLAND WINE MERCHANTS LLC' 'HOOD RIVER DISTILLERS, Inc.'\n",
      " 'INCREDIBREW INC            ' 'IRA GOLDMAN AND WILLIAMS, LLP          '\n",
      " 'JEWELL TOWNE VINEYARDS     ' 'JIM BEAM BRANDS COMPANY    '\n",
      " 'KLIN SPIRITS LLC           ' 'KOBRAND CORPORATION        '\n",
      " 'LABELLE VYDS AND WINERY    ' 'LAIRD & CO                 '\n",
      " 'LATITUDE BEVERAGE COMPANY  ' 'LAUREATE IMPORTS CO        '\n",
      " 'LOYAL DOG WINERY           ' 'LUXCO INC                  '\n",
      " 'M S WALKER INC             ' 'MAJESTIC FINE WINES        '\n",
      " 'MANGO BOTTLING INC         ' 'MARSALLE COMPANY           '\n",
      " 'MARTIGNETTI COMPANIES' 'MARTIGNETTI COMPANIES '\n",
      " 'MCCORMICK DISTILLING CO    ' 'MHW LTD                    '\n",
      " 'MILTONS DISTRIBUTING CO    ' 'MOET HENNESSY USA INC      '\n",
      " 'MOONLIGHT MEADERY          ' 'Mizkan Americas, Inc.      '\n",
      " 'NICHE W & S                ' 'OLE SMOKY DISTILLERY LLC   '\n",
      " 'PALM BAY INTERNATIONAL INC ' 'PARK STREET IMPORTS LLC    '\n",
      " 'PERFECTA WINES             ' 'PERNOD RICARD USA          '\n",
      " 'PHILLIPS PRODUCTS CO.      ' 'PINE STATE TRADING CO      '\n",
      " 'POVERTY LANE ORCHARDS      ' 'PREMIER DISTRIBUTORS       '\n",
      " 'PREMIUM PORT WINES, INC.   ' 'PROXIMO SPIRITS INC.       ' 'PSP WINES '\n",
      " 'R.P.IMPORTS INC            ' 'REMY COINTREAU USA INC     '\n",
      " 'Russian Standard Vodka     ' 'SAZERAC CO INC             '\n",
      " 'SAZERAC NORTH AMERICA INC. ' 'SEA BREEZE CELLARS LLC     '\n",
      " 'SEA HAGG DISTILLERY LLC    ' 'SHAW ROSS INT L IMP LTD    '\n",
      " 'SIDNEY FRANK IMPORTING CO  ' 'SILVER MOUNTAIN CIDERS     '\n",
      " 'SMOKY QUARTZ DISTILLERY LLC' 'SOUTHERN GLAZERS W&S OF NE '\n",
      " 'SOUTHERN WINE & SPIRITS NE ' 'STAR INDUSTRIES INC.       '\n",
      " 'STARK BREWING COMPANY      ' 'STATE WINE & SPIRITS   '\n",
      " 'STE MICHELLE WINE ESTATES  ' 'STELLAR IMPORTING CO LLC   '\n",
      " 'STOLI GROUP,(USA) LLC      ' 'SURVILLE ENTERPRISES CORP  '\n",
      " 'SWEET BABY VINEYARD        ' 'SWEETWATER FARM         '\n",
      " 'Serralles Usa LLC          ' 'TAKARA SAKE USA INC        '\n",
      " 'TALL SHIP DISTILLERY LLC   ' 'TAMWORTH DISTILLING        '\n",
      " 'THE IMPORTED GRAPE LLC     ' 'THE PIERPONT GROUP LLC     '\n",
      " 'TREASURY WINE ESTATES      ' 'TRINCHERO FAMILY ESTATES   '\n",
      " 'TRUETT HURST               ' 'TY KU LLC                  '\n",
      " 'ULTRA BEVERAGE COMPANY LLP ' 'UNCORKED       '\n",
      " 'VINEDREA WINES LLC         ' 'VINEXTRA INC               '\n",
      " 'VINEYARD BRANDS INC        ' 'VINEYARD BRANDS LLC        '\n",
      " 'VINILANDIA USA             ' 'VRANKEN AMERICA            '\n",
      " 'WALPOLE MTN VIEW WINERY    ' 'WEIN BAUER INC             '\n",
      " 'WESTERN SPIRITS BEVERAGE CO' 'WHYTE & MACKAY             '\n",
      " 'WILLIAM GRANT & SONS INC   ' 'WINE GROUP INC             '\n",
      " 'ZORVINO VINEYARDS          '] \n",
      "\n"
     ]
    }
   ],
   "source": [
    "for i in purchaseprice:\n",
    "    print(i, purchaseprice[i].sort_values().unique(), '\\n')"
   ]
  },
  {
   "cell_type": "code",
   "execution_count": 21,
   "id": "1fa20974",
   "metadata": {},
   "outputs": [],
   "source": [
    "col = ['Volume']"
   ]
  },
  {
   "cell_type": "code",
   "execution_count": 22,
   "id": "4985c745",
   "metadata": {},
   "outputs": [],
   "source": [
    "import re"
   ]
  },
  {
   "cell_type": "code",
   "execution_count": 23,
   "id": "5ab5773c",
   "metadata": {},
   "outputs": [],
   "source": [
    "def find_num(x):\n",
    "    lst = re.findall(r\"\\d+\", x)\n",
    "    if len(lst ) > 0 :\n",
    "        return lst[0]\n",
    "    else:\n",
    "        return 'nan'"
   ]
  },
  {
   "cell_type": "code",
   "execution_count": 24,
   "id": "949dfb4b",
   "metadata": {},
   "outputs": [],
   "source": [
    "for i in col:\n",
    "    purchaseprice[i] = purchaseprice[i].astype(str).apply(lambda x: find_num(x))"
   ]
  },
  {
   "cell_type": "code",
   "execution_count": 25,
   "id": "e26c1deb",
   "metadata": {
    "scrolled": true
   },
   "outputs": [
    {
     "name": "stdout",
     "output_type": "stream",
     "text": [
      "Brand [   58    60    61 ... 90604 90609 90631] \n",
      "\n",
      "Description ['(RI) 1' '.nparalleled Svgn Blanc' '10 Cane Rum' ... 'g Sake'\n",
      " 'von Buhl Jazz Rsl' nan] \n",
      "\n",
      "Price [0.00000e+00 4.90000e-01 9.90000e-01 1.29000e+00 1.49000e+00 1.79000e+00\n",
      " 1.99000e+00 2.29000e+00 2.49000e+00 2.79000e+00 2.99000e+00 3.29000e+00\n",
      " 3.49000e+00 3.79000e+00 3.99000e+00 4.29000e+00 4.39000e+00 4.49000e+00\n",
      " 4.79000e+00 4.99000e+00 5.29000e+00 5.49000e+00 5.79000e+00 5.99000e+00\n",
      " 6.19000e+00 6.29000e+00 6.49000e+00 6.79000e+00 6.95000e+00 6.99000e+00\n",
      " 7.29000e+00 7.49000e+00 7.69000e+00 7.79000e+00 7.89000e+00 7.95000e+00\n",
      " 7.99000e+00 8.29000e+00 8.49000e+00 8.79000e+00 8.95000e+00 8.99000e+00\n",
      " 9.29000e+00 9.49000e+00 9.79000e+00 9.95000e+00 9.97000e+00 9.99000e+00\n",
      " 1.02900e+01 1.04900e+01 1.09500e+01 1.09900e+01 1.12900e+01 1.14900e+01\n",
      " 1.19900e+01 1.22900e+01 1.24900e+01 1.29900e+01 1.34900e+01 1.39900e+01\n",
      " 1.44900e+01 1.49900e+01 1.54900e+01 1.57900e+01 1.59900e+01 1.64900e+01\n",
      " 1.67900e+01 1.69500e+01 1.69900e+01 1.74900e+01 1.79900e+01 1.84900e+01\n",
      " 1.89900e+01 1.94900e+01 1.99500e+01 1.99900e+01 2.04900e+01 2.09900e+01\n",
      " 2.10100e+01 2.14900e+01 2.19900e+01 2.22900e+01 2.24900e+01 2.29900e+01\n",
      " 2.34900e+01 2.39900e+01 2.44900e+01 2.49900e+01 2.54900e+01 2.59900e+01\n",
      " 2.64900e+01 2.69900e+01 2.74900e+01 2.79900e+01 2.84900e+01 2.89900e+01\n",
      " 2.94900e+01 2.99900e+01 3.09900e+01 3.19900e+01 3.29900e+01 3.34900e+01\n",
      " 3.39900e+01 3.44900e+01 3.49900e+01 3.54900e+01 3.59900e+01 3.64900e+01\n",
      " 3.69900e+01 3.79900e+01 3.89900e+01 3.94900e+01 3.99900e+01 4.04900e+01\n",
      " 4.09900e+01 4.19900e+01 4.29900e+01 4.34900e+01 4.39900e+01 4.44900e+01\n",
      " 4.49900e+01 4.54900e+01 4.59900e+01 4.64900e+01 4.69900e+01 4.74900e+01\n",
      " 4.79900e+01 4.89900e+01 4.94900e+01 4.99900e+01 5.04900e+01 5.09900e+01\n",
      " 5.19900e+01 5.24900e+01 5.29900e+01 5.34900e+01 5.39900e+01 5.49900e+01\n",
      " 5.54900e+01 5.59900e+01 5.69900e+01 5.74900e+01 5.79900e+01 5.89900e+01\n",
      " 5.99900e+01 6.09900e+01 6.19900e+01 6.29900e+01 6.39900e+01 6.49900e+01\n",
      " 6.59900e+01 6.69900e+01 6.79900e+01 6.89900e+01 6.99900e+01 7.09900e+01\n",
      " 7.19900e+01 7.24900e+01 7.29900e+01 7.39900e+01 7.49900e+01 7.59900e+01\n",
      " 7.69900e+01 7.79900e+01 7.89900e+01 7.94900e+01 7.99900e+01 8.09900e+01\n",
      " 8.19900e+01 8.29900e+01 8.34900e+01 8.39900e+01 8.49900e+01 8.59900e+01\n",
      " 8.79900e+01 8.89900e+01 8.99900e+01 9.09900e+01 9.19900e+01 9.29900e+01\n",
      " 9.39900e+01 9.49900e+01 9.59900e+01 9.69900e+01 9.79900e+01 9.89900e+01\n",
      " 9.99900e+01 1.00990e+02 1.01990e+02 1.03990e+02 1.04990e+02 1.05990e+02\n",
      " 1.07990e+02 1.09900e+02 1.09990e+02 1.10990e+02 1.11990e+02 1.12990e+02\n",
      " 1.14490e+02 1.14990e+02 1.15990e+02 1.16990e+02 1.19990e+02 1.21990e+02\n",
      " 1.22990e+02 1.23990e+02 1.24990e+02 1.25990e+02 1.26990e+02 1.27490e+02\n",
      " 1.28990e+02 1.29990e+02 1.31990e+02 1.33990e+02 1.34490e+02 1.34990e+02\n",
      " 1.37990e+02 1.39900e+02 1.39990e+02 1.41990e+02 1.42990e+02 1.44990e+02\n",
      " 1.45900e+02 1.45990e+02 1.47990e+02 1.49990e+02 1.52990e+02 1.53990e+02\n",
      " 1.54990e+02 1.55900e+02 1.55990e+02 1.59990e+02 1.64990e+02 1.65990e+02\n",
      " 1.67990e+02 1.68990e+02 1.69900e+02 1.69990e+02 1.71990e+02 1.72990e+02\n",
      " 1.74990e+02 1.75990e+02 1.76990e+02 1.77990e+02 1.78990e+02 1.79990e+02\n",
      " 1.83990e+02 1.84990e+02 1.85990e+02 1.86990e+02 1.87990e+02 1.88990e+02\n",
      " 1.89990e+02 1.90990e+02 1.95990e+02 1.97990e+02 1.98990e+02 1.99990e+02\n",
      " 2.04990e+02 2.05990e+02 2.09990e+02 2.14990e+02 2.19990e+02 2.20990e+02\n",
      " 2.21990e+02 2.24990e+02 2.27990e+02 2.29990e+02 2.30490e+02 2.33990e+02\n",
      " 2.35990e+02 2.37990e+02 2.39900e+02 2.39950e+02 2.39990e+02 2.41490e+02\n",
      " 2.45990e+02 2.49900e+02 2.49990e+02 2.51490e+02 2.54990e+02 2.59990e+02\n",
      " 2.64990e+02 2.69990e+02 2.71990e+02 2.74990e+02 2.75990e+02 2.76990e+02\n",
      " 2.79990e+02 2.85990e+02 2.89990e+02 2.92990e+02 2.93990e+02 2.98990e+02\n",
      " 2.99990e+02 3.05990e+02 3.07990e+02 3.19990e+02 3.21990e+02 3.24990e+02\n",
      " 3.29990e+02 3.31990e+02 3.39990e+02 3.42990e+02 3.46990e+02 3.47990e+02\n",
      " 3.48990e+02 3.49990e+02 3.54990e+02 3.55990e+02 3.59990e+02 3.74990e+02\n",
      " 3.79990e+02 3.82990e+02 3.89990e+02 3.91990e+02 3.98990e+02 3.99900e+02\n",
      " 3.99990e+02 4.09990e+02 4.19990e+02 4.24990e+02 4.29990e+02 4.39990e+02\n",
      " 4.47990e+02 4.49990e+02 4.55990e+02 4.60990e+02 4.67990e+02 4.69990e+02\n",
      " 4.72490e+02 4.99990e+02 5.19990e+02 5.28990e+02 5.29990e+02 5.39990e+02\n",
      " 5.69990e+02 5.98990e+02 5.99990e+02 6.25990e+02 6.29990e+02 6.49990e+02\n",
      " 6.54990e+02 6.66990e+02 6.67990e+02 6.69990e+02 6.98990e+02 6.99990e+02\n",
      " 7.39990e+02 7.49990e+02 7.59990e+02 7.64990e+02 7.99990e+02 8.29990e+02\n",
      " 8.69990e+02 8.99990e+02 9.21990e+02 9.49990e+02 9.99990e+02 1.19999e+03\n",
      " 1.29999e+03 1.33399e+03 1.49999e+03 1.59999e+03 1.66499e+03 1.99999e+03\n",
      " 2.19999e+03 2.69999e+03 2.79999e+03 2.99999e+03 3.39999e+03 3.49999e+03\n",
      " 3.69999e+03 3.99999e+03 4.22299e+03 4.55999e+03 4.99999e+03 5.79999e+03\n",
      " 7.49999e+03 1.39999e+04] \n",
      "\n",
      "Volume ['100' '1000' '1100' '150' '1500' '162' '1750' '180' '18000' '187' '19500'\n",
      " '20' '200' '20000' '250' '300' '3000' '330' '375' '3750' '400' '4000'\n",
      " '50' '500' '5000' '560' '600' '6000' '650' '720' '750' '9000' 'nan'] \n",
      "\n",
      "Classification [1 2] \n",
      "\n",
      "PurchasePrice [0.000000e+00 3.500000e-01 3.600000e-01 ... 4.264700e+03 5.681810e+03\n",
      " 1.111103e+04] \n",
      "\n",
      "VendorNumber [     2     54     60    105    200    287    388    480    516    653\n",
      "    660   1002   1003   1128   1189   1265   1273   1392   1439   1485\n",
      "   1587   1590   1601   1650   1655   1703   2000   2242   2396   2450\n",
      "   2496   2555   2561   2876   2973   3089   3252   3551   3664   3670\n",
      "   3924   3950   3951   3960   4380   4425   4466   4550   4692   4848\n",
      "   4901   4950   5083   5270   5455   5612   5895   5992   6213   6215\n",
      "   6280   6355   6359   6785   6830   7153   7154   7239   7240   7245\n",
      "   7255   7749   8004   8112   8150   8320   8352   8663   8664   8673\n",
      "   8735   8892   8920   9099   9165   9206   9260   9552   9622   9625\n",
      "   9710   9744   9751   9815   9819  10000  10050  10754  11567  12331\n",
      "  12546  17031  17032  17033  17035  17037  28750  28776  90010  90011\n",
      "  90017  90024  90026  90027  90032  90033  90034  90037  90046  90047\n",
      "  90051  90052  90053  90056  90057  90058  90059  98450  99166 172662\n",
      " 173357] \n",
      "\n",
      "VendorName ['AAPER ALCOHOL & CHEMICAL CO' 'ADAMBA IMPORTS INTL INC    '\n",
      " 'ALISA CARR BEVERAGES' 'ALISA CARR BEVERAGES           '\n",
      " 'ALISA CARR BEVERAGES               ' 'ALTAMAR BRANDS LLC         '\n",
      " 'AMERICAN SPIRITS EXCHANGE  ' 'AMERICAN VINTAGE BEVERAGE  '\n",
      " 'APPOLO VINEYARDS LLC       ' 'ATLANTIC IMPORTING COMPANY '\n",
      " 'BACARDI USA INC            ' 'BANFI PRODUCTS CORP        '\n",
      " 'BERNIKO LLC                ' 'BLACK COVE BEVERAGES       '\n",
      " 'BLACK PRINCE DISTILLERY INC' 'BLACK ROCK SPIRITS LLC     '\n",
      " 'BRONCO WINE COMPANY        ' 'BROWN-FORMAN CORP          '\n",
      " 'BULLY BOY DISTILLERS       ' 'CALEDONIA SPIRITS INC      '\n",
      " 'CAMPARI AMERICA            ' 'CANDIA VINEYARDS           '\n",
      " 'CAPSTONE INTERNATIONAL     ' 'CASTLE BRANDS CORP.        '\n",
      " 'CENTEUR IMPORTS LLC        ' 'CHARLES JACQUIN ET CIE INC '\n",
      " 'CONSTELLATION BRANDS INC   ' 'CRUSH WINES                '\n",
      " 'Circa Wines                ' 'DELICATO VINEYARDS INC     '\n",
      " 'DIAGEO CHATEAU ESTATE WINES' 'DIAGEO NORTH AMERICA INC   '\n",
      " 'DISARONNO INTERNATIONAL LLC' 'DJINN SPIRITS LLC          '\n",
      " 'DUGGANS DISTILLED PRODUCTS ' 'Dunn Wine Brokers          '\n",
      " 'E & J GALLO WINERY         ' 'EDRINGTON AMERICAS         '\n",
      " 'EXCLUSIVE WINES & SPIRITS  ' 'FABRIZIA SPIRITS LLC       '\n",
      " 'FANTASY FINE WINES CORP    ' 'FLAG HILL WINERY & VINEYARD'\n",
      " 'FLEMISH LION LLC           ' 'FORTUNE WINE BROKERS LLC   '\n",
      " 'FREDERICK WILDMAN & SONS   ' 'FULCHINO VINEYARD INC      '\n",
      " 'GILMANTON WINERY & VINEYARD' 'HALO DISTILLERY            '\n",
      " 'HAUNTING WHISPER VYDS      ' 'HEAVEN HILL DISTILLERIES   '\n",
      " 'HIGHLAND WINE MERCHANTS LLC' 'HOOD RIVER DISTILLERS, Inc.'\n",
      " 'INCREDIBREW INC            ' 'IRA GOLDMAN AND WILLIAMS, LLP          '\n",
      " 'JEWELL TOWNE VINEYARDS     ' 'JIM BEAM BRANDS COMPANY    '\n",
      " 'KLIN SPIRITS LLC           ' 'KOBRAND CORPORATION        '\n",
      " 'LABELLE VYDS AND WINERY    ' 'LAIRD & CO                 '\n",
      " 'LATITUDE BEVERAGE COMPANY  ' 'LAUREATE IMPORTS CO        '\n",
      " 'LOYAL DOG WINERY           ' 'LUXCO INC                  '\n",
      " 'M S WALKER INC             ' 'MAJESTIC FINE WINES        '\n",
      " 'MANGO BOTTLING INC         ' 'MARSALLE COMPANY           '\n",
      " 'MARTIGNETTI COMPANIES' 'MARTIGNETTI COMPANIES '\n",
      " 'MCCORMICK DISTILLING CO    ' 'MHW LTD                    '\n",
      " 'MILTONS DISTRIBUTING CO    ' 'MOET HENNESSY USA INC      '\n",
      " 'MOONLIGHT MEADERY          ' 'Mizkan Americas, Inc.      '\n",
      " 'NICHE W & S                ' 'OLE SMOKY DISTILLERY LLC   '\n",
      " 'PALM BAY INTERNATIONAL INC ' 'PARK STREET IMPORTS LLC    '\n",
      " 'PERFECTA WINES             ' 'PERNOD RICARD USA          '\n",
      " 'PHILLIPS PRODUCTS CO.      ' 'PINE STATE TRADING CO      '\n",
      " 'POVERTY LANE ORCHARDS      ' 'PREMIER DISTRIBUTORS       '\n",
      " 'PREMIUM PORT WINES, INC.   ' 'PROXIMO SPIRITS INC.       ' 'PSP WINES '\n",
      " 'R.P.IMPORTS INC            ' 'REMY COINTREAU USA INC     '\n",
      " 'Russian Standard Vodka     ' 'SAZERAC CO INC             '\n",
      " 'SAZERAC NORTH AMERICA INC. ' 'SEA BREEZE CELLARS LLC     '\n",
      " 'SEA HAGG DISTILLERY LLC    ' 'SHAW ROSS INT L IMP LTD    '\n",
      " 'SIDNEY FRANK IMPORTING CO  ' 'SILVER MOUNTAIN CIDERS     '\n",
      " 'SMOKY QUARTZ DISTILLERY LLC' 'SOUTHERN GLAZERS W&S OF NE '\n",
      " 'SOUTHERN WINE & SPIRITS NE ' 'STAR INDUSTRIES INC.       '\n",
      " 'STARK BREWING COMPANY      ' 'STATE WINE & SPIRITS   '\n",
      " 'STE MICHELLE WINE ESTATES  ' 'STELLAR IMPORTING CO LLC   '\n",
      " 'STOLI GROUP,(USA) LLC      ' 'SURVILLE ENTERPRISES CORP  '\n",
      " 'SWEET BABY VINEYARD        ' 'SWEETWATER FARM         '\n",
      " 'Serralles Usa LLC          ' 'TAKARA SAKE USA INC        '\n",
      " 'TALL SHIP DISTILLERY LLC   ' 'TAMWORTH DISTILLING        '\n",
      " 'THE IMPORTED GRAPE LLC     ' 'THE PIERPONT GROUP LLC     '\n",
      " 'TREASURY WINE ESTATES      ' 'TRINCHERO FAMILY ESTATES   '\n",
      " 'TRUETT HURST               ' 'TY KU LLC                  '\n",
      " 'ULTRA BEVERAGE COMPANY LLP ' 'UNCORKED       '\n",
      " 'VINEDREA WINES LLC         ' 'VINEXTRA INC               '\n",
      " 'VINEYARD BRANDS INC        ' 'VINEYARD BRANDS LLC        '\n",
      " 'VINILANDIA USA             ' 'VRANKEN AMERICA            '\n",
      " 'WALPOLE MTN VIEW WINERY    ' 'WEIN BAUER INC             '\n",
      " 'WESTERN SPIRITS BEVERAGE CO' 'WHYTE & MACKAY             '\n",
      " 'WILLIAM GRANT & SONS INC   ' 'WINE GROUP INC             '\n",
      " 'ZORVINO VINEYARDS          '] \n",
      "\n"
     ]
    }
   ],
   "source": [
    "for i in purchaseprice:\n",
    "    print(i, purchaseprice[i].sort_values().unique(), '\\n')"
   ]
  },
  {
   "cell_type": "code",
   "execution_count": 26,
   "id": "26423b0b",
   "metadata": {},
   "outputs": [],
   "source": [
    "purchaseprice = purchaseprice.replace('nan', np.nan)"
   ]
  },
  {
   "cell_type": "markdown",
   "id": "d78774e7",
   "metadata": {},
   "source": [
    "### Null Values:"
   ]
  },
  {
   "cell_type": "code",
   "execution_count": 27,
   "id": "ad0860f4",
   "metadata": {},
   "outputs": [
    {
     "data": {
      "text/plain": [
       "Brand             0\n",
       "Description       1\n",
       "Price             0\n",
       "Volume            5\n",
       "Classification    0\n",
       "PurchasePrice     0\n",
       "VendorNumber      0\n",
       "VendorName        0\n",
       "dtype: int64"
      ]
     },
     "execution_count": 27,
     "metadata": {},
     "output_type": "execute_result"
    }
   ],
   "source": [
    "purchaseprice.isnull().sum()"
   ]
  },
  {
   "cell_type": "code",
   "execution_count": 28,
   "id": "f48ea155",
   "metadata": {},
   "outputs": [],
   "source": [
    "purchaseprice = purchaseprice.dropna()"
   ]
  },
  {
   "cell_type": "code",
   "execution_count": 29,
   "id": "6fd44dee",
   "metadata": {},
   "outputs": [
    {
     "data": {
      "text/plain": [
       "0"
      ]
     },
     "execution_count": 29,
     "metadata": {},
     "output_type": "execute_result"
    }
   ],
   "source": [
    "purchaseprice.isnull().sum().sum()"
   ]
  },
  {
   "cell_type": "code",
   "execution_count": 30,
   "id": "bac30429",
   "metadata": {},
   "outputs": [
    {
     "name": "stdout",
     "output_type": "stream",
     "text": [
      "Brand [   58    60    61 ... 90604 90609 90631] \n",
      "\n",
      "Description ['(RI) 1' '.nparalleled Svgn Blanc' '10 Cane Rum' ...\n",
      " 'Zygo Mixed Citrus Vodka' 'g Sake' 'von Buhl Jazz Rsl'] \n",
      "\n",
      "Price [0.00000e+00 4.90000e-01 9.90000e-01 1.29000e+00 1.49000e+00 1.79000e+00\n",
      " 1.99000e+00 2.29000e+00 2.49000e+00 2.79000e+00 2.99000e+00 3.29000e+00\n",
      " 3.49000e+00 3.79000e+00 3.99000e+00 4.29000e+00 4.39000e+00 4.49000e+00\n",
      " 4.79000e+00 4.99000e+00 5.29000e+00 5.49000e+00 5.79000e+00 5.99000e+00\n",
      " 6.19000e+00 6.29000e+00 6.49000e+00 6.79000e+00 6.95000e+00 6.99000e+00\n",
      " 7.29000e+00 7.49000e+00 7.69000e+00 7.79000e+00 7.89000e+00 7.95000e+00\n",
      " 7.99000e+00 8.29000e+00 8.49000e+00 8.79000e+00 8.95000e+00 8.99000e+00\n",
      " 9.29000e+00 9.49000e+00 9.79000e+00 9.95000e+00 9.97000e+00 9.99000e+00\n",
      " 1.02900e+01 1.04900e+01 1.09500e+01 1.09900e+01 1.12900e+01 1.14900e+01\n",
      " 1.19900e+01 1.22900e+01 1.24900e+01 1.29900e+01 1.34900e+01 1.39900e+01\n",
      " 1.44900e+01 1.49900e+01 1.54900e+01 1.57900e+01 1.59900e+01 1.64900e+01\n",
      " 1.67900e+01 1.69500e+01 1.69900e+01 1.74900e+01 1.79900e+01 1.84900e+01\n",
      " 1.89900e+01 1.94900e+01 1.99900e+01 2.04900e+01 2.09900e+01 2.14900e+01\n",
      " 2.19900e+01 2.22900e+01 2.24900e+01 2.29900e+01 2.34900e+01 2.39900e+01\n",
      " 2.44900e+01 2.49900e+01 2.54900e+01 2.59900e+01 2.64900e+01 2.69900e+01\n",
      " 2.74900e+01 2.79900e+01 2.84900e+01 2.89900e+01 2.94900e+01 2.99900e+01\n",
      " 3.09900e+01 3.19900e+01 3.29900e+01 3.34900e+01 3.39900e+01 3.44900e+01\n",
      " 3.49900e+01 3.54900e+01 3.59900e+01 3.64900e+01 3.69900e+01 3.79900e+01\n",
      " 3.89900e+01 3.94900e+01 3.99900e+01 4.04900e+01 4.09900e+01 4.19900e+01\n",
      " 4.29900e+01 4.34900e+01 4.39900e+01 4.44900e+01 4.49900e+01 4.54900e+01\n",
      " 4.59900e+01 4.64900e+01 4.69900e+01 4.74900e+01 4.79900e+01 4.89900e+01\n",
      " 4.94900e+01 4.99900e+01 5.04900e+01 5.09900e+01 5.19900e+01 5.24900e+01\n",
      " 5.29900e+01 5.34900e+01 5.39900e+01 5.49900e+01 5.54900e+01 5.59900e+01\n",
      " 5.69900e+01 5.74900e+01 5.79900e+01 5.89900e+01 5.99900e+01 6.09900e+01\n",
      " 6.19900e+01 6.29900e+01 6.39900e+01 6.49900e+01 6.59900e+01 6.69900e+01\n",
      " 6.79900e+01 6.89900e+01 6.99900e+01 7.09900e+01 7.19900e+01 7.24900e+01\n",
      " 7.29900e+01 7.39900e+01 7.49900e+01 7.59900e+01 7.69900e+01 7.79900e+01\n",
      " 7.89900e+01 7.94900e+01 7.99900e+01 8.09900e+01 8.19900e+01 8.29900e+01\n",
      " 8.34900e+01 8.39900e+01 8.49900e+01 8.59900e+01 8.79900e+01 8.89900e+01\n",
      " 8.99900e+01 9.09900e+01 9.19900e+01 9.29900e+01 9.39900e+01 9.49900e+01\n",
      " 9.59900e+01 9.69900e+01 9.79900e+01 9.89900e+01 9.99900e+01 1.00990e+02\n",
      " 1.01990e+02 1.03990e+02 1.04990e+02 1.05990e+02 1.07990e+02 1.09900e+02\n",
      " 1.09990e+02 1.10990e+02 1.11990e+02 1.12990e+02 1.14490e+02 1.14990e+02\n",
      " 1.15990e+02 1.16990e+02 1.19990e+02 1.21990e+02 1.22990e+02 1.23990e+02\n",
      " 1.24990e+02 1.25990e+02 1.26990e+02 1.27490e+02 1.28990e+02 1.29990e+02\n",
      " 1.31990e+02 1.33990e+02 1.34490e+02 1.34990e+02 1.37990e+02 1.39900e+02\n",
      " 1.39990e+02 1.41990e+02 1.42990e+02 1.44990e+02 1.45900e+02 1.45990e+02\n",
      " 1.47990e+02 1.49990e+02 1.52990e+02 1.53990e+02 1.54990e+02 1.55900e+02\n",
      " 1.55990e+02 1.59990e+02 1.64990e+02 1.65990e+02 1.67990e+02 1.68990e+02\n",
      " 1.69900e+02 1.69990e+02 1.71990e+02 1.72990e+02 1.74990e+02 1.75990e+02\n",
      " 1.76990e+02 1.77990e+02 1.78990e+02 1.79990e+02 1.83990e+02 1.84990e+02\n",
      " 1.85990e+02 1.86990e+02 1.87990e+02 1.88990e+02 1.89990e+02 1.90990e+02\n",
      " 1.95990e+02 1.97990e+02 1.98990e+02 1.99990e+02 2.04990e+02 2.05990e+02\n",
      " 2.09990e+02 2.14990e+02 2.19990e+02 2.20990e+02 2.21990e+02 2.24990e+02\n",
      " 2.27990e+02 2.29990e+02 2.30490e+02 2.33990e+02 2.35990e+02 2.37990e+02\n",
      " 2.39900e+02 2.39950e+02 2.39990e+02 2.41490e+02 2.45990e+02 2.49900e+02\n",
      " 2.49990e+02 2.51490e+02 2.54990e+02 2.59990e+02 2.64990e+02 2.69990e+02\n",
      " 2.71990e+02 2.74990e+02 2.75990e+02 2.76990e+02 2.79990e+02 2.85990e+02\n",
      " 2.89990e+02 2.92990e+02 2.93990e+02 2.98990e+02 2.99990e+02 3.05990e+02\n",
      " 3.07990e+02 3.19990e+02 3.21990e+02 3.24990e+02 3.29990e+02 3.31990e+02\n",
      " 3.39990e+02 3.42990e+02 3.46990e+02 3.47990e+02 3.48990e+02 3.49990e+02\n",
      " 3.54990e+02 3.55990e+02 3.59990e+02 3.74990e+02 3.79990e+02 3.82990e+02\n",
      " 3.89990e+02 3.91990e+02 3.98990e+02 3.99900e+02 3.99990e+02 4.09990e+02\n",
      " 4.19990e+02 4.24990e+02 4.29990e+02 4.39990e+02 4.47990e+02 4.49990e+02\n",
      " 4.55990e+02 4.60990e+02 4.67990e+02 4.69990e+02 4.72490e+02 4.99990e+02\n",
      " 5.19990e+02 5.28990e+02 5.29990e+02 5.39990e+02 5.69990e+02 5.98990e+02\n",
      " 5.99990e+02 6.25990e+02 6.29990e+02 6.49990e+02 6.54990e+02 6.66990e+02\n",
      " 6.67990e+02 6.69990e+02 6.98990e+02 6.99990e+02 7.39990e+02 7.49990e+02\n",
      " 7.59990e+02 7.64990e+02 7.99990e+02 8.29990e+02 8.69990e+02 8.99990e+02\n",
      " 9.21990e+02 9.49990e+02 9.99990e+02 1.19999e+03 1.29999e+03 1.33399e+03\n",
      " 1.49999e+03 1.59999e+03 1.66499e+03 1.99999e+03 2.19999e+03 2.69999e+03\n",
      " 2.79999e+03 2.99999e+03 3.39999e+03 3.49999e+03 3.69999e+03 3.99999e+03\n",
      " 4.22299e+03 4.55999e+03 4.99999e+03 5.79999e+03 7.49999e+03 1.39999e+04] \n",
      "\n",
      "Volume ['100' '1000' '1100' '150' '1500' '162' '1750' '180' '18000' '187' '19500'\n",
      " '20' '200' '20000' '250' '300' '3000' '330' '375' '3750' '400' '4000'\n",
      " '50' '500' '5000' '560' '600' '6000' '650' '720' '750' '9000'] \n",
      "\n",
      "Classification [1 2] \n",
      "\n",
      "PurchasePrice [0.000000e+00 3.500000e-01 3.600000e-01 ... 4.264700e+03 5.681810e+03\n",
      " 1.111103e+04] \n",
      "\n",
      "VendorNumber [     2     54     60    105    200    287    388    480    516    653\n",
      "    660   1002   1003   1128   1189   1265   1273   1392   1439   1485\n",
      "   1587   1590   1601   1650   1655   1703   2000   2242   2396   2450\n",
      "   2496   2555   2561   2876   2973   3089   3252   3551   3664   3670\n",
      "   3924   3950   3951   3960   4380   4425   4466   4550   4692   4848\n",
      "   4901   4950   5083   5270   5455   5612   5992   6213   6215   6280\n",
      "   6355   6359   6785   6830   7153   7154   7239   7240   7245   7255\n",
      "   7749   8004   8112   8150   8320   8352   8663   8664   8673   8735\n",
      "   8892   8920   9099   9165   9206   9260   9552   9622   9625   9710\n",
      "   9744   9751   9815   9819  10000  10050  10754  11567  12331  12546\n",
      "  17031  17032  17033  17035  17037  28750  28776  90010  90011  90017\n",
      "  90024  90026  90027  90032  90033  90034  90037  90046  90047  90051\n",
      "  90052  90053  90056  90057  90058  90059  98450  99166 172662 173357] \n",
      "\n",
      "VendorName ['AAPER ALCOHOL & CHEMICAL CO' 'ADAMBA IMPORTS INTL INC    '\n",
      " 'ALISA CARR BEVERAGES' 'ALISA CARR BEVERAGES           '\n",
      " 'ALTAMAR BRANDS LLC         ' 'AMERICAN SPIRITS EXCHANGE  '\n",
      " 'AMERICAN VINTAGE BEVERAGE  ' 'APPOLO VINEYARDS LLC       '\n",
      " 'ATLANTIC IMPORTING COMPANY ' 'BACARDI USA INC            '\n",
      " 'BANFI PRODUCTS CORP        ' 'BERNIKO LLC                '\n",
      " 'BLACK COVE BEVERAGES       ' 'BLACK PRINCE DISTILLERY INC'\n",
      " 'BLACK ROCK SPIRITS LLC     ' 'BRONCO WINE COMPANY        '\n",
      " 'BROWN-FORMAN CORP          ' 'BULLY BOY DISTILLERS       '\n",
      " 'CALEDONIA SPIRITS INC      ' 'CAMPARI AMERICA            '\n",
      " 'CANDIA VINEYARDS           ' 'CAPSTONE INTERNATIONAL     '\n",
      " 'CASTLE BRANDS CORP.        ' 'CENTEUR IMPORTS LLC        '\n",
      " 'CHARLES JACQUIN ET CIE INC ' 'CONSTELLATION BRANDS INC   '\n",
      " 'CRUSH WINES                ' 'Circa Wines                '\n",
      " 'DELICATO VINEYARDS INC     ' 'DIAGEO CHATEAU ESTATE WINES'\n",
      " 'DIAGEO NORTH AMERICA INC   ' 'DISARONNO INTERNATIONAL LLC'\n",
      " 'DJINN SPIRITS LLC          ' 'DUGGANS DISTILLED PRODUCTS '\n",
      " 'Dunn Wine Brokers          ' 'E & J GALLO WINERY         '\n",
      " 'EDRINGTON AMERICAS         ' 'EXCLUSIVE WINES & SPIRITS  '\n",
      " 'FABRIZIA SPIRITS LLC       ' 'FANTASY FINE WINES CORP    '\n",
      " 'FLAG HILL WINERY & VINEYARD' 'FLEMISH LION LLC           '\n",
      " 'FORTUNE WINE BROKERS LLC   ' 'FREDERICK WILDMAN & SONS   '\n",
      " 'FULCHINO VINEYARD INC      ' 'GILMANTON WINERY & VINEYARD'\n",
      " 'HALO DISTILLERY            ' 'HAUNTING WHISPER VYDS      '\n",
      " 'HEAVEN HILL DISTILLERIES   ' 'HIGHLAND WINE MERCHANTS LLC'\n",
      " 'HOOD RIVER DISTILLERS, Inc.' 'INCREDIBREW INC            '\n",
      " 'IRA GOLDMAN AND WILLIAMS, LLP          ' 'JEWELL TOWNE VINEYARDS     '\n",
      " 'JIM BEAM BRANDS COMPANY    ' 'KLIN SPIRITS LLC           '\n",
      " 'KOBRAND CORPORATION        ' 'LABELLE VYDS AND WINERY    '\n",
      " 'LAIRD & CO                 ' 'LATITUDE BEVERAGE COMPANY  '\n",
      " 'LAUREATE IMPORTS CO        ' 'LOYAL DOG WINERY           '\n",
      " 'LUXCO INC                  ' 'M S WALKER INC             '\n",
      " 'MAJESTIC FINE WINES        ' 'MANGO BOTTLING INC         '\n",
      " 'MARSALLE COMPANY           ' 'MARTIGNETTI COMPANIES'\n",
      " 'MARTIGNETTI COMPANIES ' 'MCCORMICK DISTILLING CO    '\n",
      " 'MHW LTD                    ' 'MILTONS DISTRIBUTING CO    '\n",
      " 'MOET HENNESSY USA INC      ' 'MOONLIGHT MEADERY          '\n",
      " 'NICHE W & S                ' 'OLE SMOKY DISTILLERY LLC   '\n",
      " 'PALM BAY INTERNATIONAL INC ' 'PARK STREET IMPORTS LLC    '\n",
      " 'PERFECTA WINES             ' 'PERNOD RICARD USA          '\n",
      " 'PHILLIPS PRODUCTS CO.      ' 'PINE STATE TRADING CO      '\n",
      " 'POVERTY LANE ORCHARDS      ' 'PREMIER DISTRIBUTORS       '\n",
      " 'PREMIUM PORT WINES, INC.   ' 'PROXIMO SPIRITS INC.       ' 'PSP WINES '\n",
      " 'R.P.IMPORTS INC            ' 'REMY COINTREAU USA INC     '\n",
      " 'Russian Standard Vodka     ' 'SAZERAC CO INC             '\n",
      " 'SAZERAC NORTH AMERICA INC. ' 'SEA BREEZE CELLARS LLC     '\n",
      " 'SEA HAGG DISTILLERY LLC    ' 'SHAW ROSS INT L IMP LTD    '\n",
      " 'SIDNEY FRANK IMPORTING CO  ' 'SILVER MOUNTAIN CIDERS     '\n",
      " 'SMOKY QUARTZ DISTILLERY LLC' 'SOUTHERN GLAZERS W&S OF NE '\n",
      " 'SOUTHERN WINE & SPIRITS NE ' 'STAR INDUSTRIES INC.       '\n",
      " 'STARK BREWING COMPANY      ' 'STATE WINE & SPIRITS   '\n",
      " 'STE MICHELLE WINE ESTATES  ' 'STELLAR IMPORTING CO LLC   '\n",
      " 'STOLI GROUP,(USA) LLC      ' 'SURVILLE ENTERPRISES CORP  '\n",
      " 'SWEET BABY VINEYARD        ' 'SWEETWATER FARM         '\n",
      " 'Serralles Usa LLC          ' 'TAKARA SAKE USA INC        '\n",
      " 'TALL SHIP DISTILLERY LLC   ' 'TAMWORTH DISTILLING        '\n",
      " 'THE IMPORTED GRAPE LLC     ' 'THE PIERPONT GROUP LLC     '\n",
      " 'TREASURY WINE ESTATES      ' 'TRINCHERO FAMILY ESTATES   '\n",
      " 'TRUETT HURST               ' 'TY KU LLC                  '\n",
      " 'ULTRA BEVERAGE COMPANY LLP ' 'UNCORKED       '\n",
      " 'VINEDREA WINES LLC         ' 'VINEXTRA INC               '\n",
      " 'VINEYARD BRANDS INC        ' 'VINEYARD BRANDS LLC        '\n",
      " 'VINILANDIA USA             ' 'VRANKEN AMERICA            '\n",
      " 'WALPOLE MTN VIEW WINERY    ' 'WEIN BAUER INC             '\n",
      " 'WESTERN SPIRITS BEVERAGE CO' 'WHYTE & MACKAY             '\n",
      " 'WILLIAM GRANT & SONS INC   ' 'WINE GROUP INC             '\n",
      " 'ZORVINO VINEYARDS          '] \n",
      "\n"
     ]
    }
   ],
   "source": [
    "for i in purchaseprice:\n",
    "    print(i, purchaseprice[i].sort_values().unique(), '\\n')"
   ]
  },
  {
   "cell_type": "code",
   "execution_count": 31,
   "id": "4c531428",
   "metadata": {},
   "outputs": [
    {
     "data": {
      "text/plain": [
       "(12256, 8)"
      ]
     },
     "execution_count": 31,
     "metadata": {},
     "output_type": "execute_result"
    }
   ],
   "source": [
    "purchaseprice.shape"
   ]
  },
  {
   "cell_type": "markdown",
   "id": "953f1d70",
   "metadata": {},
   "source": [
    "### Changing Data type of columns:"
   ]
  },
  {
   "cell_type": "code",
   "execution_count": 32,
   "id": "6edb0773",
   "metadata": {},
   "outputs": [
    {
     "data": {
      "text/plain": [
       "Brand               int64\n",
       "Description        object\n",
       "Price             float64\n",
       "Volume             object\n",
       "Classification      int64\n",
       "PurchasePrice     float64\n",
       "VendorNumber        int64\n",
       "VendorName         object\n",
       "dtype: object"
      ]
     },
     "execution_count": 32,
     "metadata": {},
     "output_type": "execute_result"
    }
   ],
   "source": [
    "purchaseprice.dtypes"
   ]
  },
  {
   "cell_type": "code",
   "execution_count": 33,
   "id": "d7d8378c",
   "metadata": {},
   "outputs": [],
   "source": [
    "for i in purchaseprice:\n",
    "    if purchaseprice[i].dtypes == 'O':\n",
    "        try:\n",
    "            purchaseprice[i] = purchaseprice[i].astype(float)\n",
    "        except:\n",
    "            purchaseprice[i] = purchaseprice[i].astype(str)"
   ]
  },
  {
   "cell_type": "code",
   "execution_count": 34,
   "id": "27806210",
   "metadata": {},
   "outputs": [
    {
     "data": {
      "text/plain": [
       "Brand               int64\n",
       "Description        object\n",
       "Price             float64\n",
       "Volume            float64\n",
       "Classification      int64\n",
       "PurchasePrice     float64\n",
       "VendorNumber        int64\n",
       "VendorName         object\n",
       "dtype: object"
      ]
     },
     "execution_count": 34,
     "metadata": {},
     "output_type": "execute_result"
    }
   ],
   "source": [
    "purchaseprice.dtypes"
   ]
  },
  {
   "cell_type": "markdown",
   "id": "9af29ba6",
   "metadata": {},
   "source": [
    "# Data Visualization:"
   ]
  },
  {
   "cell_type": "code",
   "execution_count": 35,
   "id": "575d6617",
   "metadata": {},
   "outputs": [],
   "source": [
    "colors = ['blue', 'green', 'red', 'purple', 'orange']"
   ]
  },
  {
   "cell_type": "markdown",
   "id": "db889f86",
   "metadata": {},
   "source": [
    "### Top 10 Descriptions by Average Price:"
   ]
  },
  {
   "cell_type": "code",
   "execution_count": 36,
   "id": "a413e18d",
   "metadata": {},
   "outputs": [
    {
     "data": {
      "image/png": "[encoded data removed]",
      "text/plain": [
       "<Figure size 720x432 with 1 Axes>"
      ]
     },
     "metadata": {
      "needs_background": "light"
     },
     "output_type": "display_data"
    }
   ],
   "source": [
    "plt.figure(figsize=(10,6))\n",
    "purchaseprice.groupby('Description')['Price'].mean().sort_values().tail(10).plot(kind = 'barh', color = colors)\n",
    "\n",
    "plt.xlabel('Avg Price', color = 'Black', fontweight='bold', fontsize=14)\n",
    "plt.ylabel('Description', color = 'Black', fontweight='bold', fontsize=14)\n",
    "plt.title('Top 10 Descriptions by Average Price', color = 'red', fontweight='bold', fontsize=18)\n",
    "plt.show()"
   ]
  },
  {
   "cell_type": "markdown",
   "id": "6915dca5",
   "metadata": {},
   "source": [
    "### Top 10 Descriptions by Average volume:"
   ]
  },
  {
   "cell_type": "code",
   "execution_count": 37,
   "id": "cfaa0a27",
   "metadata": {},
   "outputs": [
    {
     "data": {
      "image/png": "[encoded data removed]",
      "text/plain": [
       "<Figure size 720x432 with 1 Axes>"
      ]
     },
     "metadata": {
      "needs_background": "light"
     },
     "output_type": "display_data"
    }
   ],
   "source": [
    "plt.figure(figsize=(10,6))\n",
    "purchaseprice.groupby('Description')['Volume'].mean().sort_values().tail(10).plot(kind = 'barh', color = colors)\n",
    "\n",
    "plt.xlabel('Avg Volume', color = 'Black', fontweight='bold', fontsize=14)\n",
    "plt.ylabel('Description', color = 'Black', fontweight='bold', fontsize=14)\n",
    "plt.title('Top 10 Descriptions by Average Volume', color = 'red', fontweight='bold', fontsize=18)\n",
    "plt.show()"
   ]
  },
  {
   "cell_type": "markdown",
   "id": "4cdcb9f7",
   "metadata": {},
   "source": [
    "### Relationship between Numeric Variables:"
   ]
  },
  {
   "cell_type": "code",
   "execution_count": 38,
   "id": "f787cb33",
   "metadata": {},
   "outputs": [
    {
     "data": {
      "image/png": "[encoded data removed]",
      "text/plain": [
       "<Figure size 720x576 with 2 Axes>"
      ]
     },
     "metadata": {
      "needs_background": "light"
     },
     "output_type": "display_data"
    }
   ],
   "source": [
    "plt.figure(figsize=(10,8))\n",
    "sns.heatmap(purchaseprice.corr(), annot = True)\n",
    "\n",
    "plt.title('Relationship between Numeric Variables:', color = 'red', fontweight='bold', fontsize=18)\n",
    "plt.show()"
   ]
  },
  {
   "cell_type": "markdown",
   "id": "95313447",
   "metadata": {},
   "source": [
    "### Relationship between volume & Price:"
   ]
  },
  {
   "cell_type": "code",
   "execution_count": 39,
   "id": "58ec8a3f",
   "metadata": {},
   "outputs": [
    {
     "name": "stderr",
     "output_type": "stream",
     "text": [
      "C:\\Python310\\lib\\site-packages\\seaborn\\_decorators.py:36: FutureWarning: Pass the following variables as keyword args: x, y. From version 0.12, the only valid positional argument will be `data`, and passing other arguments without an explicit keyword will result in an error or misinterpretation.\n",
      "  warnings.warn(\n"
     ]
    },
    {
     "data": {
      "text/plain": [
       "<AxesSubplot:xlabel='Volume', ylabel='Price'>"
      ]
     },
     "execution_count": 39,
     "metadata": {},
     "output_type": "execute_result"
    },
    {
     "data": {
      "image/png": "[encoded data removed]",
      "text/plain": [
       "<Figure size 720x576 with 1 Axes>"
      ]
     },
     "metadata": {
      "needs_background": "light"
     },
     "output_type": "display_data"
    }
   ],
   "source": [
    "plt.figure(figsize=(10,8))\n",
    "sns.scatterplot(purchaseprice['Volume'], purchaseprice['Price'], color = 'red')"
   ]
  },
  {
   "cell_type": "markdown",
   "id": "0af1c20b",
   "metadata": {},
   "source": [
    "Both columns have 'Low Positive correlation' with each other."
   ]
  },
  {
   "cell_type": "markdown",
   "id": "fdaadd8d",
   "metadata": {},
   "source": [
    "# Relationship between purchaseprice & Price:"
   ]
  },
  {
   "cell_type": "code",
   "execution_count": 40,
   "id": "5bab8d4f",
   "metadata": {},
   "outputs": [
    {
     "name": "stderr",
     "output_type": "stream",
     "text": [
      "C:\\Python310\\lib\\site-packages\\seaborn\\_decorators.py:36: FutureWarning: Pass the following variables as keyword args: x, y. From version 0.12, the only valid positional argument will be `data`, and passing other arguments without an explicit keyword will result in an error or misinterpretation.\n",
      "  warnings.warn(\n"
     ]
    },
    {
     "data": {
      "text/plain": [
       "<AxesSubplot:xlabel='PurchasePrice', ylabel='Price'>"
      ]
     },
     "execution_count": 40,
     "metadata": {},
     "output_type": "execute_result"
    },
    {
     "data": {
      "image/png": "[encoded data removed]",
      "text/plain": [
       "<Figure size 720x576 with 1 Axes>"
      ]
     },
     "metadata": {
      "needs_background": "light"
     },
     "output_type": "display_data"
    }
   ],
   "source": [
    "plt.figure(figsize=(10,8))\n",
    "sns.scatterplot(purchaseprice['PurchasePrice'], purchaseprice['Price'], color = 'red')"
   ]
  },
  {
   "cell_type": "markdown",
   "id": "0c11b14e",
   "metadata": {},
   "source": [
    "Both columns have 'High Positive correlation' with each other."
   ]
  },
  {
   "cell_type": "markdown",
   "id": "32913c34",
   "metadata": {},
   "source": [
    "### Top 10 VendorName by PurchasePrice:"
   ]
  },
  {
   "cell_type": "code",
   "execution_count": 41,
   "id": "597f0ae8",
   "metadata": {},
   "outputs": [
    {
     "data": {
      "image/png": "[encoded data removed]",
      "text/plain": [
       "<Figure size 720x432 with 1 Axes>"
      ]
     },
     "metadata": {
      "needs_background": "light"
     },
     "output_type": "display_data"
    }
   ],
   "source": [
    "plt.figure(figsize=(10,6))\n",
    "purchaseprice.groupby('VendorName')['PurchasePrice'].mean().sort_values().tail(10).plot(kind = 'barh', color = colors)\n",
    "\n",
    "plt.xlabel('PurchasePrice', color = 'Black', fontweight='bold', fontsize=14)\n",
    "plt.ylabel('VendorName', color = 'Black', fontweight='bold', fontsize=14)\n",
    "plt.title('Top 10 Vendors by Average Purchase Price', color = 'red', fontweight='bold', fontsize=18)\n",
    "plt.show()"
   ]
  },
  {
   "cell_type": "markdown",
   "id": "1917bf4b",
   "metadata": {},
   "source": [
    "# beginv:"
   ]
  },
  {
   "cell_type": "markdown",
   "id": "418dbfd6",
   "metadata": {},
   "source": [
    "### Data Exploration:"
   ]
  },
  {
   "cell_type": "code",
   "execution_count": 42,
   "id": "9a2a6aff",
   "metadata": {},
   "outputs": [
    {
     "data": {
      "text/html": [
       "<div>\n",
       "<style scoped>\n",
       "    .dataframe tbody tr th:only-of-type {\n",
       "        vertical-align: middle;\n",
       "    }\n",
       "\n",
       "    .dataframe tbody tr th {\n",
       "        vertical-align: top;\n",
       "    }\n",
       "\n",
       "    .dataframe thead th {\n",
       "        text-align: right;\n",
       "    }\n",
       "</style>\n",
       "<table border=\"1\" class=\"dataframe\">\n",
       "  <thead>\n",
       "    <tr style=\"text-align: right;\">\n",
       "      <th></th>\n",
       "      <th>InventoryId</th>\n",
       "      <th>Store</th>\n",
       "      <th>City</th>\n",
       "      <th>Brand</th>\n",
       "      <th>Description</th>\n",
       "      <th>Size</th>\n",
       "      <th>onHand</th>\n",
       "      <th>Price</th>\n",
       "      <th>startDate</th>\n",
       "    </tr>\n",
       "  </thead>\n",
       "  <tbody>\n",
       "    <tr>\n",
       "      <th>0</th>\n",
       "      <td>1_HARDERSFIELD_58</td>\n",
       "      <td>1</td>\n",
       "      <td>HARDERSFIELD</td>\n",
       "      <td>58</td>\n",
       "      <td>Gekkeikan Black &amp; Gold Sake</td>\n",
       "      <td>750mL</td>\n",
       "      <td>8</td>\n",
       "      <td>12.99</td>\n",
       "      <td>2016-01-01</td>\n",
       "    </tr>\n",
       "    <tr>\n",
       "      <th>1</th>\n",
       "      <td>1_HARDERSFIELD_60</td>\n",
       "      <td>1</td>\n",
       "      <td>HARDERSFIELD</td>\n",
       "      <td>60</td>\n",
       "      <td>Canadian Club 1858 VAP</td>\n",
       "      <td>750mL</td>\n",
       "      <td>7</td>\n",
       "      <td>10.99</td>\n",
       "      <td>2016-01-01</td>\n",
       "    </tr>\n",
       "    <tr>\n",
       "      <th>2</th>\n",
       "      <td>1_HARDERSFIELD_62</td>\n",
       "      <td>1</td>\n",
       "      <td>HARDERSFIELD</td>\n",
       "      <td>62</td>\n",
       "      <td>Herradura Silver Tequila</td>\n",
       "      <td>750mL</td>\n",
       "      <td>6</td>\n",
       "      <td>36.99</td>\n",
       "      <td>2016-01-01</td>\n",
       "    </tr>\n",
       "    <tr>\n",
       "      <th>3</th>\n",
       "      <td>1_HARDERSFIELD_63</td>\n",
       "      <td>1</td>\n",
       "      <td>HARDERSFIELD</td>\n",
       "      <td>63</td>\n",
       "      <td>Herradura Reposado Tequila</td>\n",
       "      <td>750mL</td>\n",
       "      <td>3</td>\n",
       "      <td>38.99</td>\n",
       "      <td>2016-01-01</td>\n",
       "    </tr>\n",
       "    <tr>\n",
       "      <th>4</th>\n",
       "      <td>1_HARDERSFIELD_72</td>\n",
       "      <td>1</td>\n",
       "      <td>HARDERSFIELD</td>\n",
       "      <td>72</td>\n",
       "      <td>No. 3 London Dry Gin</td>\n",
       "      <td>750mL</td>\n",
       "      <td>6</td>\n",
       "      <td>34.99</td>\n",
       "      <td>2016-01-01</td>\n",
       "    </tr>\n",
       "  </tbody>\n",
       "</table>\n",
       "</div>"
      ],
      "text/plain": [
       "         InventoryId  Store          City  Brand                  Description  \\\n",
       "0  1_HARDERSFIELD_58      1  HARDERSFIELD     58  Gekkeikan Black & Gold Sake   \n",
       "1  1_HARDERSFIELD_60      1  HARDERSFIELD     60       Canadian Club 1858 VAP   \n",
       "2  1_HARDERSFIELD_62      1  HARDERSFIELD     62     Herradura Silver Tequila   \n",
       "3  1_HARDERSFIELD_63      1  HARDERSFIELD     63   Herradura Reposado Tequila   \n",
       "4  1_HARDERSFIELD_72      1  HARDERSFIELD     72         No. 3 London Dry Gin   \n",
       "\n",
       "    Size  onHand  Price   startDate  \n",
       "0  750mL       8  12.99  2016-01-01  \n",
       "1  750mL       7  10.99  2016-01-01  \n",
       "2  750mL       6  36.99  2016-01-01  \n",
       "3  750mL       3  38.99  2016-01-01  \n",
       "4  750mL       6  34.99  2016-01-01  "
      ]
     },
     "execution_count": 42,
     "metadata": {},
     "output_type": "execute_result"
    }
   ],
   "source": [
    "beginv.head()"
   ]
  },
  {
   "cell_type": "code",
   "execution_count": 43,
   "id": "930501d7",
   "metadata": {},
   "outputs": [
    {
     "data": {
      "text/plain": [
       "(206529, 9)"
      ]
     },
     "execution_count": 43,
     "metadata": {},
     "output_type": "execute_result"
    }
   ],
   "source": [
    "beginv.shape"
   ]
  },
  {
   "cell_type": "markdown",
   "id": "54d6c8d7",
   "metadata": {},
   "source": [
    "### Data Cleaning:"
   ]
  },
  {
   "cell_type": "code",
   "execution_count": 44,
   "id": "8f637448",
   "metadata": {},
   "outputs": [
    {
     "data": {
      "text/plain": [
       "0"
      ]
     },
     "execution_count": 44,
     "metadata": {},
     "output_type": "execute_result"
    }
   ],
   "source": [
    "beginv.duplicated().sum()"
   ]
  },
  {
   "cell_type": "markdown",
   "id": "890c1b89",
   "metadata": {},
   "source": [
    "### Null Values:"
   ]
  },
  {
   "cell_type": "code",
   "execution_count": 45,
   "id": "948cd281",
   "metadata": {},
   "outputs": [
    {
     "data": {
      "text/plain": [
       "0"
      ]
     },
     "execution_count": 45,
     "metadata": {},
     "output_type": "execute_result"
    }
   ],
   "source": [
    "beginv.isnull().sum().sum()"
   ]
  },
  {
   "cell_type": "markdown",
   "id": "057cadc9",
   "metadata": {},
   "source": [
    "# Data Visualization:"
   ]
  },
  {
   "cell_type": "code",
   "execution_count": 46,
   "id": "730d6458",
   "metadata": {},
   "outputs": [],
   "source": [
    "colors = ['blue', 'green', 'red', 'purple', 'orange']"
   ]
  },
  {
   "cell_type": "markdown",
   "id": "222f2972",
   "metadata": {},
   "source": [
    "### Top 10 City by Average Price:"
   ]
  },
  {
   "cell_type": "code",
   "execution_count": 47,
   "id": "a41ee5f4",
   "metadata": {
    "scrolled": true
   },
   "outputs": [
    {
     "data": {
      "image/png": "[encoded data removed]",
      "text/plain": [
       "<Figure size 720x432 with 1 Axes>"
      ]
     },
     "metadata": {
      "needs_background": "light"
     },
     "output_type": "display_data"
    }
   ],
   "source": [
    "plt.figure(figsize=(10,6))\n",
    "beginv.groupby('City')['Price'].mean().sort_values().tail(10).plot(kind = 'barh', color = colors)\n",
    "\n",
    "plt.xlabel('Avg Price', color = 'Black', fontweight='bold', fontsize=14)\n",
    "plt.ylabel('City', color = 'Black', fontweight='bold', fontsize=14)\n",
    "plt.title('Top 10 City by Average Price', color = 'red', fontweight='bold', fontsize=18)\n",
    "plt.show()"
   ]
  },
  {
   "cell_type": "markdown",
   "id": "4588be0e",
   "metadata": {},
   "source": [
    "### Top 10 Brands & Descriptions by Max Price:"
   ]
  },
  {
   "cell_type": "code",
   "execution_count": 48,
   "id": "95c9b32e",
   "metadata": {},
   "outputs": [
    {
     "data": {
      "image/png": "[encoded data removed]",
      "text/plain": [
       "<Figure size 720x432 with 1 Axes>"
      ]
     },
     "metadata": {
      "needs_background": "light"
     },
     "output_type": "display_data"
    }
   ],
   "source": [
    "plt.figure(figsize=(10,6))\n",
    "beginv.groupby(['Brand','Description'])['Price'].max().sort_values().tail(10).plot(kind = 'barh', color = colors)\n",
    "\n",
    "plt.xlabel('Max Price', color = 'Black', fontweight='bold', fontsize=14)\n",
    "plt.ylabel('Brand & Description', color = 'Black', fontweight='bold', fontsize=14)\n",
    "plt.title('Top 10 Brands & Descriptions by Max Price', color = 'red', fontweight='bold', fontsize=18)\n",
    "plt.show()"
   ]
  },
  {
   "cell_type": "code",
   "execution_count": null,
   "id": "ed53d811",
   "metadata": {},
   "outputs": [],
   "source": []
  },
  {
   "cell_type": "markdown",
   "id": "8db658e3",
   "metadata": {},
   "source": [
    "# endinv:"
   ]
  },
  {
   "cell_type": "code",
   "execution_count": 49,
   "id": "23ddeeb5",
   "metadata": {},
   "outputs": [
    {
     "data": {
      "text/html": [
       "<div>\n",
       "<style scoped>\n",
       "    .dataframe tbody tr th:only-of-type {\n",
       "        vertical-align: middle;\n",
       "    }\n",
       "\n",
       "    .dataframe tbody tr th {\n",
       "        vertical-align: top;\n",
       "    }\n",
       "\n",
       "    .dataframe thead th {\n",
       "        text-align: right;\n",
       "    }\n",
       "</style>\n",
       "<table border=\"1\" class=\"dataframe\">\n",
       "  <thead>\n",
       "    <tr style=\"text-align: right;\">\n",
       "      <th></th>\n",
       "      <th>InventoryId</th>\n",
       "      <th>Store</th>\n",
       "      <th>City</th>\n",
       "      <th>Brand</th>\n",
       "      <th>Description</th>\n",
       "      <th>Size</th>\n",
       "      <th>onHand</th>\n",
       "      <th>Price</th>\n",
       "      <th>endDate</th>\n",
       "    </tr>\n",
       "  </thead>\n",
       "  <tbody>\n",
       "    <tr>\n",
       "      <th>0</th>\n",
       "      <td>1_HARDERSFIELD_58</td>\n",
       "      <td>1</td>\n",
       "      <td>HARDERSFIELD</td>\n",
       "      <td>58</td>\n",
       "      <td>Gekkeikan Black &amp; Gold Sake</td>\n",
       "      <td>750mL</td>\n",
       "      <td>11</td>\n",
       "      <td>12.99</td>\n",
       "      <td>2016-12-31</td>\n",
       "    </tr>\n",
       "    <tr>\n",
       "      <th>1</th>\n",
       "      <td>1_HARDERSFIELD_62</td>\n",
       "      <td>1</td>\n",
       "      <td>HARDERSFIELD</td>\n",
       "      <td>62</td>\n",
       "      <td>Herradura Silver Tequila</td>\n",
       "      <td>750mL</td>\n",
       "      <td>7</td>\n",
       "      <td>36.99</td>\n",
       "      <td>2016-12-31</td>\n",
       "    </tr>\n",
       "    <tr>\n",
       "      <th>2</th>\n",
       "      <td>1_HARDERSFIELD_63</td>\n",
       "      <td>1</td>\n",
       "      <td>HARDERSFIELD</td>\n",
       "      <td>63</td>\n",
       "      <td>Herradura Reposado Tequila</td>\n",
       "      <td>750mL</td>\n",
       "      <td>7</td>\n",
       "      <td>38.99</td>\n",
       "      <td>2016-12-31</td>\n",
       "    </tr>\n",
       "    <tr>\n",
       "      <th>3</th>\n",
       "      <td>1_HARDERSFIELD_72</td>\n",
       "      <td>1</td>\n",
       "      <td>HARDERSFIELD</td>\n",
       "      <td>72</td>\n",
       "      <td>No. 3 London Dry Gin</td>\n",
       "      <td>750mL</td>\n",
       "      <td>4</td>\n",
       "      <td>34.99</td>\n",
       "      <td>2016-12-31</td>\n",
       "    </tr>\n",
       "    <tr>\n",
       "      <th>4</th>\n",
       "      <td>1_HARDERSFIELD_75</td>\n",
       "      <td>1</td>\n",
       "      <td>HARDERSFIELD</td>\n",
       "      <td>75</td>\n",
       "      <td>Three Olives Tomato Vodka</td>\n",
       "      <td>750mL</td>\n",
       "      <td>7</td>\n",
       "      <td>14.99</td>\n",
       "      <td>2016-12-31</td>\n",
       "    </tr>\n",
       "  </tbody>\n",
       "</table>\n",
       "</div>"
      ],
      "text/plain": [
       "         InventoryId  Store          City  Brand                  Description  \\\n",
       "0  1_HARDERSFIELD_58      1  HARDERSFIELD     58  Gekkeikan Black & Gold Sake   \n",
       "1  1_HARDERSFIELD_62      1  HARDERSFIELD     62     Herradura Silver Tequila   \n",
       "2  1_HARDERSFIELD_63      1  HARDERSFIELD     63   Herradura Reposado Tequila   \n",
       "3  1_HARDERSFIELD_72      1  HARDERSFIELD     72         No. 3 London Dry Gin   \n",
       "4  1_HARDERSFIELD_75      1  HARDERSFIELD     75    Three Olives Tomato Vodka   \n",
       "\n",
       "    Size  onHand  Price     endDate  \n",
       "0  750mL      11  12.99  2016-12-31  \n",
       "1  750mL       7  36.99  2016-12-31  \n",
       "2  750mL       7  38.99  2016-12-31  \n",
       "3  750mL       4  34.99  2016-12-31  \n",
       "4  750mL       7  14.99  2016-12-31  "
      ]
     },
     "execution_count": 49,
     "metadata": {},
     "output_type": "execute_result"
    }
   ],
   "source": [
    "endinv.head()"
   ]
  },
  {
   "cell_type": "code",
   "execution_count": 50,
   "id": "6218df71",
   "metadata": {},
   "outputs": [
    {
     "data": {
      "text/plain": [
       "(224489, 9)"
      ]
     },
     "execution_count": 50,
     "metadata": {},
     "output_type": "execute_result"
    }
   ],
   "source": [
    "endinv.shape"
   ]
  },
  {
   "cell_type": "markdown",
   "id": "9863460b",
   "metadata": {},
   "source": [
    "### Data Cleaning:"
   ]
  },
  {
   "cell_type": "code",
   "execution_count": 51,
   "id": "de020c55",
   "metadata": {},
   "outputs": [
    {
     "data": {
      "text/plain": [
       "0"
      ]
     },
     "execution_count": 51,
     "metadata": {},
     "output_type": "execute_result"
    }
   ],
   "source": [
    "endinv.duplicated().sum()"
   ]
  },
  {
   "cell_type": "markdown",
   "id": "de28556f",
   "metadata": {},
   "source": [
    "### Null Values:"
   ]
  },
  {
   "cell_type": "code",
   "execution_count": 52,
   "id": "817af076",
   "metadata": {},
   "outputs": [
    {
     "data": {
      "text/plain": [
       "InventoryId       0\n",
       "Store             0\n",
       "City           1284\n",
       "Brand             0\n",
       "Description       0\n",
       "Size              0\n",
       "onHand            0\n",
       "Price             0\n",
       "endDate           0\n",
       "dtype: int64"
      ]
     },
     "execution_count": 52,
     "metadata": {},
     "output_type": "execute_result"
    }
   ],
   "source": [
    "endinv.isnull().sum()"
   ]
  },
  {
   "cell_type": "code",
   "execution_count": 53,
   "id": "2043f581",
   "metadata": {},
   "outputs": [],
   "source": [
    "endinv['City'] = endinv['City'].fillna(endinv['City'].mode()[0])"
   ]
  },
  {
   "cell_type": "code",
   "execution_count": 54,
   "id": "73daf178",
   "metadata": {},
   "outputs": [
    {
     "data": {
      "text/plain": [
       "0"
      ]
     },
     "execution_count": 54,
     "metadata": {},
     "output_type": "execute_result"
    }
   ],
   "source": [
    "endinv.isnull().sum().sum()"
   ]
  },
  {
   "cell_type": "markdown",
   "id": "5f311463",
   "metadata": {},
   "source": [
    "### Data types:"
   ]
  },
  {
   "cell_type": "code",
   "execution_count": 55,
   "id": "a10e34ee",
   "metadata": {},
   "outputs": [
    {
     "data": {
      "text/plain": [
       "InventoryId     object\n",
       "Store            int64\n",
       "City            object\n",
       "Brand            int64\n",
       "Description     object\n",
       "Size            object\n",
       "onHand           int64\n",
       "Price          float64\n",
       "endDate         object\n",
       "dtype: object"
      ]
     },
     "execution_count": 55,
     "metadata": {},
     "output_type": "execute_result"
    }
   ],
   "source": [
    "endinv.dtypes"
   ]
  },
  {
   "cell_type": "code",
   "execution_count": 56,
   "id": "6dc2bcec",
   "metadata": {},
   "outputs": [],
   "source": [
    "endinv['endDate'] = pd.to_datetime(endinv['endDate'])"
   ]
  },
  {
   "cell_type": "code",
   "execution_count": 57,
   "id": "1ae7dfc7",
   "metadata": {},
   "outputs": [
    {
     "data": {
      "text/plain": [
       "InventoryId            object\n",
       "Store                   int64\n",
       "City                   object\n",
       "Brand                   int64\n",
       "Description            object\n",
       "Size                   object\n",
       "onHand                  int64\n",
       "Price                 float64\n",
       "endDate        datetime64[ns]\n",
       "dtype: object"
      ]
     },
     "execution_count": 57,
     "metadata": {},
     "output_type": "execute_result"
    }
   ],
   "source": [
    "endinv.dtypes"
   ]
  },
  {
   "cell_type": "markdown",
   "id": "655740ab",
   "metadata": {},
   "source": [
    "# Data Visualization:"
   ]
  },
  {
   "cell_type": "markdown",
   "id": "9dd00f82",
   "metadata": {},
   "source": [
    "### Top 10 Brands & Descriptions by max Price:"
   ]
  },
  {
   "cell_type": "code",
   "execution_count": 58,
   "id": "5b4fd948",
   "metadata": {},
   "outputs": [
    {
     "data": {
      "image/png": "[encoded data removed]",
      "text/plain": [
       "<Figure size 720x432 with 1 Axes>"
      ]
     },
     "metadata": {
      "needs_background": "light"
     },
     "output_type": "display_data"
    }
   ],
   "source": [
    "plt.figure(figsize=(10,6))\n",
    "endinv.groupby(['Brand','Description'])['Price'].max().sort_values().tail(10).plot(kind = 'barh', color = colors)\n",
    "\n",
    "plt.xlabel('Max Price', color = 'Black', fontweight='bold', fontsize=14)\n",
    "plt.ylabel('Brand & Description', color = 'Black', fontweight='bold', fontsize=14)\n",
    "plt.title('Top 10 Brands & Descriptions by max Price', color = 'red', fontweight='bold', fontsize=18)\n",
    "plt.show()"
   ]
  },
  {
   "cell_type": "markdown",
   "id": "15fb6f87",
   "metadata": {},
   "source": [
    "### Top 10 City by Average Price:"
   ]
  },
  {
   "cell_type": "code",
   "execution_count": 59,
   "id": "10d7bf03",
   "metadata": {},
   "outputs": [
    {
     "data": {
      "image/png": "[encoded data removed]",
      "text/plain": [
       "<Figure size 720x432 with 1 Axes>"
      ]
     },
     "metadata": {
      "needs_background": "light"
     },
     "output_type": "display_data"
    }
   ],
   "source": [
    "plt.figure(figsize=(10,6))\n",
    "endinv.groupby('City')['Price'].mean().sort_values().tail(10).plot(kind = 'barh', color = colors)\n",
    "\n",
    "plt.xlabel('Avg Price', color = 'Black', fontweight='bold', fontsize=14)\n",
    "plt.ylabel('City', color = 'Black', fontweight='bold', fontsize=14)\n",
    "plt.title('Top 10 City by Average Price', color = 'red', fontweight='bold', fontsize=18)\n",
    "plt.show()"
   ]
  },
  {
   "cell_type": "code",
   "execution_count": null,
   "id": "c47b13f6",
   "metadata": {},
   "outputs": [],
   "source": []
  },
  {
   "cell_type": "markdown",
   "id": "ba3b9d95",
   "metadata": {},
   "source": [
    "# Invoice purchase:"
   ]
  },
  {
   "cell_type": "code",
   "execution_count": 60,
   "id": "87839ca6",
   "metadata": {},
   "outputs": [
    {
     "data": {
      "text/html": [
       "<div>\n",
       "<style scoped>\n",
       "    .dataframe tbody tr th:only-of-type {\n",
       "        vertical-align: middle;\n",
       "    }\n",
       "\n",
       "    .dataframe tbody tr th {\n",
       "        vertical-align: top;\n",
       "    }\n",
       "\n",
       "    .dataframe thead th {\n",
       "        text-align: right;\n",
       "    }\n",
       "</style>\n",
       "<table border=\"1\" class=\"dataframe\">\n",
       "  <thead>\n",
       "    <tr style=\"text-align: right;\">\n",
       "      <th></th>\n",
       "      <th>VendorNumber</th>\n",
       "      <th>VendorName</th>\n",
       "      <th>InvoiceDate</th>\n",
       "      <th>PONumber</th>\n",
       "      <th>PODate</th>\n",
       "      <th>PayDate</th>\n",
       "      <th>Quantity</th>\n",
       "      <th>Dollars</th>\n",
       "      <th>Freight</th>\n",
       "      <th>Approval</th>\n",
       "    </tr>\n",
       "  </thead>\n",
       "  <tbody>\n",
       "    <tr>\n",
       "      <th>0</th>\n",
       "      <td>105</td>\n",
       "      <td>ALTAMAR BRANDS LLC</td>\n",
       "      <td>2016-01-04</td>\n",
       "      <td>8124</td>\n",
       "      <td>2015-12-21</td>\n",
       "      <td>2016-02-16</td>\n",
       "      <td>6</td>\n",
       "      <td>214.26</td>\n",
       "      <td>3.47</td>\n",
       "      <td>None</td>\n",
       "    </tr>\n",
       "    <tr>\n",
       "      <th>1</th>\n",
       "      <td>4466</td>\n",
       "      <td>AMERICAN VINTAGE BEVERAGE</td>\n",
       "      <td>2016-01-07</td>\n",
       "      <td>8137</td>\n",
       "      <td>2015-12-22</td>\n",
       "      <td>2016-02-21</td>\n",
       "      <td>15</td>\n",
       "      <td>140.55</td>\n",
       "      <td>8.57</td>\n",
       "      <td>None</td>\n",
       "    </tr>\n",
       "    <tr>\n",
       "      <th>2</th>\n",
       "      <td>388</td>\n",
       "      <td>ATLANTIC IMPORTING COMPANY</td>\n",
       "      <td>2016-01-09</td>\n",
       "      <td>8169</td>\n",
       "      <td>2015-12-24</td>\n",
       "      <td>2016-02-16</td>\n",
       "      <td>5</td>\n",
       "      <td>106.60</td>\n",
       "      <td>4.61</td>\n",
       "      <td>None</td>\n",
       "    </tr>\n",
       "    <tr>\n",
       "      <th>3</th>\n",
       "      <td>480</td>\n",
       "      <td>BACARDI USA INC</td>\n",
       "      <td>2016-01-12</td>\n",
       "      <td>8106</td>\n",
       "      <td>2015-12-20</td>\n",
       "      <td>2016-02-05</td>\n",
       "      <td>10100</td>\n",
       "      <td>137483.78</td>\n",
       "      <td>2935.20</td>\n",
       "      <td>None</td>\n",
       "    </tr>\n",
       "    <tr>\n",
       "      <th>4</th>\n",
       "      <td>516</td>\n",
       "      <td>BANFI PRODUCTS CORP</td>\n",
       "      <td>2016-01-07</td>\n",
       "      <td>8170</td>\n",
       "      <td>2015-12-24</td>\n",
       "      <td>2016-02-12</td>\n",
       "      <td>1935</td>\n",
       "      <td>15527.25</td>\n",
       "      <td>429.20</td>\n",
       "      <td>None</td>\n",
       "    </tr>\n",
       "  </tbody>\n",
       "</table>\n",
       "</div>"
      ],
      "text/plain": [
       "   VendorNumber                   VendorName InvoiceDate  PONumber  \\\n",
       "0           105  ALTAMAR BRANDS LLC           2016-01-04      8124   \n",
       "1          4466  AMERICAN VINTAGE BEVERAGE    2016-01-07      8137   \n",
       "2           388  ATLANTIC IMPORTING COMPANY   2016-01-09      8169   \n",
       "3           480  BACARDI USA INC              2016-01-12      8106   \n",
       "4           516  BANFI PRODUCTS CORP          2016-01-07      8170   \n",
       "\n",
       "       PODate     PayDate  Quantity    Dollars  Freight Approval  \n",
       "0  2015-12-21  2016-02-16         6     214.26     3.47     None  \n",
       "1  2015-12-22  2016-02-21        15     140.55     8.57     None  \n",
       "2  2015-12-24  2016-02-16         5     106.60     4.61     None  \n",
       "3  2015-12-20  2016-02-05     10100  137483.78  2935.20     None  \n",
       "4  2015-12-24  2016-02-12      1935   15527.25   429.20     None  "
      ]
     },
     "execution_count": 60,
     "metadata": {},
     "output_type": "execute_result"
    }
   ],
   "source": [
    "invoicepurchase.head()"
   ]
  },
  {
   "cell_type": "code",
   "execution_count": 61,
   "id": "2a9a64e4",
   "metadata": {},
   "outputs": [
    {
     "data": {
      "text/plain": [
       "(5543, 10)"
      ]
     },
     "execution_count": 61,
     "metadata": {},
     "output_type": "execute_result"
    }
   ],
   "source": [
    "invoicepurchase.shape"
   ]
  },
  {
   "cell_type": "markdown",
   "id": "e4707cad",
   "metadata": {},
   "source": [
    "### Redundant colum:"
   ]
  },
  {
   "cell_type": "code",
   "execution_count": 62,
   "id": "8bbf164d",
   "metadata": {},
   "outputs": [
    {
     "data": {
      "text/plain": [
       "None              5169\n",
       "Frank Delahunt     374\n",
       "Name: Approval, dtype: int64"
      ]
     },
     "execution_count": 62,
     "metadata": {},
     "output_type": "execute_result"
    }
   ],
   "source": [
    "invoicepurchase['Approval'].value_counts()"
   ]
  },
  {
   "cell_type": "code",
   "execution_count": 63,
   "id": "0ccc8324",
   "metadata": {},
   "outputs": [],
   "source": [
    "invoicepurchase.drop('Approval', axis = 1, inplace = True)"
   ]
  },
  {
   "cell_type": "markdown",
   "id": "00f0e77c",
   "metadata": {},
   "source": [
    "### Null values:\n"
   ]
  },
  {
   "cell_type": "code",
   "execution_count": 64,
   "id": "e45a6125",
   "metadata": {},
   "outputs": [
    {
     "data": {
      "text/plain": [
       "VendorNumber    0\n",
       "VendorName      0\n",
       "InvoiceDate     0\n",
       "PONumber        0\n",
       "PODate          0\n",
       "PayDate         0\n",
       "Quantity        0\n",
       "Dollars         0\n",
       "Freight         0\n",
       "dtype: int64"
      ]
     },
     "execution_count": 64,
     "metadata": {},
     "output_type": "execute_result"
    }
   ],
   "source": [
    "invoicepurchase.isnull().sum()"
   ]
  },
  {
   "cell_type": "markdown",
   "id": "0bbba35c",
   "metadata": {},
   "source": [
    "### Data Types:"
   ]
  },
  {
   "cell_type": "code",
   "execution_count": 65,
   "id": "82f95c23",
   "metadata": {},
   "outputs": [
    {
     "data": {
      "text/plain": [
       "VendorNumber      int64\n",
       "VendorName       object\n",
       "InvoiceDate      object\n",
       "PONumber          int64\n",
       "PODate           object\n",
       "PayDate          object\n",
       "Quantity          int64\n",
       "Dollars         float64\n",
       "Freight         float64\n",
       "dtype: object"
      ]
     },
     "execution_count": 65,
     "metadata": {},
     "output_type": "execute_result"
    }
   ],
   "source": [
    "invoicepurchase.dtypes"
   ]
  },
  {
   "cell_type": "code",
   "execution_count": 66,
   "id": "486e0475",
   "metadata": {},
   "outputs": [],
   "source": [
    "invoicepurchase['InvoiceDate'] = pd.to_datetime(invoicepurchase['InvoiceDate'])\n",
    "invoicepurchase['PODate'] = pd.to_datetime(invoicepurchase['PODate'])\n",
    "invoicepurchase['PayDate'] = pd.to_datetime(invoicepurchase['PayDate'])"
   ]
  },
  {
   "cell_type": "code",
   "execution_count": 67,
   "id": "e0536def",
   "metadata": {},
   "outputs": [
    {
     "data": {
      "text/plain": [
       "VendorNumber             int64\n",
       "VendorName              object\n",
       "InvoiceDate     datetime64[ns]\n",
       "PONumber                 int64\n",
       "PODate          datetime64[ns]\n",
       "PayDate         datetime64[ns]\n",
       "Quantity                 int64\n",
       "Dollars                float64\n",
       "Freight                float64\n",
       "dtype: object"
      ]
     },
     "execution_count": 67,
     "metadata": {},
     "output_type": "execute_result"
    }
   ],
   "source": [
    "invoicepurchase.dtypes"
   ]
  },
  {
   "cell_type": "markdown",
   "id": "1a254126",
   "metadata": {},
   "source": [
    "### Unique Values in each column:"
   ]
  },
  {
   "cell_type": "code",
   "execution_count": 68,
   "id": "98f65ae1",
   "metadata": {},
   "outputs": [
    {
     "name": "stdout",
     "output_type": "stream",
     "text": [
      "VendorNumber [     2     54     60    105    200    287    388    480    516    653\n",
      "    660   1003   1128   1189   1265   1273   1392   1439   1485   1587\n",
      "   1590   1601   1650   1655   1703   2000   2242   2396   2450   2496\n",
      "   2555   2561   2876   3089   3252   3551   3664   3924   3950   3951\n",
      "   3960   4380   4425   4466   4550   4692   4848   4901   4950   5083\n",
      "   5270   5455   5612   5992   6213   6215   6280   6355   6359   6785\n",
      "   6830   7153   7154   7239   7240   7245   7255   7749   8004   8112\n",
      "   8150   8320   8352   8663   8664   8673   8735   8892   8920   9099\n",
      "   9165   9206   9260   9552   9622   9625   9744   9751   9815   9819\n",
      "  10000  10050  10754  11567  12331  12546  17031  17032  17033  17035\n",
      "  17037  28750  28776  90010  90011  90017  90024  90026  90027  90032\n",
      "  90033  90037  90046  90047  90051  90052  90053  90056  90057  90058\n",
      "  90059  98450  99166 172662 173357 201359] \n",
      "\n",
      "VendorName ['AAPER ALCOHOL & CHEMICAL CO' 'ADAMBA IMPORTS INTL INC    '\n",
      " 'ALISA CARR BEVERAGES           ' 'ALTAMAR BRANDS LLC         '\n",
      " 'AMERICAN SPIRITS EXCHANGE  ' 'AMERICAN VINTAGE BEVERAGE  '\n",
      " 'APPOLO VINEYARDS LLC       ' 'ATLANTIC IMPORTING COMPANY '\n",
      " 'BACARDI USA INC            ' 'BANFI PRODUCTS CORP        '\n",
      " 'BLACK COVE BEVERAGES       ' 'BLACK PRINCE DISTILLERY INC'\n",
      " 'BLACK ROCK SPIRITS LLC     ' 'BRONCO WINE COMPANY        '\n",
      " 'BROWN-FORMAN CORP          ' 'BULLY BOY DISTILLERS       '\n",
      " 'CALEDONIA SPIRITS INC      ' 'CAMPARI AMERICA            '\n",
      " 'CANDIA VINEYARDS           ' 'CAPSTONE INTERNATIONAL     '\n",
      " 'CASTLE BRANDS CORP.        ' 'CENTEUR IMPORTS LLC        '\n",
      " 'CHARLES JACQUIN ET CIE INC ' 'CONSTELLATION BRANDS INC   '\n",
      " 'CRUSH WINES                ' 'Circa Wines                '\n",
      " 'DELICATO VINEYARDS INC     ' 'DIAGEO CHATEAU ESTATE WINES'\n",
      " 'DIAGEO NORTH AMERICA INC   ' 'DISARONNO INTERNATIONAL LLC'\n",
      " 'DJINN SPIRITS LLC          ' 'DUGGANS DISTILLED PRODUCTS '\n",
      " 'Dunn Wine Brokers          ' 'E & J GALLO WINERY         '\n",
      " 'EDRINGTON AMERICAS         ' 'FABRIZIA SPIRITS LLC       '\n",
      " 'FANTASY FINE WINES CORP    ' 'FLAG HILL WINERY & VINEYARD'\n",
      " 'FLAVOR ESSENCE INC         ' 'FORTUNE WINE BROKERS LLC   '\n",
      " 'FREDERICK WILDMAN & SONS   ' 'FULCHINO VINEYARD INC      '\n",
      " 'GILMANTON WINERY & VINEYARD' 'HAUNTING WHISPER VYDS      '\n",
      " 'HEAVEN HILL DISTILLERIES   ' 'HIGHLAND WINE MERCHANTS LLC'\n",
      " 'HOOD RIVER DISTILLERS, Inc.' 'INCREDIBREW INC            '\n",
      " 'IRA GOLDMAN AND WILLIAMS, LLP          ' 'JEWELL TOWNE VINEYARDS     '\n",
      " 'JIM BEAM BRANDS COMPANY    ' 'KLIN SPIRITS LLC           '\n",
      " 'KOBRAND CORPORATION        ' 'LABELLE VYDS AND WINERY    '\n",
      " 'LAIRD & CO                 ' 'LATITUDE BEVERAGE COMPANY  '\n",
      " 'LAUREATE IMPORTS CO        ' 'LOYAL DOG WINERY           '\n",
      " 'LUXCO INC                  ' 'M S WALKER INC             '\n",
      " 'MAJESTIC FINE WINES        ' 'MANGO BOTTLING INC         '\n",
      " 'MARSALLE COMPANY           ' 'MARTIGNETTI COMPANIES'\n",
      " 'MARTIGNETTI COMPANIES ' 'MCCORMICK DISTILLING CO    '\n",
      " 'MHW LTD                    ' 'MILTONS DISTRIBUTING CO    '\n",
      " 'MOET HENNESSY USA INC      ' 'MOONLIGHT MEADERY          '\n",
      " 'NICHE W & S                ' 'OLE SMOKY DISTILLERY LLC   '\n",
      " 'PALM BAY INTERNATIONAL INC ' 'PARK STREET IMPORTS LLC    '\n",
      " 'PERFECTA WINES             ' 'PERNOD RICARD USA          '\n",
      " 'PHILLIPS PRODUCTS CO.      ' 'PINE STATE TRADING CO      '\n",
      " 'POVERTY LANE ORCHARDS      ' 'PREMIER DISTRIBUTORS       '\n",
      " 'PREMIUM PORT WINES, INC.   ' 'PROXIMO SPIRITS INC.       ' 'PSP WINES '\n",
      " 'R.P.IMPORTS INC            ' 'REMY COINTREAU USA INC     '\n",
      " 'Russian Standard Vodka     ' 'SAZERAC CO INC             '\n",
      " 'SAZERAC NORTH AMERICA INC. ' 'SEA BREEZE CELLARS LLC     '\n",
      " 'SEA HAGG DISTILLERY LLC    ' 'SHAW ROSS INT L IMP LTD    '\n",
      " 'SIDNEY FRANK IMPORTING CO  ' 'SILVER MOUNTAIN CIDERS     '\n",
      " 'SMOKY QUARTZ DISTILLERY LLC' 'SOUTHERN GLAZERS W&S OF NE '\n",
      " 'SOUTHERN WINE & SPIRITS NE ' 'STAR INDUSTRIES INC.       '\n",
      " 'STARK BREWING COMPANY      ' 'STATE WINE & SPIRITS   '\n",
      " 'STE MICHELLE WINE ESTATES  ' 'STELLAR IMPORTING CO LLC   '\n",
      " 'STOLI GROUP,(USA) LLC      ' 'SURVILLE ENTERPRISES CORP  '\n",
      " 'SWEET BABY VINEYARD        ' 'SWEETWATER FARM         '\n",
      " 'Serralles Usa LLC          ' 'TAKARA SAKE USA INC        '\n",
      " 'TALL SHIP DISTILLERY LLC   ' 'TAMWORTH DISTILLING        '\n",
      " 'THE IMPORTED GRAPE LLC     ' 'THE PIERPONT GROUP LLC     '\n",
      " 'TREASURY WINE ESTATES      ' 'TRINCHERO FAMILY ESTATES   '\n",
      " 'TRUETT HURST               ' 'TY KU LLC                  '\n",
      " 'ULTRA BEVERAGE COMPANY LLP ' 'UNCORKED       '\n",
      " 'VINEDREA WINES LLC         ' 'VINEXTRA INC               '\n",
      " 'VINEYARD BRANDS INC        ' 'VINEYARD BRANDS LLC        '\n",
      " 'VINILANDIA USA             ' 'VRANKEN AMERICA            '\n",
      " 'WALPOLE MTN VIEW WINERY    ' 'WEIN BAUER INC             '\n",
      " 'WESTERN SPIRITS BEVERAGE CO' 'WILLIAM GRANT & SONS INC   '\n",
      " 'WINE GROUP INC             ' 'ZORVINO VINEYARDS          '] \n",
      "\n",
      "InvoiceDate ['2016-01-04T00:00:00.000000000' '2016-01-05T00:00:00.000000000'\n",
      " '2016-01-06T00:00:00.000000000' '2016-01-07T00:00:00.000000000'\n",
      " '2016-01-08T00:00:00.000000000' '2016-01-09T00:00:00.000000000'\n",
      " '2016-01-10T00:00:00.000000000' '2016-01-11T00:00:00.000000000'\n",
      " '2016-01-12T00:00:00.000000000' '2016-01-13T00:00:00.000000000'\n",
      " '2016-01-14T00:00:00.000000000' '2016-01-15T00:00:00.000000000'\n",
      " '2016-01-16T00:00:00.000000000' '2016-01-17T00:00:00.000000000'\n",
      " '2016-01-18T00:00:00.000000000' '2016-01-19T00:00:00.000000000'\n",
      " '2016-01-20T00:00:00.000000000' '2016-01-21T00:00:00.000000000'\n",
      " '2016-01-22T00:00:00.000000000' '2016-01-23T00:00:00.000000000'\n",
      " '2016-01-24T00:00:00.000000000' '2016-01-25T00:00:00.000000000'\n",
      " '2016-01-26T00:00:00.000000000' '2016-01-27T00:00:00.000000000'\n",
      " '2016-01-28T00:00:00.000000000' '2016-01-29T00:00:00.000000000'\n",
      " '2016-01-30T00:00:00.000000000' '2016-01-31T00:00:00.000000000'\n",
      " '2016-02-01T00:00:00.000000000' '2016-02-02T00:00:00.000000000'\n",
      " '2016-02-03T00:00:00.000000000' '2016-02-04T00:00:00.000000000'\n",
      " '2016-02-05T00:00:00.000000000' '2016-02-06T00:00:00.000000000'\n",
      " '2016-02-07T00:00:00.000000000' '2016-02-08T00:00:00.000000000'\n",
      " '2016-02-09T00:00:00.000000000' '2016-02-10T00:00:00.000000000'\n",
      " '2016-02-11T00:00:00.000000000' '2016-02-12T00:00:00.000000000'\n",
      " '2016-02-13T00:00:00.000000000' '2016-02-14T00:00:00.000000000'\n",
      " '2016-02-15T00:00:00.000000000' '2016-02-16T00:00:00.000000000'\n",
      " '2016-02-17T00:00:00.000000000' '2016-02-18T00:00:00.000000000'\n",
      " '2016-02-19T00:00:00.000000000' '2016-02-20T00:00:00.000000000'\n",
      " '2016-02-21T00:00:00.000000000' '2016-02-22T00:00:00.000000000'\n",
      " '2016-02-23T00:00:00.000000000' '2016-02-24T00:00:00.000000000'\n",
      " '2016-02-25T00:00:00.000000000' '2016-02-26T00:00:00.000000000'\n",
      " '2016-02-27T00:00:00.000000000' '2016-02-28T00:00:00.000000000'\n",
      " '2016-02-29T00:00:00.000000000' '2016-03-01T00:00:00.000000000'\n",
      " '2016-03-02T00:00:00.000000000' '2016-03-03T00:00:00.000000000'\n",
      " '2016-03-04T00:00:00.000000000' '2016-03-05T00:00:00.000000000'\n",
      " '2016-03-06T00:00:00.000000000' '2016-03-07T00:00:00.000000000'\n",
      " '2016-03-08T00:00:00.000000000' '2016-03-09T00:00:00.000000000'\n",
      " '2016-03-10T00:00:00.000000000' '2016-03-11T00:00:00.000000000'\n",
      " '2016-03-12T00:00:00.000000000' '2016-03-13T00:00:00.000000000'\n",
      " '2016-03-14T00:00:00.000000000' '2016-03-15T00:00:00.000000000'\n",
      " '2016-03-16T00:00:00.000000000' '2016-03-17T00:00:00.000000000'\n",
      " '2016-03-18T00:00:00.000000000' '2016-03-19T00:00:00.000000000'\n",
      " '2016-03-20T00:00:00.000000000' '2016-03-21T00:00:00.000000000'\n",
      " '2016-03-22T00:00:00.000000000' '2016-03-23T00:00:00.000000000'\n",
      " '2016-03-24T00:00:00.000000000' '2016-03-25T00:00:00.000000000'\n",
      " '2016-03-26T00:00:00.000000000' '2016-03-27T00:00:00.000000000'\n",
      " '2016-03-28T00:00:00.000000000' '2016-03-29T00:00:00.000000000'\n",
      " '2016-03-30T00:00:00.000000000' '2016-03-31T00:00:00.000000000'\n",
      " '2016-04-01T00:00:00.000000000' '2016-04-02T00:00:00.000000000'\n",
      " '2016-04-03T00:00:00.000000000' '2016-04-04T00:00:00.000000000'\n",
      " '2016-04-05T00:00:00.000000000' '2016-04-06T00:00:00.000000000'\n",
      " '2016-04-07T00:00:00.000000000' '2016-04-08T00:00:00.000000000'\n",
      " '2016-04-09T00:00:00.000000000' '2016-04-10T00:00:00.000000000'\n",
      " '2016-04-11T00:00:00.000000000' '2016-04-12T00:00:00.000000000'\n",
      " '2016-04-13T00:00:00.000000000' '2016-04-14T00:00:00.000000000'\n",
      " '2016-04-15T00:00:00.000000000' '2016-04-16T00:00:00.000000000'\n",
      " '2016-04-17T00:00:00.000000000' '2016-04-18T00:00:00.000000000'\n",
      " '2016-04-19T00:00:00.000000000' '2016-04-20T00:00:00.000000000'\n",
      " '2016-04-21T00:00:00.000000000' '2016-04-22T00:00:00.000000000'\n",
      " '2016-04-23T00:00:00.000000000' '2016-04-24T00:00:00.000000000'\n",
      " '2016-04-25T00:00:00.000000000' '2016-04-26T00:00:00.000000000'\n",
      " '2016-04-27T00:00:00.000000000' '2016-04-28T00:00:00.000000000'\n",
      " '2016-04-29T00:00:00.000000000' '2016-04-30T00:00:00.000000000'\n",
      " '2016-05-01T00:00:00.000000000' '2016-05-02T00:00:00.000000000'\n",
      " '2016-05-03T00:00:00.000000000' '2016-05-04T00:00:00.000000000'\n",
      " '2016-05-05T00:00:00.000000000' '2016-05-06T00:00:00.000000000'\n",
      " '2016-05-07T00:00:00.000000000' '2016-05-08T00:00:00.000000000'\n",
      " '2016-05-09T00:00:00.000000000' '2016-05-10T00:00:00.000000000'\n",
      " '2016-05-11T00:00:00.000000000' '2016-05-12T00:00:00.000000000'\n",
      " '2016-05-13T00:00:00.000000000' '2016-05-14T00:00:00.000000000'\n",
      " '2016-05-15T00:00:00.000000000' '2016-05-16T00:00:00.000000000'\n",
      " '2016-05-17T00:00:00.000000000' '2016-05-18T00:00:00.000000000'\n",
      " '2016-05-19T00:00:00.000000000' '2016-05-20T00:00:00.000000000'\n",
      " '2016-05-21T00:00:00.000000000' '2016-05-22T00:00:00.000000000'\n",
      " '2016-05-23T00:00:00.000000000' '2016-05-24T00:00:00.000000000'\n",
      " '2016-05-25T00:00:00.000000000' '2016-05-26T00:00:00.000000000'\n",
      " '2016-05-27T00:00:00.000000000' '2016-05-28T00:00:00.000000000'\n",
      " '2016-05-29T00:00:00.000000000' '2016-05-30T00:00:00.000000000'\n",
      " '2016-05-31T00:00:00.000000000' '2016-06-01T00:00:00.000000000'\n",
      " '2016-06-02T00:00:00.000000000' '2016-06-03T00:00:00.000000000'\n",
      " '2016-06-04T00:00:00.000000000' '2016-06-05T00:00:00.000000000'\n",
      " '2016-06-06T00:00:00.000000000' '2016-06-07T00:00:00.000000000'\n",
      " '2016-06-08T00:00:00.000000000' '2016-06-09T00:00:00.000000000'\n",
      " '2016-06-10T00:00:00.000000000' '2016-06-11T00:00:00.000000000'\n",
      " '2016-06-12T00:00:00.000000000' '2016-06-13T00:00:00.000000000'\n",
      " '2016-06-14T00:00:00.000000000' '2016-06-15T00:00:00.000000000'\n",
      " '2016-06-16T00:00:00.000000000' '2016-06-17T00:00:00.000000000'\n",
      " '2016-06-18T00:00:00.000000000' '2016-06-19T00:00:00.000000000'\n",
      " '2016-06-20T00:00:00.000000000' '2016-06-21T00:00:00.000000000'\n",
      " '2016-06-22T00:00:00.000000000' '2016-06-23T00:00:00.000000000'\n",
      " '2016-06-24T00:00:00.000000000' '2016-06-25T00:00:00.000000000'\n",
      " '2016-06-26T00:00:00.000000000' '2016-06-27T00:00:00.000000000'\n",
      " '2016-06-28T00:00:00.000000000' '2016-06-29T00:00:00.000000000'\n",
      " '2016-06-30T00:00:00.000000000' '2016-07-01T00:00:00.000000000'\n",
      " '2016-07-02T00:00:00.000000000' '2016-07-03T00:00:00.000000000'\n",
      " '2016-07-04T00:00:00.000000000' '2016-07-05T00:00:00.000000000'\n",
      " '2016-07-06T00:00:00.000000000' '2016-07-07T00:00:00.000000000'\n",
      " '2016-07-08T00:00:00.000000000' '2016-07-09T00:00:00.000000000'\n",
      " '2016-07-10T00:00:00.000000000' '2016-07-11T00:00:00.000000000'\n",
      " '2016-07-12T00:00:00.000000000' '2016-07-13T00:00:00.000000000'\n",
      " '2016-07-14T00:00:00.000000000' '2016-07-15T00:00:00.000000000'\n",
      " '2016-07-16T00:00:00.000000000' '2016-07-17T00:00:00.000000000'\n",
      " '2016-07-18T00:00:00.000000000' '2016-07-19T00:00:00.000000000'\n",
      " '2016-07-20T00:00:00.000000000' '2016-07-21T00:00:00.000000000'\n",
      " '2016-07-22T00:00:00.000000000' '2016-07-23T00:00:00.000000000'\n",
      " '2016-07-24T00:00:00.000000000' '2016-07-25T00:00:00.000000000'\n",
      " '2016-07-26T00:00:00.000000000' '2016-07-27T00:00:00.000000000'\n",
      " '2016-07-28T00:00:00.000000000' '2016-07-29T00:00:00.000000000'\n",
      " '2016-07-30T00:00:00.000000000' '2016-07-31T00:00:00.000000000'\n",
      " '2016-08-01T00:00:00.000000000' '2016-08-02T00:00:00.000000000'\n",
      " '2016-08-03T00:00:00.000000000' '2016-08-04T00:00:00.000000000'\n",
      " '2016-08-05T00:00:00.000000000' '2016-08-06T00:00:00.000000000'\n",
      " '2016-08-07T00:00:00.000000000' '2016-08-08T00:00:00.000000000'\n",
      " '2016-08-09T00:00:00.000000000' '2016-08-10T00:00:00.000000000'\n",
      " '2016-08-11T00:00:00.000000000' '2016-08-12T00:00:00.000000000'\n",
      " '2016-08-13T00:00:00.000000000' '2016-08-14T00:00:00.000000000'\n",
      " '2016-08-15T00:00:00.000000000' '2016-08-16T00:00:00.000000000'\n",
      " '2016-08-17T00:00:00.000000000' '2016-08-18T00:00:00.000000000'\n",
      " '2016-08-19T00:00:00.000000000' '2016-08-20T00:00:00.000000000'\n",
      " '2016-08-21T00:00:00.000000000' '2016-08-22T00:00:00.000000000'\n",
      " '2016-08-23T00:00:00.000000000' '2016-08-24T00:00:00.000000000'\n",
      " '2016-08-25T00:00:00.000000000' '2016-08-26T00:00:00.000000000'\n",
      " '2016-08-27T00:00:00.000000000' '2016-08-28T00:00:00.000000000'\n",
      " '2016-08-29T00:00:00.000000000' '2016-08-30T00:00:00.000000000'\n",
      " '2016-08-31T00:00:00.000000000' '2016-09-01T00:00:00.000000000'\n",
      " '2016-09-02T00:00:00.000000000' '2016-09-03T00:00:00.000000000'\n",
      " '2016-09-04T00:00:00.000000000' '2016-09-05T00:00:00.000000000'\n",
      " '2016-09-06T00:00:00.000000000' '2016-09-07T00:00:00.000000000'\n",
      " '2016-09-08T00:00:00.000000000' '2016-09-09T00:00:00.000000000'\n",
      " '2016-09-10T00:00:00.000000000' '2016-09-11T00:00:00.000000000'\n",
      " '2016-09-12T00:00:00.000000000' '2016-09-13T00:00:00.000000000'\n",
      " '2016-09-14T00:00:00.000000000' '2016-09-15T00:00:00.000000000'\n",
      " '2016-09-16T00:00:00.000000000' '2016-09-17T00:00:00.000000000'\n",
      " '2016-09-18T00:00:00.000000000' '2016-09-19T00:00:00.000000000'\n",
      " '2016-09-20T00:00:00.000000000' '2016-09-21T00:00:00.000000000'\n",
      " '2016-09-22T00:00:00.000000000' '2016-09-23T00:00:00.000000000'\n",
      " '2016-09-24T00:00:00.000000000' '2016-09-25T00:00:00.000000000'\n",
      " '2016-09-26T00:00:00.000000000' '2016-09-27T00:00:00.000000000'\n",
      " '2016-09-28T00:00:00.000000000' '2016-09-29T00:00:00.000000000'\n",
      " '2016-09-30T00:00:00.000000000' '2016-10-01T00:00:00.000000000'\n",
      " '2016-10-02T00:00:00.000000000' '2016-10-03T00:00:00.000000000'\n",
      " '2016-10-04T00:00:00.000000000' '2016-10-05T00:00:00.000000000'\n",
      " '2016-10-06T00:00:00.000000000' '2016-10-07T00:00:00.000000000'\n",
      " '2016-10-08T00:00:00.000000000' '2016-10-09T00:00:00.000000000'\n",
      " '2016-10-10T00:00:00.000000000' '2016-10-11T00:00:00.000000000'\n",
      " '2016-10-12T00:00:00.000000000' '2016-10-13T00:00:00.000000000'\n",
      " '2016-10-14T00:00:00.000000000' '2016-10-15T00:00:00.000000000'\n",
      " '2016-10-16T00:00:00.000000000' '2016-10-17T00:00:00.000000000'\n",
      " '2016-10-18T00:00:00.000000000' '2016-10-19T00:00:00.000000000'\n",
      " '2016-10-20T00:00:00.000000000' '2016-10-21T00:00:00.000000000'\n",
      " '2016-10-22T00:00:00.000000000' '2016-10-23T00:00:00.000000000'\n",
      " '2016-10-24T00:00:00.000000000' '2016-10-25T00:00:00.000000000'\n",
      " '2016-10-26T00:00:00.000000000' '2016-10-27T00:00:00.000000000'\n",
      " '2016-10-28T00:00:00.000000000' '2016-10-29T00:00:00.000000000'\n",
      " '2016-10-30T00:00:00.000000000' '2016-10-31T00:00:00.000000000'\n",
      " '2016-11-01T00:00:00.000000000' '2016-11-02T00:00:00.000000000'\n",
      " '2016-11-03T00:00:00.000000000' '2016-11-04T00:00:00.000000000'\n",
      " '2016-11-05T00:00:00.000000000' '2016-11-06T00:00:00.000000000'\n",
      " '2016-11-07T00:00:00.000000000' '2016-11-08T00:00:00.000000000'\n",
      " '2016-11-09T00:00:00.000000000' '2016-11-10T00:00:00.000000000'\n",
      " '2016-11-11T00:00:00.000000000' '2016-11-12T00:00:00.000000000'\n",
      " '2016-11-13T00:00:00.000000000' '2016-11-14T00:00:00.000000000'\n",
      " '2016-11-15T00:00:00.000000000' '2016-11-16T00:00:00.000000000'\n",
      " '2016-11-17T00:00:00.000000000' '2016-11-18T00:00:00.000000000'\n",
      " '2016-11-19T00:00:00.000000000' '2016-11-20T00:00:00.000000000'\n",
      " '2016-11-21T00:00:00.000000000' '2016-11-22T00:00:00.000000000'\n",
      " '2016-11-23T00:00:00.000000000' '2016-11-24T00:00:00.000000000'\n",
      " '2016-11-25T00:00:00.000000000' '2016-11-26T00:00:00.000000000'\n",
      " '2016-11-27T00:00:00.000000000' '2016-11-28T00:00:00.000000000'\n",
      " '2016-11-29T00:00:00.000000000' '2016-11-30T00:00:00.000000000'\n",
      " '2016-12-01T00:00:00.000000000' '2016-12-02T00:00:00.000000000'\n",
      " '2016-12-03T00:00:00.000000000' '2016-12-04T00:00:00.000000000'\n",
      " '2016-12-05T00:00:00.000000000' '2016-12-06T00:00:00.000000000'\n",
      " '2016-12-07T00:00:00.000000000' '2016-12-08T00:00:00.000000000'\n",
      " '2016-12-09T00:00:00.000000000' '2016-12-10T00:00:00.000000000'\n",
      " '2016-12-11T00:00:00.000000000' '2016-12-12T00:00:00.000000000'\n",
      " '2016-12-13T00:00:00.000000000' '2016-12-14T00:00:00.000000000'\n",
      " '2016-12-15T00:00:00.000000000' '2016-12-16T00:00:00.000000000'\n",
      " '2016-12-17T00:00:00.000000000' '2016-12-18T00:00:00.000000000'\n",
      " '2016-12-19T00:00:00.000000000' '2016-12-20T00:00:00.000000000'\n",
      " '2016-12-21T00:00:00.000000000' '2016-12-22T00:00:00.000000000'\n",
      " '2016-12-23T00:00:00.000000000' '2016-12-24T00:00:00.000000000'\n",
      " '2016-12-25T00:00:00.000000000' '2016-12-26T00:00:00.000000000'\n",
      " '2016-12-27T00:00:00.000000000' '2016-12-28T00:00:00.000000000'\n",
      " '2016-12-29T00:00:00.000000000' '2016-12-30T00:00:00.000000000'\n",
      " '2016-12-31T00:00:00.000000000' '2017-01-01T00:00:00.000000000'\n",
      " '2017-01-02T00:00:00.000000000' '2017-01-03T00:00:00.000000000'\n",
      " '2017-01-04T00:00:00.000000000' '2017-01-05T00:00:00.000000000'\n",
      " '2017-01-06T00:00:00.000000000' '2017-01-07T00:00:00.000000000'\n",
      " '2017-01-08T00:00:00.000000000' '2017-01-09T00:00:00.000000000'\n",
      " '2017-01-10T00:00:00.000000000'] \n",
      "\n",
      "PONumber [ 8106  8107  8108 ... 13659 13660 13661] \n",
      "\n",
      "PODate ['2015-12-20T00:00:00.000000000' '2015-12-21T00:00:00.000000000'\n",
      " '2015-12-22T00:00:00.000000000' '2015-12-23T00:00:00.000000000'\n",
      " '2015-12-24T00:00:00.000000000' '2015-12-25T00:00:00.000000000'\n",
      " '2015-12-27T00:00:00.000000000' '2015-12-28T00:00:00.000000000'\n",
      " '2015-12-29T00:00:00.000000000' '2015-12-30T00:00:00.000000000'\n",
      " '2015-12-31T00:00:00.000000000' '2016-01-01T00:00:00.000000000'\n",
      " '2016-01-03T00:00:00.000000000' '2016-01-04T00:00:00.000000000'\n",
      " '2016-01-05T00:00:00.000000000' '2016-01-06T00:00:00.000000000'\n",
      " '2016-01-07T00:00:00.000000000' '2016-01-08T00:00:00.000000000'\n",
      " '2016-01-10T00:00:00.000000000' '2016-01-11T00:00:00.000000000'\n",
      " '2016-01-12T00:00:00.000000000' '2016-01-13T00:00:00.000000000'\n",
      " '2016-01-14T00:00:00.000000000' '2016-01-15T00:00:00.000000000'\n",
      " '2016-01-17T00:00:00.000000000' '2016-01-18T00:00:00.000000000'\n",
      " '2016-01-19T00:00:00.000000000' '2016-01-20T00:00:00.000000000'\n",
      " '2016-01-21T00:00:00.000000000' '2016-01-22T00:00:00.000000000'\n",
      " '2016-01-24T00:00:00.000000000' '2016-01-25T00:00:00.000000000'\n",
      " '2016-01-26T00:00:00.000000000' '2016-01-27T00:00:00.000000000'\n",
      " '2016-01-28T00:00:00.000000000' '2016-01-29T00:00:00.000000000'\n",
      " '2016-01-31T00:00:00.000000000' '2016-02-01T00:00:00.000000000'\n",
      " '2016-02-02T00:00:00.000000000' '2016-02-03T00:00:00.000000000'\n",
      " '2016-02-04T00:00:00.000000000' '2016-02-05T00:00:00.000000000'\n",
      " '2016-02-07T00:00:00.000000000' '2016-02-08T00:00:00.000000000'\n",
      " '2016-02-09T00:00:00.000000000' '2016-02-10T00:00:00.000000000'\n",
      " '2016-02-11T00:00:00.000000000' '2016-02-12T00:00:00.000000000'\n",
      " '2016-02-14T00:00:00.000000000' '2016-02-15T00:00:00.000000000'\n",
      " '2016-02-16T00:00:00.000000000' '2016-02-17T00:00:00.000000000'\n",
      " '2016-02-18T00:00:00.000000000' '2016-02-19T00:00:00.000000000'\n",
      " '2016-02-21T00:00:00.000000000' '2016-02-22T00:00:00.000000000'\n",
      " '2016-02-23T00:00:00.000000000' '2016-02-24T00:00:00.000000000'\n",
      " '2016-02-25T00:00:00.000000000' '2016-02-26T00:00:00.000000000'\n",
      " '2016-02-28T00:00:00.000000000' '2016-02-29T00:00:00.000000000'\n",
      " '2016-03-01T00:00:00.000000000' '2016-03-02T00:00:00.000000000'\n",
      " '2016-03-03T00:00:00.000000000' '2016-03-04T00:00:00.000000000'\n",
      " '2016-03-06T00:00:00.000000000' '2016-03-07T00:00:00.000000000'\n",
      " '2016-03-08T00:00:00.000000000' '2016-03-09T00:00:00.000000000'\n",
      " '2016-03-10T00:00:00.000000000' '2016-03-11T00:00:00.000000000'\n",
      " '2016-03-13T00:00:00.000000000' '2016-03-14T00:00:00.000000000'\n",
      " '2016-03-15T00:00:00.000000000' '2016-03-16T00:00:00.000000000'\n",
      " '2016-03-17T00:00:00.000000000' '2016-03-18T00:00:00.000000000'\n",
      " '2016-03-20T00:00:00.000000000' '2016-03-21T00:00:00.000000000'\n",
      " '2016-03-22T00:00:00.000000000' '2016-03-23T00:00:00.000000000'\n",
      " '2016-03-24T00:00:00.000000000' '2016-03-25T00:00:00.000000000'\n",
      " '2016-03-27T00:00:00.000000000' '2016-03-28T00:00:00.000000000'\n",
      " '2016-03-29T00:00:00.000000000' '2016-03-30T00:00:00.000000000'\n",
      " '2016-03-31T00:00:00.000000000' '2016-04-01T00:00:00.000000000'\n",
      " '2016-04-03T00:00:00.000000000' '2016-04-04T00:00:00.000000000'\n",
      " '2016-04-05T00:00:00.000000000' '2016-04-06T00:00:00.000000000'\n",
      " '2016-04-07T00:00:00.000000000' '2016-04-08T00:00:00.000000000'\n",
      " '2016-04-10T00:00:00.000000000' '2016-04-11T00:00:00.000000000'\n",
      " '2016-04-12T00:00:00.000000000' '2016-04-13T00:00:00.000000000'\n",
      " '2016-04-14T00:00:00.000000000' '2016-04-15T00:00:00.000000000'\n",
      " '2016-04-17T00:00:00.000000000' '2016-04-18T00:00:00.000000000'\n",
      " '2016-04-19T00:00:00.000000000' '2016-04-20T00:00:00.000000000'\n",
      " '2016-04-21T00:00:00.000000000' '2016-04-22T00:00:00.000000000'\n",
      " '2016-04-24T00:00:00.000000000' '2016-04-25T00:00:00.000000000'\n",
      " '2016-04-26T00:00:00.000000000' '2016-04-27T00:00:00.000000000'\n",
      " '2016-04-28T00:00:00.000000000' '2016-04-29T00:00:00.000000000'\n",
      " '2016-05-01T00:00:00.000000000' '2016-05-02T00:00:00.000000000'\n",
      " '2016-05-03T00:00:00.000000000' '2016-05-04T00:00:00.000000000'\n",
      " '2016-05-05T00:00:00.000000000' '2016-05-06T00:00:00.000000000'\n",
      " '2016-05-08T00:00:00.000000000' '2016-05-09T00:00:00.000000000'\n",
      " '2016-05-10T00:00:00.000000000' '2016-05-11T00:00:00.000000000'\n",
      " '2016-05-12T00:00:00.000000000' '2016-05-13T00:00:00.000000000'\n",
      " '2016-05-15T00:00:00.000000000' '2016-05-16T00:00:00.000000000'\n",
      " '2016-05-17T00:00:00.000000000' '2016-05-18T00:00:00.000000000'\n",
      " '2016-05-19T00:00:00.000000000' '2016-05-20T00:00:00.000000000'\n",
      " '2016-05-22T00:00:00.000000000' '2016-05-23T00:00:00.000000000'\n",
      " '2016-05-24T00:00:00.000000000' '2016-05-25T00:00:00.000000000'\n",
      " '2016-05-26T00:00:00.000000000' '2016-05-27T00:00:00.000000000'\n",
      " '2016-05-29T00:00:00.000000000' '2016-05-30T00:00:00.000000000'\n",
      " '2016-05-31T00:00:00.000000000' '2016-06-01T00:00:00.000000000'\n",
      " '2016-06-02T00:00:00.000000000' '2016-06-03T00:00:00.000000000'\n",
      " '2016-06-05T00:00:00.000000000' '2016-06-06T00:00:00.000000000'\n",
      " '2016-06-07T00:00:00.000000000' '2016-06-08T00:00:00.000000000'\n",
      " '2016-06-09T00:00:00.000000000' '2016-06-10T00:00:00.000000000'\n",
      " '2016-06-12T00:00:00.000000000' '2016-06-13T00:00:00.000000000'\n",
      " '2016-06-14T00:00:00.000000000' '2016-06-15T00:00:00.000000000'\n",
      " '2016-06-16T00:00:00.000000000' '2016-06-17T00:00:00.000000000'\n",
      " '2016-06-19T00:00:00.000000000' '2016-06-20T00:00:00.000000000'\n",
      " '2016-06-21T00:00:00.000000000' '2016-06-22T00:00:00.000000000'\n",
      " '2016-06-23T00:00:00.000000000' '2016-06-24T00:00:00.000000000'\n",
      " '2016-06-25T00:00:00.000000000' '2016-06-26T00:00:00.000000000'\n",
      " '2016-06-27T00:00:00.000000000' '2016-06-28T00:00:00.000000000'\n",
      " '2016-06-29T00:00:00.000000000' '2016-06-30T00:00:00.000000000'\n",
      " '2016-07-01T00:00:00.000000000' '2016-07-03T00:00:00.000000000'\n",
      " '2016-07-04T00:00:00.000000000' '2016-07-05T00:00:00.000000000'\n",
      " '2016-07-06T00:00:00.000000000' '2016-07-07T00:00:00.000000000'\n",
      " '2016-07-08T00:00:00.000000000' '2016-07-10T00:00:00.000000000'\n",
      " '2016-07-11T00:00:00.000000000' '2016-07-12T00:00:00.000000000'\n",
      " '2016-07-13T00:00:00.000000000' '2016-07-14T00:00:00.000000000'\n",
      " '2016-07-15T00:00:00.000000000' '2016-07-17T00:00:00.000000000'\n",
      " '2016-07-18T00:00:00.000000000' '2016-07-19T00:00:00.000000000'\n",
      " '2016-07-20T00:00:00.000000000' '2016-07-21T00:00:00.000000000'\n",
      " '2016-07-22T00:00:00.000000000' '2016-07-24T00:00:00.000000000'\n",
      " '2016-07-25T00:00:00.000000000' '2016-07-26T00:00:00.000000000'\n",
      " '2016-07-27T00:00:00.000000000' '2016-07-28T00:00:00.000000000'\n",
      " '2016-07-29T00:00:00.000000000' '2016-07-31T00:00:00.000000000'\n",
      " '2016-08-01T00:00:00.000000000' '2016-08-02T00:00:00.000000000'\n",
      " '2016-08-03T00:00:00.000000000' '2016-08-04T00:00:00.000000000'\n",
      " '2016-08-05T00:00:00.000000000' '2016-08-07T00:00:00.000000000'\n",
      " '2016-08-08T00:00:00.000000000' '2016-08-09T00:00:00.000000000'\n",
      " '2016-08-10T00:00:00.000000000' '2016-08-11T00:00:00.000000000'\n",
      " '2016-08-12T00:00:00.000000000' '2016-08-14T00:00:00.000000000'\n",
      " '2016-08-15T00:00:00.000000000' '2016-08-16T00:00:00.000000000'\n",
      " '2016-08-17T00:00:00.000000000' '2016-08-18T00:00:00.000000000'\n",
      " '2016-08-19T00:00:00.000000000' '2016-08-21T00:00:00.000000000'\n",
      " '2016-08-22T00:00:00.000000000' '2016-08-23T00:00:00.000000000'\n",
      " '2016-08-24T00:00:00.000000000' '2016-08-25T00:00:00.000000000'\n",
      " '2016-08-26T00:00:00.000000000' '2016-08-28T00:00:00.000000000'\n",
      " '2016-08-29T00:00:00.000000000' '2016-08-30T00:00:00.000000000'\n",
      " '2016-08-31T00:00:00.000000000' '2016-09-01T00:00:00.000000000'\n",
      " '2016-09-02T00:00:00.000000000' '2016-09-04T00:00:00.000000000'\n",
      " '2016-09-05T00:00:00.000000000' '2016-09-06T00:00:00.000000000'\n",
      " '2016-09-07T00:00:00.000000000' '2016-09-08T00:00:00.000000000'\n",
      " '2016-09-09T00:00:00.000000000' '2016-09-11T00:00:00.000000000'\n",
      " '2016-09-12T00:00:00.000000000' '2016-09-13T00:00:00.000000000'\n",
      " '2016-09-14T00:00:00.000000000' '2016-09-15T00:00:00.000000000'\n",
      " '2016-09-16T00:00:00.000000000' '2016-09-18T00:00:00.000000000'\n",
      " '2016-09-19T00:00:00.000000000' '2016-09-20T00:00:00.000000000'\n",
      " '2016-09-21T00:00:00.000000000' '2016-09-22T00:00:00.000000000'\n",
      " '2016-09-23T00:00:00.000000000' '2016-09-25T00:00:00.000000000'\n",
      " '2016-09-26T00:00:00.000000000' '2016-09-27T00:00:00.000000000'\n",
      " '2016-09-28T00:00:00.000000000' '2016-09-29T00:00:00.000000000'\n",
      " '2016-09-30T00:00:00.000000000' '2016-10-02T00:00:00.000000000'\n",
      " '2016-10-03T00:00:00.000000000' '2016-10-04T00:00:00.000000000'\n",
      " '2016-10-05T00:00:00.000000000' '2016-10-06T00:00:00.000000000'\n",
      " '2016-10-07T00:00:00.000000000' '2016-10-09T00:00:00.000000000'\n",
      " '2016-10-10T00:00:00.000000000' '2016-10-11T00:00:00.000000000'\n",
      " '2016-10-12T00:00:00.000000000' '2016-10-13T00:00:00.000000000'\n",
      " '2016-10-14T00:00:00.000000000' '2016-10-16T00:00:00.000000000'\n",
      " '2016-10-17T00:00:00.000000000' '2016-10-18T00:00:00.000000000'\n",
      " '2016-10-19T00:00:00.000000000' '2016-10-20T00:00:00.000000000'\n",
      " '2016-10-21T00:00:00.000000000' '2016-10-23T00:00:00.000000000'\n",
      " '2016-10-24T00:00:00.000000000' '2016-10-25T00:00:00.000000000'\n",
      " '2016-10-26T00:00:00.000000000' '2016-10-27T00:00:00.000000000'\n",
      " '2016-10-28T00:00:00.000000000' '2016-10-30T00:00:00.000000000'\n",
      " '2016-10-31T00:00:00.000000000' '2016-11-01T00:00:00.000000000'\n",
      " '2016-11-02T00:00:00.000000000' '2016-11-03T00:00:00.000000000'\n",
      " '2016-11-04T00:00:00.000000000' '2016-11-06T00:00:00.000000000'\n",
      " '2016-11-07T00:00:00.000000000' '2016-11-08T00:00:00.000000000'\n",
      " '2016-11-09T00:00:00.000000000' '2016-11-10T00:00:00.000000000'\n",
      " '2016-11-11T00:00:00.000000000' '2016-11-13T00:00:00.000000000'\n",
      " '2016-11-14T00:00:00.000000000' '2016-11-15T00:00:00.000000000'\n",
      " '2016-11-16T00:00:00.000000000' '2016-11-17T00:00:00.000000000'\n",
      " '2016-11-18T00:00:00.000000000' '2016-11-20T00:00:00.000000000'\n",
      " '2016-11-21T00:00:00.000000000' '2016-11-22T00:00:00.000000000'\n",
      " '2016-11-23T00:00:00.000000000' '2016-11-24T00:00:00.000000000'\n",
      " '2016-11-25T00:00:00.000000000' '2016-11-27T00:00:00.000000000'\n",
      " '2016-11-28T00:00:00.000000000' '2016-11-29T00:00:00.000000000'\n",
      " '2016-11-30T00:00:00.000000000' '2016-12-01T00:00:00.000000000'\n",
      " '2016-12-02T00:00:00.000000000' '2016-12-04T00:00:00.000000000'\n",
      " '2016-12-05T00:00:00.000000000' '2016-12-06T00:00:00.000000000'\n",
      " '2016-12-07T00:00:00.000000000' '2016-12-08T00:00:00.000000000'\n",
      " '2016-12-09T00:00:00.000000000' '2016-12-11T00:00:00.000000000'\n",
      " '2016-12-12T00:00:00.000000000' '2016-12-13T00:00:00.000000000'\n",
      " '2016-12-14T00:00:00.000000000' '2016-12-15T00:00:00.000000000'\n",
      " '2016-12-16T00:00:00.000000000' '2016-12-18T00:00:00.000000000'\n",
      " '2016-12-19T00:00:00.000000000' '2016-12-20T00:00:00.000000000'\n",
      " '2016-12-21T00:00:00.000000000' '2016-12-22T00:00:00.000000000'\n",
      " '2016-12-23T00:00:00.000000000'] \n",
      "\n",
      "PayDate ['2016-02-04T00:00:00.000000000' '2016-02-05T00:00:00.000000000'\n",
      " '2016-02-06T00:00:00.000000000' '2016-02-07T00:00:00.000000000'\n",
      " '2016-02-08T00:00:00.000000000' '2016-02-09T00:00:00.000000000'\n",
      " '2016-02-10T00:00:00.000000000' '2016-02-11T00:00:00.000000000'\n",
      " '2016-02-12T00:00:00.000000000' '2016-02-13T00:00:00.000000000'\n",
      " '2016-02-14T00:00:00.000000000' '2016-02-15T00:00:00.000000000'\n",
      " '2016-02-16T00:00:00.000000000' '2016-02-17T00:00:00.000000000'\n",
      " '2016-02-18T00:00:00.000000000' '2016-02-19T00:00:00.000000000'\n",
      " '2016-02-20T00:00:00.000000000' '2016-02-21T00:00:00.000000000'\n",
      " '2016-02-22T00:00:00.000000000' '2016-02-23T00:00:00.000000000'\n",
      " '2016-02-24T00:00:00.000000000' '2016-02-25T00:00:00.000000000'\n",
      " '2016-02-26T00:00:00.000000000' '2016-02-27T00:00:00.000000000'\n",
      " '2016-02-28T00:00:00.000000000' '2016-02-29T00:00:00.000000000'\n",
      " '2016-03-01T00:00:00.000000000' '2016-03-02T00:00:00.000000000'\n",
      " '2016-03-03T00:00:00.000000000' '2016-03-04T00:00:00.000000000'\n",
      " '2016-03-05T00:00:00.000000000' '2016-03-06T00:00:00.000000000'\n",
      " '2016-03-07T00:00:00.000000000' '2016-03-08T00:00:00.000000000'\n",
      " '2016-03-09T00:00:00.000000000' '2016-03-10T00:00:00.000000000'\n",
      " '2016-03-11T00:00:00.000000000' '2016-03-12T00:00:00.000000000'\n",
      " '2016-03-13T00:00:00.000000000' '2016-03-14T00:00:00.000000000'\n",
      " '2016-03-15T00:00:00.000000000' '2016-03-16T00:00:00.000000000'\n",
      " '2016-03-17T00:00:00.000000000' '2016-03-18T00:00:00.000000000'\n",
      " '2016-03-19T00:00:00.000000000' '2016-03-20T00:00:00.000000000'\n",
      " '2016-03-21T00:00:00.000000000' '2016-03-22T00:00:00.000000000'\n",
      " '2016-03-23T00:00:00.000000000' '2016-03-24T00:00:00.000000000'\n",
      " '2016-03-25T00:00:00.000000000' '2016-03-26T00:00:00.000000000'\n",
      " '2016-03-27T00:00:00.000000000' '2016-03-28T00:00:00.000000000'\n",
      " '2016-03-29T00:00:00.000000000' '2016-03-30T00:00:00.000000000'\n",
      " '2016-03-31T00:00:00.000000000' '2016-04-01T00:00:00.000000000'\n",
      " '2016-04-02T00:00:00.000000000' '2016-04-03T00:00:00.000000000'\n",
      " '2016-04-04T00:00:00.000000000' '2016-04-05T00:00:00.000000000'\n",
      " '2016-04-06T00:00:00.000000000' '2016-04-07T00:00:00.000000000'\n",
      " '2016-04-08T00:00:00.000000000' '2016-04-09T00:00:00.000000000'\n",
      " '2016-04-10T00:00:00.000000000' '2016-04-11T00:00:00.000000000'\n",
      " '2016-04-12T00:00:00.000000000' '2016-04-13T00:00:00.000000000'\n",
      " '2016-04-14T00:00:00.000000000' '2016-04-15T00:00:00.000000000'\n",
      " '2016-04-16T00:00:00.000000000' '2016-04-17T00:00:00.000000000'\n",
      " '2016-04-18T00:00:00.000000000' '2016-04-19T00:00:00.000000000'\n",
      " '2016-04-20T00:00:00.000000000' '2016-04-21T00:00:00.000000000'\n",
      " '2016-04-22T00:00:00.000000000' '2016-04-23T00:00:00.000000000'\n",
      " '2016-04-24T00:00:00.000000000' '2016-04-25T00:00:00.000000000'\n",
      " '2016-04-26T00:00:00.000000000' '2016-04-27T00:00:00.000000000'\n",
      " '2016-04-28T00:00:00.000000000' '2016-04-29T00:00:00.000000000'\n",
      " '2016-04-30T00:00:00.000000000' '2016-05-01T00:00:00.000000000'\n",
      " '2016-05-02T00:00:00.000000000' '2016-05-03T00:00:00.000000000'\n",
      " '2016-05-04T00:00:00.000000000' '2016-05-05T00:00:00.000000000'\n",
      " '2016-05-06T00:00:00.000000000' '2016-05-07T00:00:00.000000000'\n",
      " '2016-05-08T00:00:00.000000000' '2016-05-09T00:00:00.000000000'\n",
      " '2016-05-10T00:00:00.000000000' '2016-05-11T00:00:00.000000000'\n",
      " '2016-05-12T00:00:00.000000000' '2016-05-13T00:00:00.000000000'\n",
      " '2016-05-14T00:00:00.000000000' '2016-05-15T00:00:00.000000000'\n",
      " '2016-05-16T00:00:00.000000000' '2016-05-17T00:00:00.000000000'\n",
      " '2016-05-18T00:00:00.000000000' '2016-05-19T00:00:00.000000000'\n",
      " '2016-05-20T00:00:00.000000000' '2016-05-21T00:00:00.000000000'\n",
      " '2016-05-22T00:00:00.000000000' '2016-05-23T00:00:00.000000000'\n",
      " '2016-05-24T00:00:00.000000000' '2016-05-25T00:00:00.000000000'\n",
      " '2016-05-26T00:00:00.000000000' '2016-05-27T00:00:00.000000000'\n",
      " '2016-05-28T00:00:00.000000000' '2016-05-29T00:00:00.000000000'\n",
      " '2016-05-30T00:00:00.000000000' '2016-05-31T00:00:00.000000000'\n",
      " '2016-06-01T00:00:00.000000000' '2016-06-02T00:00:00.000000000'\n",
      " '2016-06-03T00:00:00.000000000' '2016-06-04T00:00:00.000000000'\n",
      " '2016-06-05T00:00:00.000000000' '2016-06-06T00:00:00.000000000'\n",
      " '2016-06-07T00:00:00.000000000' '2016-06-08T00:00:00.000000000'\n",
      " '2016-06-09T00:00:00.000000000' '2016-06-10T00:00:00.000000000'\n",
      " '2016-06-11T00:00:00.000000000' '2016-06-12T00:00:00.000000000'\n",
      " '2016-06-13T00:00:00.000000000' '2016-06-14T00:00:00.000000000'\n",
      " '2016-06-15T00:00:00.000000000' '2016-06-16T00:00:00.000000000'\n",
      " '2016-06-17T00:00:00.000000000' '2016-06-18T00:00:00.000000000'\n",
      " '2016-06-19T00:00:00.000000000' '2016-06-20T00:00:00.000000000'\n",
      " '2016-06-21T00:00:00.000000000' '2016-06-22T00:00:00.000000000'\n",
      " '2016-06-23T00:00:00.000000000' '2016-06-24T00:00:00.000000000'\n",
      " '2016-06-25T00:00:00.000000000' '2016-06-26T00:00:00.000000000'\n",
      " '2016-06-27T00:00:00.000000000' '2016-06-28T00:00:00.000000000'\n",
      " '2016-06-29T00:00:00.000000000' '2016-06-30T00:00:00.000000000'\n",
      " '2016-07-01T00:00:00.000000000' '2016-07-02T00:00:00.000000000'\n",
      " '2016-07-03T00:00:00.000000000' '2016-07-04T00:00:00.000000000'\n",
      " '2016-07-05T00:00:00.000000000' '2016-07-06T00:00:00.000000000'\n",
      " '2016-07-07T00:00:00.000000000' '2016-07-08T00:00:00.000000000'\n",
      " '2016-07-09T00:00:00.000000000' '2016-07-10T00:00:00.000000000'\n",
      " '2016-07-11T00:00:00.000000000' '2016-07-12T00:00:00.000000000'\n",
      " '2016-07-13T00:00:00.000000000' '2016-07-14T00:00:00.000000000'\n",
      " '2016-07-15T00:00:00.000000000' '2016-07-16T00:00:00.000000000'\n",
      " '2016-07-17T00:00:00.000000000' '2016-07-18T00:00:00.000000000'\n",
      " '2016-07-19T00:00:00.000000000' '2016-07-20T00:00:00.000000000'\n",
      " '2016-07-21T00:00:00.000000000' '2016-07-22T00:00:00.000000000'\n",
      " '2016-07-23T00:00:00.000000000' '2016-07-24T00:00:00.000000000'\n",
      " '2016-07-25T00:00:00.000000000' '2016-07-26T00:00:00.000000000'\n",
      " '2016-07-27T00:00:00.000000000' '2016-07-28T00:00:00.000000000'\n",
      " '2016-07-29T00:00:00.000000000' '2016-07-30T00:00:00.000000000'\n",
      " '2016-07-31T00:00:00.000000000' '2016-08-01T00:00:00.000000000'\n",
      " '2016-08-02T00:00:00.000000000' '2016-08-03T00:00:00.000000000'\n",
      " '2016-08-04T00:00:00.000000000' '2016-08-05T00:00:00.000000000'\n",
      " '2016-08-06T00:00:00.000000000' '2016-08-07T00:00:00.000000000'\n",
      " '2016-08-08T00:00:00.000000000' '2016-08-09T00:00:00.000000000'\n",
      " '2016-08-10T00:00:00.000000000' '2016-08-11T00:00:00.000000000'\n",
      " '2016-08-12T00:00:00.000000000' '2016-08-13T00:00:00.000000000'\n",
      " '2016-08-14T00:00:00.000000000' '2016-08-15T00:00:00.000000000'\n",
      " '2016-08-16T00:00:00.000000000' '2016-08-17T00:00:00.000000000'\n",
      " '2016-08-18T00:00:00.000000000' '2016-08-19T00:00:00.000000000'\n",
      " '2016-08-20T00:00:00.000000000' '2016-08-21T00:00:00.000000000'\n",
      " '2016-08-22T00:00:00.000000000' '2016-08-23T00:00:00.000000000'\n",
      " '2016-08-24T00:00:00.000000000' '2016-08-25T00:00:00.000000000'\n",
      " '2016-08-26T00:00:00.000000000' '2016-08-27T00:00:00.000000000'\n",
      " '2016-08-28T00:00:00.000000000' '2016-08-29T00:00:00.000000000'\n",
      " '2016-08-30T00:00:00.000000000' '2016-08-31T00:00:00.000000000'\n",
      " '2016-09-01T00:00:00.000000000' '2016-09-02T00:00:00.000000000'\n",
      " '2016-09-03T00:00:00.000000000' '2016-09-04T00:00:00.000000000'\n",
      " '2016-09-05T00:00:00.000000000' '2016-09-06T00:00:00.000000000'\n",
      " '2016-09-07T00:00:00.000000000' '2016-09-08T00:00:00.000000000'\n",
      " '2016-09-09T00:00:00.000000000' '2016-09-10T00:00:00.000000000'\n",
      " '2016-09-11T00:00:00.000000000' '2016-09-12T00:00:00.000000000'\n",
      " '2016-09-13T00:00:00.000000000' '2016-09-14T00:00:00.000000000'\n",
      " '2016-09-15T00:00:00.000000000' '2016-09-16T00:00:00.000000000'\n",
      " '2016-09-17T00:00:00.000000000' '2016-09-18T00:00:00.000000000'\n",
      " '2016-09-19T00:00:00.000000000' '2016-09-20T00:00:00.000000000'\n",
      " '2016-09-21T00:00:00.000000000' '2016-09-22T00:00:00.000000000'\n",
      " '2016-09-23T00:00:00.000000000' '2016-09-24T00:00:00.000000000'\n",
      " '2016-09-25T00:00:00.000000000' '2016-09-26T00:00:00.000000000'\n",
      " '2016-09-27T00:00:00.000000000' '2016-09-28T00:00:00.000000000'\n",
      " '2016-09-29T00:00:00.000000000' '2016-09-30T00:00:00.000000000'\n",
      " '2016-10-01T00:00:00.000000000' '2016-10-02T00:00:00.000000000'\n",
      " '2016-10-03T00:00:00.000000000' '2016-10-04T00:00:00.000000000'\n",
      " '2016-10-05T00:00:00.000000000' '2016-10-06T00:00:00.000000000'\n",
      " '2016-10-07T00:00:00.000000000' '2016-10-08T00:00:00.000000000'\n",
      " '2016-10-09T00:00:00.000000000' '2016-10-10T00:00:00.000000000'\n",
      " '2016-10-11T00:00:00.000000000' '2016-10-12T00:00:00.000000000'\n",
      " '2016-10-13T00:00:00.000000000' '2016-10-14T00:00:00.000000000'\n",
      " '2016-10-15T00:00:00.000000000' '2016-10-16T00:00:00.000000000'\n",
      " '2016-10-17T00:00:00.000000000' '2016-10-18T00:00:00.000000000'\n",
      " '2016-10-19T00:00:00.000000000' '2016-10-20T00:00:00.000000000'\n",
      " '2016-10-21T00:00:00.000000000' '2016-10-22T00:00:00.000000000'\n",
      " '2016-10-23T00:00:00.000000000' '2016-10-24T00:00:00.000000000'\n",
      " '2016-10-25T00:00:00.000000000' '2016-10-26T00:00:00.000000000'\n",
      " '2016-10-27T00:00:00.000000000' '2016-10-28T00:00:00.000000000'\n",
      " '2016-10-29T00:00:00.000000000' '2016-10-30T00:00:00.000000000'\n",
      " '2016-10-31T00:00:00.000000000' '2016-11-01T00:00:00.000000000'\n",
      " '2016-11-02T00:00:00.000000000' '2016-11-03T00:00:00.000000000'\n",
      " '2016-11-04T00:00:00.000000000' '2016-11-05T00:00:00.000000000'\n",
      " '2016-11-06T00:00:00.000000000' '2016-11-07T00:00:00.000000000'\n",
      " '2016-11-08T00:00:00.000000000' '2016-11-09T00:00:00.000000000'\n",
      " '2016-11-10T00:00:00.000000000' '2016-11-11T00:00:00.000000000'\n",
      " '2016-11-12T00:00:00.000000000' '2016-11-13T00:00:00.000000000'\n",
      " '2016-11-14T00:00:00.000000000' '2016-11-15T00:00:00.000000000'\n",
      " '2016-11-16T00:00:00.000000000' '2016-11-17T00:00:00.000000000'\n",
      " '2016-11-18T00:00:00.000000000' '2016-11-19T00:00:00.000000000'\n",
      " '2016-11-20T00:00:00.000000000' '2016-11-21T00:00:00.000000000'\n",
      " '2016-11-22T00:00:00.000000000' '2016-11-23T00:00:00.000000000'\n",
      " '2016-11-24T00:00:00.000000000' '2016-11-25T00:00:00.000000000'\n",
      " '2016-11-26T00:00:00.000000000' '2016-11-27T00:00:00.000000000'\n",
      " '2016-11-28T00:00:00.000000000' '2016-11-29T00:00:00.000000000'\n",
      " '2016-11-30T00:00:00.000000000' '2016-12-01T00:00:00.000000000'\n",
      " '2016-12-02T00:00:00.000000000' '2016-12-03T00:00:00.000000000'\n",
      " '2016-12-04T00:00:00.000000000' '2016-12-05T00:00:00.000000000'\n",
      " '2016-12-06T00:00:00.000000000' '2016-12-07T00:00:00.000000000'\n",
      " '2016-12-08T00:00:00.000000000' '2016-12-09T00:00:00.000000000'\n",
      " '2016-12-10T00:00:00.000000000' '2016-12-11T00:00:00.000000000'\n",
      " '2016-12-12T00:00:00.000000000' '2016-12-13T00:00:00.000000000'\n",
      " '2016-12-14T00:00:00.000000000' '2016-12-15T00:00:00.000000000'\n",
      " '2016-12-16T00:00:00.000000000' '2016-12-17T00:00:00.000000000'\n",
      " '2016-12-18T00:00:00.000000000' '2016-12-19T00:00:00.000000000'\n",
      " '2016-12-20T00:00:00.000000000' '2016-12-21T00:00:00.000000000'\n",
      " '2016-12-22T00:00:00.000000000' '2016-12-23T00:00:00.000000000'\n",
      " '2016-12-24T00:00:00.000000000' '2016-12-25T00:00:00.000000000'\n",
      " '2016-12-26T00:00:00.000000000' '2016-12-27T00:00:00.000000000'\n",
      " '2016-12-28T00:00:00.000000000' '2016-12-29T00:00:00.000000000'\n",
      " '2016-12-30T00:00:00.000000000' '2016-12-31T00:00:00.000000000'\n",
      " '2017-01-01T00:00:00.000000000' '2017-01-02T00:00:00.000000000'\n",
      " '2017-01-03T00:00:00.000000000' '2017-01-04T00:00:00.000000000'\n",
      " '2017-01-05T00:00:00.000000000' '2017-01-06T00:00:00.000000000'\n",
      " '2017-01-07T00:00:00.000000000' '2017-01-08T00:00:00.000000000'\n",
      " '2017-01-09T00:00:00.000000000' '2017-01-10T00:00:00.000000000'\n",
      " '2017-01-11T00:00:00.000000000' '2017-01-12T00:00:00.000000000'\n",
      " '2017-01-13T00:00:00.000000000' '2017-01-14T00:00:00.000000000'\n",
      " '2017-01-15T00:00:00.000000000' '2017-01-16T00:00:00.000000000'\n",
      " '2017-01-17T00:00:00.000000000' '2017-01-18T00:00:00.000000000'\n",
      " '2017-01-19T00:00:00.000000000' '2017-01-20T00:00:00.000000000'\n",
      " '2017-01-21T00:00:00.000000000' '2017-01-22T00:00:00.000000000'\n",
      " '2017-01-23T00:00:00.000000000' '2017-01-24T00:00:00.000000000'\n",
      " '2017-01-25T00:00:00.000000000' '2017-01-26T00:00:00.000000000'\n",
      " '2017-01-27T00:00:00.000000000' '2017-01-28T00:00:00.000000000'\n",
      " '2017-01-29T00:00:00.000000000' '2017-01-30T00:00:00.000000000'\n",
      " '2017-01-31T00:00:00.000000000' '2017-02-01T00:00:00.000000000'\n",
      " '2017-02-02T00:00:00.000000000' '2017-02-03T00:00:00.000000000'\n",
      " '2017-02-04T00:00:00.000000000' '2017-02-05T00:00:00.000000000'\n",
      " '2017-02-06T00:00:00.000000000' '2017-02-07T00:00:00.000000000'\n",
      " '2017-02-08T00:00:00.000000000' '2017-02-09T00:00:00.000000000'\n",
      " '2017-02-10T00:00:00.000000000' '2017-02-11T00:00:00.000000000'\n",
      " '2017-02-12T00:00:00.000000000' '2017-02-13T00:00:00.000000000'\n",
      " '2017-02-14T00:00:00.000000000' '2017-02-15T00:00:00.000000000'\n",
      " '2017-02-16T00:00:00.000000000' '2017-02-17T00:00:00.000000000'\n",
      " '2017-02-18T00:00:00.000000000' '2017-02-19T00:00:00.000000000'] \n",
      "\n",
      "Quantity [     1      2      3 ... 131712 134333 141660] \n",
      "\n",
      "Dollars [4.14000000e+00 5.22000000e+00 6.47000000e+00 ... 1.40968351e+06\n",
      " 1.46847064e+06 1.66043588e+06] \n",
      "\n",
      "Freight [2.00000e-02 3.00000e-02 4.00000e-02 ... 7.57474e+03 7.75326e+03\n",
      " 8.46822e+03] \n",
      "\n"
     ]
    }
   ],
   "source": [
    "for i in invoicepurchase:\n",
    "    print(i, invoicepurchase[i].sort_values().unique(),'\\n')"
   ]
  },
  {
   "cell_type": "markdown",
   "id": "92054062",
   "metadata": {},
   "source": [
    "# Data visualization:"
   ]
  },
  {
   "cell_type": "markdown",
   "id": "43994613",
   "metadata": {},
   "source": [
    "### Invoice Purchase by Month:"
   ]
  },
  {
   "cell_type": "code",
   "execution_count": 69,
   "id": "f72609d3",
   "metadata": {},
   "outputs": [
    {
     "data": {
      "image/png": "[encoded data removed]",
      "text/plain": [
       "<Figure size 720x432 with 1 Axes>"
      ]
     },
     "metadata": {
      "needs_background": "light"
     },
     "output_type": "display_data"
    }
   ],
   "source": [
    "plt.figure(figsize=(10,6))\n",
    "invoicepurchase.groupby(invoicepurchase['InvoiceDate'].dt.month)['Quantity'].count().plot(kind = 'line', color = 'green')\n",
    "\n",
    "plt.xlabel('Month', color = 'Black', fontweight='bold', fontsize=14)\n",
    "plt.ylabel('Total Quantity', color = 'Black', fontweight='bold', fontsize=14)\n",
    "plt.title('Invoice Purchase by Month', color = 'red', fontweight='bold', fontsize=18)\n",
    "plt.show()"
   ]
  },
  {
   "cell_type": "markdown",
   "id": "0215b2ea",
   "metadata": {},
   "source": [
    "### Top 10 High Purchase Vendors:"
   ]
  },
  {
   "cell_type": "code",
   "execution_count": 70,
   "id": "1a0a7287",
   "metadata": {},
   "outputs": [
    {
     "data": {
      "image/png": "[encoded data removed]",
      "text/plain": [
       "<Figure size 720x432 with 1 Axes>"
      ]
     },
     "metadata": {
      "needs_background": "light"
     },
     "output_type": "display_data"
    }
   ],
   "source": [
    "plt.figure(figsize=(10,6))\n",
    "invoicepurchase.groupby('VendorName')['Quantity'].max().sort_values().tail(10).plot(kind = 'barh', color = colors)\n",
    "\n",
    "plt.xlabel('Quantity', color = 'Black', fontweight='bold', fontsize=14)\n",
    "plt.ylabel('Vendor Name', color = 'Black', fontweight='bold', fontsize=14)\n",
    "plt.title('Top 10 High Purchase Vendors', color = 'red', fontweight='bold', fontsize=18)\n",
    "plt.show()"
   ]
  },
  {
   "cell_type": "code",
   "execution_count": null,
   "id": "cde12f57",
   "metadata": {},
   "outputs": [],
   "source": []
  },
  {
   "cell_type": "markdown",
   "id": "3f578450",
   "metadata": {},
   "source": [
    "# purchase final:"
   ]
  },
  {
   "cell_type": "code",
   "execution_count": 71,
   "id": "49da7e43",
   "metadata": {},
   "outputs": [
    {
     "data": {
      "text/html": [
       "<div>\n",
       "<style scoped>\n",
       "    .dataframe tbody tr th:only-of-type {\n",
       "        vertical-align: middle;\n",
       "    }\n",
       "\n",
       "    .dataframe tbody tr th {\n",
       "        vertical-align: top;\n",
       "    }\n",
       "\n",
       "    .dataframe thead th {\n",
       "        text-align: right;\n",
       "    }\n",
       "</style>\n",
       "<table border=\"1\" class=\"dataframe\">\n",
       "  <thead>\n",
       "    <tr style=\"text-align: right;\">\n",
       "      <th></th>\n",
       "      <th>InventoryId</th>\n",
       "      <th>Store</th>\n",
       "      <th>Brand</th>\n",
       "      <th>Description</th>\n",
       "      <th>Size</th>\n",
       "      <th>VendorNumber</th>\n",
       "      <th>VendorName</th>\n",
       "      <th>PONumber</th>\n",
       "      <th>PODate</th>\n",
       "      <th>ReceivingDate</th>\n",
       "      <th>InvoiceDate</th>\n",
       "      <th>PayDate</th>\n",
       "      <th>PurchasePrice</th>\n",
       "      <th>Quantity</th>\n",
       "      <th>Dollars</th>\n",
       "      <th>Classification</th>\n",
       "    </tr>\n",
       "  </thead>\n",
       "  <tbody>\n",
       "    <tr>\n",
       "      <th>0</th>\n",
       "      <td>69_MOUNTMEND_8412</td>\n",
       "      <td>69</td>\n",
       "      <td>8412</td>\n",
       "      <td>Tequila Ocho Plata Fresno</td>\n",
       "      <td>750mL</td>\n",
       "      <td>105</td>\n",
       "      <td>ALTAMAR BRANDS LLC</td>\n",
       "      <td>8124</td>\n",
       "      <td>2015-12-21</td>\n",
       "      <td>2016-01-02</td>\n",
       "      <td>2016-01-04</td>\n",
       "      <td>2016-02-16</td>\n",
       "      <td>35.71</td>\n",
       "      <td>6</td>\n",
       "      <td>214.26</td>\n",
       "      <td>1</td>\n",
       "    </tr>\n",
       "    <tr>\n",
       "      <th>1</th>\n",
       "      <td>30_CULCHETH_5255</td>\n",
       "      <td>30</td>\n",
       "      <td>5255</td>\n",
       "      <td>TGI Fridays Ultimte Mudslide</td>\n",
       "      <td>1.75L</td>\n",
       "      <td>4466</td>\n",
       "      <td>AMERICAN VINTAGE BEVERAGE</td>\n",
       "      <td>8137</td>\n",
       "      <td>2015-12-22</td>\n",
       "      <td>2016-01-01</td>\n",
       "      <td>2016-01-07</td>\n",
       "      <td>2016-02-21</td>\n",
       "      <td>9.35</td>\n",
       "      <td>4</td>\n",
       "      <td>37.40</td>\n",
       "      <td>1</td>\n",
       "    </tr>\n",
       "    <tr>\n",
       "      <th>2</th>\n",
       "      <td>34_PITMERDEN_5215</td>\n",
       "      <td>34</td>\n",
       "      <td>5215</td>\n",
       "      <td>TGI Fridays Long Island Iced</td>\n",
       "      <td>1.75L</td>\n",
       "      <td>4466</td>\n",
       "      <td>AMERICAN VINTAGE BEVERAGE</td>\n",
       "      <td>8137</td>\n",
       "      <td>2015-12-22</td>\n",
       "      <td>2016-01-02</td>\n",
       "      <td>2016-01-07</td>\n",
       "      <td>2016-02-21</td>\n",
       "      <td>9.41</td>\n",
       "      <td>5</td>\n",
       "      <td>47.05</td>\n",
       "      <td>1</td>\n",
       "    </tr>\n",
       "    <tr>\n",
       "      <th>3</th>\n",
       "      <td>1_HARDERSFIELD_5255</td>\n",
       "      <td>1</td>\n",
       "      <td>5255</td>\n",
       "      <td>TGI Fridays Ultimte Mudslide</td>\n",
       "      <td>1.75L</td>\n",
       "      <td>4466</td>\n",
       "      <td>AMERICAN VINTAGE BEVERAGE</td>\n",
       "      <td>8137</td>\n",
       "      <td>2015-12-22</td>\n",
       "      <td>2016-01-01</td>\n",
       "      <td>2016-01-07</td>\n",
       "      <td>2016-02-21</td>\n",
       "      <td>9.35</td>\n",
       "      <td>6</td>\n",
       "      <td>56.10</td>\n",
       "      <td>1</td>\n",
       "    </tr>\n",
       "    <tr>\n",
       "      <th>4</th>\n",
       "      <td>76_DONCASTER_2034</td>\n",
       "      <td>76</td>\n",
       "      <td>2034</td>\n",
       "      <td>Glendalough Double Barrel</td>\n",
       "      <td>750mL</td>\n",
       "      <td>388</td>\n",
       "      <td>ATLANTIC IMPORTING COMPANY</td>\n",
       "      <td>8169</td>\n",
       "      <td>2015-12-24</td>\n",
       "      <td>2016-01-02</td>\n",
       "      <td>2016-01-09</td>\n",
       "      <td>2016-02-16</td>\n",
       "      <td>21.32</td>\n",
       "      <td>5</td>\n",
       "      <td>106.60</td>\n",
       "      <td>1</td>\n",
       "    </tr>\n",
       "  </tbody>\n",
       "</table>\n",
       "</div>"
      ],
      "text/plain": [
       "           InventoryId  Store  Brand                   Description   Size  \\\n",
       "0    69_MOUNTMEND_8412     69   8412     Tequila Ocho Plata Fresno  750mL   \n",
       "1     30_CULCHETH_5255     30   5255  TGI Fridays Ultimte Mudslide  1.75L   \n",
       "2    34_PITMERDEN_5215     34   5215  TGI Fridays Long Island Iced  1.75L   \n",
       "3  1_HARDERSFIELD_5255      1   5255  TGI Fridays Ultimte Mudslide  1.75L   \n",
       "4    76_DONCASTER_2034     76   2034     Glendalough Double Barrel  750mL   \n",
       "\n",
       "   VendorNumber                   VendorName  PONumber      PODate  \\\n",
       "0           105  ALTAMAR BRANDS LLC               8124  2015-12-21   \n",
       "1          4466  AMERICAN VINTAGE BEVERAGE        8137  2015-12-22   \n",
       "2          4466  AMERICAN VINTAGE BEVERAGE        8137  2015-12-22   \n",
       "3          4466  AMERICAN VINTAGE BEVERAGE        8137  2015-12-22   \n",
       "4           388  ATLANTIC IMPORTING COMPANY       8169  2015-12-24   \n",
       "\n",
       "  ReceivingDate InvoiceDate     PayDate  PurchasePrice  Quantity  Dollars  \\\n",
       "0    2016-01-02  2016-01-04  2016-02-16          35.71         6   214.26   \n",
       "1    2016-01-01  2016-01-07  2016-02-21           9.35         4    37.40   \n",
       "2    2016-01-02  2016-01-07  2016-02-21           9.41         5    47.05   \n",
       "3    2016-01-01  2016-01-07  2016-02-21           9.35         6    56.10   \n",
       "4    2016-01-02  2016-01-09  2016-02-16          21.32         5   106.60   \n",
       "\n",
       "   Classification  \n",
       "0               1  \n",
       "1               1  \n",
       "2               1  \n",
       "3               1  \n",
       "4               1  "
      ]
     },
     "execution_count": 71,
     "metadata": {},
     "output_type": "execute_result"
    }
   ],
   "source": [
    "purchasefinal.head()"
   ]
  },
  {
   "cell_type": "code",
   "execution_count": 72,
   "id": "a97d9135",
   "metadata": {},
   "outputs": [
    {
     "data": {
      "text/plain": [
       "(2372474, 16)"
      ]
     },
     "execution_count": 72,
     "metadata": {},
     "output_type": "execute_result"
    }
   ],
   "source": [
    "purchasefinal.shape"
   ]
  },
  {
   "cell_type": "markdown",
   "id": "482da346",
   "metadata": {},
   "source": [
    "### Duplicate Values:"
   ]
  },
  {
   "cell_type": "code",
   "execution_count": 73,
   "id": "238f3abd",
   "metadata": {},
   "outputs": [
    {
     "data": {
      "text/plain": [
       "0"
      ]
     },
     "execution_count": 73,
     "metadata": {},
     "output_type": "execute_result"
    }
   ],
   "source": [
    "purchasefinal.duplicated().sum()"
   ]
  },
  {
   "cell_type": "markdown",
   "id": "5c46fac7",
   "metadata": {},
   "source": [
    "### Data Types:"
   ]
  },
  {
   "cell_type": "code",
   "execution_count": 74,
   "id": "5c1276a6",
   "metadata": {},
   "outputs": [
    {
     "data": {
      "text/plain": [
       "InventoryId        object\n",
       "Store               int64\n",
       "Brand               int64\n",
       "Description        object\n",
       "Size               object\n",
       "VendorNumber        int64\n",
       "VendorName         object\n",
       "PONumber            int64\n",
       "PODate             object\n",
       "ReceivingDate      object\n",
       "InvoiceDate        object\n",
       "PayDate            object\n",
       "PurchasePrice     float64\n",
       "Quantity            int64\n",
       "Dollars           float64\n",
       "Classification      int64\n",
       "dtype: object"
      ]
     },
     "execution_count": 74,
     "metadata": {},
     "output_type": "execute_result"
    }
   ],
   "source": [
    "purchasefinal.dtypes"
   ]
  },
  {
   "cell_type": "code",
   "execution_count": 75,
   "id": "2af3b838",
   "metadata": {},
   "outputs": [],
   "source": [
    "purchasefinal['ReceivingDate'] = pd.to_datetime(purchasefinal['ReceivingDate'])\n",
    "purchasefinal['InvoiceDate'] = pd.to_datetime(purchasefinal['InvoiceDate'])"
   ]
  },
  {
   "cell_type": "code",
   "execution_count": 76,
   "id": "902111de",
   "metadata": {},
   "outputs": [
    {
     "data": {
      "text/plain": [
       "InventoryId               object\n",
       "Store                      int64\n",
       "Brand                      int64\n",
       "Description               object\n",
       "Size                      object\n",
       "VendorNumber               int64\n",
       "VendorName                object\n",
       "PONumber                   int64\n",
       "PODate                    object\n",
       "ReceivingDate     datetime64[ns]\n",
       "InvoiceDate       datetime64[ns]\n",
       "PayDate                   object\n",
       "PurchasePrice            float64\n",
       "Quantity                   int64\n",
       "Dollars                  float64\n",
       "Classification             int64\n",
       "dtype: object"
      ]
     },
     "execution_count": 76,
     "metadata": {},
     "output_type": "execute_result"
    }
   ],
   "source": [
    "purchasefinal.dtypes"
   ]
  },
  {
   "cell_type": "markdown",
   "id": "fbb3589b",
   "metadata": {},
   "source": [
    "### Null Values:"
   ]
  },
  {
   "cell_type": "code",
   "execution_count": 77,
   "id": "eea430cb",
   "metadata": {},
   "outputs": [
    {
     "data": {
      "text/plain": [
       "InventoryId       0\n",
       "Store             0\n",
       "Brand             0\n",
       "Description       0\n",
       "Size              3\n",
       "VendorNumber      0\n",
       "VendorName        0\n",
       "PONumber          0\n",
       "PODate            0\n",
       "ReceivingDate     0\n",
       "InvoiceDate       0\n",
       "PayDate           0\n",
       "PurchasePrice     0\n",
       "Quantity          0\n",
       "Dollars           0\n",
       "Classification    0\n",
       "dtype: int64"
      ]
     },
     "execution_count": 77,
     "metadata": {},
     "output_type": "execute_result"
    }
   ],
   "source": [
    "purchasefinal.isnull().sum()"
   ]
  },
  {
   "cell_type": "code",
   "execution_count": 78,
   "id": "ae3c78c6",
   "metadata": {},
   "outputs": [],
   "source": [
    "purchasefinal = purchasefinal.dropna()"
   ]
  },
  {
   "cell_type": "code",
   "execution_count": 79,
   "id": "56257ae0",
   "metadata": {},
   "outputs": [
    {
     "data": {
      "text/plain": [
       "0"
      ]
     },
     "execution_count": 79,
     "metadata": {},
     "output_type": "execute_result"
    }
   ],
   "source": [
    "purchasefinal.isnull().sum().sum()"
   ]
  },
  {
   "cell_type": "markdown",
   "id": "2315fc14",
   "metadata": {},
   "source": [
    "# Data Visualization:"
   ]
  },
  {
   "cell_type": "markdown",
   "id": "ff57efac",
   "metadata": {},
   "source": [
    "### Invoice Purchase by Month:"
   ]
  },
  {
   "cell_type": "code",
   "execution_count": 80,
   "id": "0bf416fd",
   "metadata": {},
   "outputs": [
    {
     "data": {
      "image/png": "[encoded data removed]",
      "text/plain": [
       "<Figure size 720x432 with 1 Axes>"
      ]
     },
     "metadata": {
      "needs_background": "light"
     },
     "output_type": "display_data"
    }
   ],
   "source": [
    "plt.figure(figsize=(10,6))\n",
    "purchasefinal.groupby(purchasefinal['InvoiceDate'].dt.month)['Quantity'].count().plot(kind = 'line', color = 'green')\n",
    "\n",
    "plt.xlabel('Month', color = 'Black', fontweight='bold', fontsize=14)\n",
    "plt.ylabel('Total Quantity', color = 'Black', fontweight='bold', fontsize=14)\n",
    "plt.title('Invoice Purchase by Month', color = 'red', fontweight='bold', fontsize=18)\n",
    "plt.show()"
   ]
  },
  {
   "cell_type": "markdown",
   "id": "1df5ab92",
   "metadata": {},
   "source": [
    "# Sales final:"
   ]
  },
  {
   "cell_type": "code",
   "execution_count": 81,
   "id": "89783371",
   "metadata": {},
   "outputs": [
    {
     "data": {
      "text/html": [
       "<div>\n",
       "<style scoped>\n",
       "    .dataframe tbody tr th:only-of-type {\n",
       "        vertical-align: middle;\n",
       "    }\n",
       "\n",
       "    .dataframe tbody tr th {\n",
       "        vertical-align: top;\n",
       "    }\n",
       "\n",
       "    .dataframe thead th {\n",
       "        text-align: right;\n",
       "    }\n",
       "</style>\n",
       "<table border=\"1\" class=\"dataframe\">\n",
       "  <thead>\n",
       "    <tr style=\"text-align: right;\">\n",
       "      <th></th>\n",
       "      <th>InventoryId</th>\n",
       "      <th>Store</th>\n",
       "      <th>Brand</th>\n",
       "      <th>Description</th>\n",
       "      <th>Size</th>\n",
       "      <th>SalesQuantity</th>\n",
       "      <th>SalesDollars</th>\n",
       "      <th>SalesPrice</th>\n",
       "      <th>SalesDate</th>\n",
       "      <th>Volume</th>\n",
       "      <th>Classification</th>\n",
       "      <th>ExciseTax</th>\n",
       "      <th>VendorNo</th>\n",
       "      <th>VendorName</th>\n",
       "    </tr>\n",
       "  </thead>\n",
       "  <tbody>\n",
       "    <tr>\n",
       "      <th>0</th>\n",
       "      <td>1_HARDERSFIELD_1004</td>\n",
       "      <td>1</td>\n",
       "      <td>1004</td>\n",
       "      <td>Jim Beam w/2 Rocks Glasses</td>\n",
       "      <td>750mL</td>\n",
       "      <td>1</td>\n",
       "      <td>16.49</td>\n",
       "      <td>16.49</td>\n",
       "      <td>1/1/2016</td>\n",
       "      <td>750</td>\n",
       "      <td>1</td>\n",
       "      <td>0.79</td>\n",
       "      <td>12546</td>\n",
       "      <td>JIM BEAM BRANDS COMPANY</td>\n",
       "    </tr>\n",
       "    <tr>\n",
       "      <th>1</th>\n",
       "      <td>1_HARDERSFIELD_1004</td>\n",
       "      <td>1</td>\n",
       "      <td>1004</td>\n",
       "      <td>Jim Beam w/2 Rocks Glasses</td>\n",
       "      <td>750mL</td>\n",
       "      <td>2</td>\n",
       "      <td>32.98</td>\n",
       "      <td>16.49</td>\n",
       "      <td>1/2/2016</td>\n",
       "      <td>750</td>\n",
       "      <td>1</td>\n",
       "      <td>1.57</td>\n",
       "      <td>12546</td>\n",
       "      <td>JIM BEAM BRANDS COMPANY</td>\n",
       "    </tr>\n",
       "    <tr>\n",
       "      <th>2</th>\n",
       "      <td>1_HARDERSFIELD_1004</td>\n",
       "      <td>1</td>\n",
       "      <td>1004</td>\n",
       "      <td>Jim Beam w/2 Rocks Glasses</td>\n",
       "      <td>750mL</td>\n",
       "      <td>1</td>\n",
       "      <td>16.49</td>\n",
       "      <td>16.49</td>\n",
       "      <td>1/3/2016</td>\n",
       "      <td>750</td>\n",
       "      <td>1</td>\n",
       "      <td>0.79</td>\n",
       "      <td>12546</td>\n",
       "      <td>JIM BEAM BRANDS COMPANY</td>\n",
       "    </tr>\n",
       "    <tr>\n",
       "      <th>3</th>\n",
       "      <td>1_HARDERSFIELD_1004</td>\n",
       "      <td>1</td>\n",
       "      <td>1004</td>\n",
       "      <td>Jim Beam w/2 Rocks Glasses</td>\n",
       "      <td>750mL</td>\n",
       "      <td>1</td>\n",
       "      <td>14.49</td>\n",
       "      <td>14.49</td>\n",
       "      <td>1/8/2016</td>\n",
       "      <td>750</td>\n",
       "      <td>1</td>\n",
       "      <td>0.79</td>\n",
       "      <td>12546</td>\n",
       "      <td>JIM BEAM BRANDS COMPANY</td>\n",
       "    </tr>\n",
       "    <tr>\n",
       "      <th>4</th>\n",
       "      <td>1_HARDERSFIELD_1005</td>\n",
       "      <td>1</td>\n",
       "      <td>1005</td>\n",
       "      <td>Maker's Mark Combo Pack</td>\n",
       "      <td>375mL 2 Pk</td>\n",
       "      <td>2</td>\n",
       "      <td>69.98</td>\n",
       "      <td>34.99</td>\n",
       "      <td>1/9/2016</td>\n",
       "      <td>375</td>\n",
       "      <td>1</td>\n",
       "      <td>0.79</td>\n",
       "      <td>12546</td>\n",
       "      <td>JIM BEAM BRANDS COMPANY</td>\n",
       "    </tr>\n",
       "  </tbody>\n",
       "</table>\n",
       "</div>"
      ],
      "text/plain": [
       "           InventoryId  Store  Brand                 Description        Size  \\\n",
       "0  1_HARDERSFIELD_1004      1   1004  Jim Beam w/2 Rocks Glasses       750mL   \n",
       "1  1_HARDERSFIELD_1004      1   1004  Jim Beam w/2 Rocks Glasses       750mL   \n",
       "2  1_HARDERSFIELD_1004      1   1004  Jim Beam w/2 Rocks Glasses       750mL   \n",
       "3  1_HARDERSFIELD_1004      1   1004  Jim Beam w/2 Rocks Glasses       750mL   \n",
       "4  1_HARDERSFIELD_1005      1   1005     Maker's Mark Combo Pack  375mL 2 Pk   \n",
       "\n",
       "   SalesQuantity  SalesDollars  SalesPrice SalesDate  Volume  Classification  \\\n",
       "0              1         16.49       16.49  1/1/2016     750               1   \n",
       "1              2         32.98       16.49  1/2/2016     750               1   \n",
       "2              1         16.49       16.49  1/3/2016     750               1   \n",
       "3              1         14.49       14.49  1/8/2016     750               1   \n",
       "4              2         69.98       34.99  1/9/2016     375               1   \n",
       "\n",
       "   ExciseTax  VendorNo                   VendorName  \n",
       "0       0.79     12546  JIM BEAM BRANDS COMPANY      \n",
       "1       1.57     12546  JIM BEAM BRANDS COMPANY      \n",
       "2       0.79     12546  JIM BEAM BRANDS COMPANY      \n",
       "3       0.79     12546  JIM BEAM BRANDS COMPANY      \n",
       "4       0.79     12546  JIM BEAM BRANDS COMPANY      "
      ]
     },
     "execution_count": 81,
     "metadata": {},
     "output_type": "execute_result"
    }
   ],
   "source": [
    "salesfinal.head()"
   ]
  },
  {
   "cell_type": "markdown",
   "id": "c1794256",
   "metadata": {},
   "source": [
    "# Data Visualization:"
   ]
  },
  {
   "cell_type": "markdown",
   "id": "14ed9eac",
   "metadata": {},
   "source": [
    "### Store by Highest Quantity Sales:"
   ]
  },
  {
   "cell_type": "code",
   "execution_count": 102,
   "id": "d6ee5efa",
   "metadata": {},
   "outputs": [
    {
     "data": {
      "image/png": "[encoded data removed]",
      "text/plain": [
       "<Figure size 720x432 with 1 Axes>"
      ]
     },
     "metadata": {
      "needs_background": "light"
     },
     "output_type": "display_data"
    }
   ],
   "source": [
    "\n",
    "plt.figure(figsize=(10,6))\n",
    "salesfinal.groupby('Store')['SalesQuantity'].sum().sort_values(ascending = False).head(10).plot(kind = 'bar', color = colors)\n",
    "\n",
    "plt.xlabel('Store', color = 'Black', fontweight='bold', fontsize=14)\n",
    "plt.ylabel('Sales Quantity', color = 'Black', fontweight='bold', fontsize=14)\n",
    "plt.title('Store by Highest Quantity Sales', color = 'red', fontweight='bold', fontsize=18)\n",
    "plt.show()"
   ]
  },
  {
   "cell_type": "markdown",
   "id": "433ac19d",
   "metadata": {},
   "source": [
    "### Description by Revenue:"
   ]
  },
  {
   "cell_type": "code",
   "execution_count": 98,
   "id": "b094766a",
   "metadata": {},
   "outputs": [
    {
     "data": {
      "image/png": "[encoded data removed]",
      "text/plain": [
       "<Figure size 720x432 with 1 Axes>"
      ]
     },
     "metadata": {
      "needs_background": "light"
     },
     "output_type": "display_data"
    }
   ],
   "source": [
    "plt.figure(figsize=(10,6))\n",
    "salesfinal.groupby('Description')['SalesPrice'].sum().sort_values().tail(10).plot(kind = 'barh', color = colors)\n",
    "\n",
    "plt.xlabel('Description', color = 'Black', fontweight='bold', fontsize=14)\n",
    "plt.ylabel('Revenue', color = 'Black', fontweight='bold', fontsize=14)\n",
    "plt.title('Description by Revenue', color = 'red', fontweight='bold', fontsize=18)\n",
    "plt.show()"
   ]
  },
  {
   "cell_type": "markdown",
   "id": "8e770264",
   "metadata": {},
   "source": [
    "### Description by Max Excise tax:"
   ]
  },
  {
   "cell_type": "code",
   "execution_count": 104,
   "id": "1590da28",
   "metadata": {},
   "outputs": [
    {
     "data": {
      "image/png": "[encoded data removed]",
      "text/plain": [
       "<Figure size 720x432 with 1 Axes>"
      ]
     },
     "metadata": {
      "needs_background": "light"
     },
     "output_type": "display_data"
    }
   ],
   "source": [
    "plt.figure(figsize=(10,6))\n",
    "salesfinal.groupby('Description')['ExciseTax'].max().sort_values().tail(10).plot(kind = 'barh', color = colors)\n",
    "\n",
    "plt.xlabel('Description', color = 'Black', fontweight='bold', fontsize=14)\n",
    "plt.ylabel('Revenue', color = 'Black', fontweight='bold', fontsize=14)\n",
    "plt.title('Description by Max Excise tax', color = 'red', fontweight='bold', fontsize=18)\n",
    "plt.show()"
   ]
  }
 ],
 "metadata": {
  "kernelspec": {
   "display_name": "Python 3 (ipykernel)",
   "language": "python",
   "name": "python3"
  },
  "language_info": {
   "codemirror_mode": {
    "name": "ipython",
    "version": 3
   },
   "file_extension": ".py",
   "mimetype": "text/x-python",
   "name": "python",
   "nbconvert_exporter": "python",
   "pygments_lexer": "ipython3",
   "version": "3.10.1"
  }
 },
 "nbformat": 4,
 "nbformat_minor": 5
}
